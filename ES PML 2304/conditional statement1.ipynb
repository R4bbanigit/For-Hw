{
 "cells": [
  {
   "cell_type": "code",
   "execution_count": 1,
   "id": "2f7f3d3a",
   "metadata": {},
   "outputs": [
    {
     "name": "stdout",
     "output_type": "stream",
     "text": [
      "enter your marks: 20\n",
      "Poor\n"
     ]
    }
   ],
   "source": [
    "student_marks = float(input(\"enter your marks: \"))\n",
    "if student_marks>90 and student_marks<=100:\n",
    "    print(\"Exellent\")\n",
    "elif student_marks>=70 and student_marks<=90:\n",
    "    print(\"Very Good\")\n",
    "elif student_marks>=60 and student_marks<=69:\n",
    "    print(\"Good\")\n",
    "elif student_marks>=40 and student_marks<=59:\n",
    "    print(\"Average\")\n",
    "elif student_marks<39:\n",
    "    print(\"Poor\")\n",
    "else:\n",
    "    print(\"\")"
   ]
  },
  {
   "cell_type": "code",
   "execution_count": null,
   "id": "4cea7eee",
   "metadata": {},
   "outputs": [],
   "source": [
    " "
   ]
  }
 ],
 "metadata": {
  "kernelspec": {
   "display_name": "Python 3 (ipykernel)",
   "language": "python",
   "name": "python3"
  },
  "language_info": {
   "codemirror_mode": {
    "name": "ipython",
    "version": 3
   },
   "file_extension": ".py",
   "mimetype": "text/x-python",
   "name": "python",
   "nbconvert_exporter": "python",
   "pygments_lexer": "ipython3",
   "version": "3.11.5"
  }
 },
 "nbformat": 4,
 "nbformat_minor": 5
}
