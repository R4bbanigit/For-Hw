{
 "cells": [
  {
   "cell_type": "code",
   "execution_count": 1,
   "id": "2fd3fa75",
   "metadata": {},
   "outputs": [
    {
     "name": "stdout",
     "output_type": "stream",
     "text": [
      "Edward 36 Banker Australia\n"
     ]
    }
   ],
   "source": [
    "class parent:\n",
    "    def __init__(self):\n",
    "        self.name = \"Edward\"\n",
    "        \n",
    "class child(parent):\n",
    "    def __init__(self):\n",
    "        parent.__init__(self)\n",
    "        self.prof = \"Banker\"\n",
    "        self.age = 36\n",
    "        \n",
    "class child1(child):\n",
    "    def __init__(self):\n",
    "        child.__init__(self)\n",
    "        self.county = 'Australia'\n",
    "        \n",
    "    def disp(self):\n",
    "        print(self.name,self.age, self.prof, self.county)\n",
    "        \n",
    "obj = child1()\n",
    "obj.disp()"
   ]
  },
  {
   "cell_type": "code",
   "execution_count": 3,
   "id": "f6351793",
   "metadata": {},
   "outputs": [
    {
     "name": "stdout",
     "output_type": "stream",
     "text": [
      "Louis 25 Police America\n"
     ]
    }
   ],
   "source": [
    "class parent:\n",
    "    def __init__(self):\n",
    "        self.name = \"Louis\"\n",
    "        self.age = 25\n",
    "        \n",
    "class child1:\n",
    "    def __init__(self):\n",
    "        self.county = \"America\"\n",
    "        \n",
    "class child2(parent,child1):\n",
    "    def __init__(self):\n",
    "        parent.__init__(self)\n",
    "        child1.__init__(self)\n",
    "        self.prof = \"Police\"\n",
    "        \n",
    "    def disp(self):\n",
    "        print(self.name, self.age, self.prof, self.county)\n",
    "        \n",
    "obj = child2()\n",
    "obj.disp()\n",
    "        "
   ]
  },
  {
   "cell_type": "code",
   "execution_count": null,
   "id": "70e0ad72",
   "metadata": {},
   "outputs": [],
   "source": []
  }
 ],
 "metadata": {
  "kernelspec": {
   "display_name": "Python 3 (ipykernel)",
   "language": "python",
   "name": "python3"
  },
  "language_info": {
   "codemirror_mode": {
    "name": "ipython",
    "version": 3
   },
   "file_extension": ".py",
   "mimetype": "text/x-python",
   "name": "python",
   "nbconvert_exporter": "python",
   "pygments_lexer": "ipython3",
   "version": "3.11.5"
  }
 },
 "nbformat": 4,
 "nbformat_minor": 5
}
