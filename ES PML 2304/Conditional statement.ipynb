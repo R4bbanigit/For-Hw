{
 "cells": [
  {
   "cell_type": "code",
   "execution_count": null,
   "id": "fc5ab296",
   "metadata": {},
   "outputs": [],
   "source": [
    "a = 10\n",
    "b = 10\n",
    "if a>b:\n",
    "    print(\"a is greater\")\n",
    "if b>a:\n",
    "    print(\"b is greater\")\n",
    "else:\n",
    "    print(\"Both are equal\")\n",
    "    "
   ]
  },
  {
   "cell_type": "code",
   "execution_count": null,
   "id": "7302d532",
   "metadata": {},
   "outputs": [],
   "source": [
    "a = 11\n",
    "b = 15\n",
    "if a>b:\n",
    "    print(\"a is greater\")\n",
    "elif b>a:\n",
    "    print(\"b is greater\")\n",
    "elif a==b:\n",
    "    print(\"Both are equal\")"
   ]
  },
  {
   "cell_type": "code",
   "execution_count": null,
   "id": "368cd5a5",
   "metadata": {},
   "outputs": [],
   "source": [
    "a = 15\n",
    "b = 10\n",
    "if a>b:\n",
    "    print(\"a is greater\")\n",
    "if a>b:\n",
    "    print(\"b is greater\")\n",
    "if a>b:\n",
    "    print(\"Both are equal\")"
   ]
  },
  {
   "cell_type": "code",
   "execution_count": null,
   "id": "64cb3496",
   "metadata": {},
   "outputs": [],
   "source": [
    "a = 25\n",
    "b = 20\n",
    "if a>b:\n",
    "    print(\"a is greater\")\n",
    "elif a>b:\n",
    "    print(\"b is greater\")\n",
    "elif a>b:\n",
    "    print(\"Both are equal\")"
   ]
  },
  {
   "cell_type": "code",
   "execution_count": null,
   "id": "1b7428fb",
   "metadata": {},
   "outputs": [],
   "source": [
    "a = 10\n",
    "b = 10\n",
    "if a>b:\n",
    "    print(\"a is greater\")\n",
    "elif b>a:\n",
    "    print(\"b is greater\")\n",
    "elif a==b:\n",
    "    print(\"Both are equal\")"
   ]
  },
  {
   "cell_type": "code",
   "execution_count": null,
   "id": "77bc3268",
   "metadata": {},
   "outputs": [],
   "source": [
    "a = 10\n",
    "b = 10\n",
    "if a>b:\n",
    "    print(\"a is greater\")\n",
    "elif b>a:\n",
    "    print(\"b is greater\")\n",
    "else:\n",
    "    print(\"Both are equal\")"
   ]
  },
  {
   "cell_type": "code",
   "execution_count": null,
   "id": "50d11816",
   "metadata": {},
   "outputs": [],
   "source": [
    "student_marks = int(input(\"enter your marks: \"))\n",
    "if student_marks>90:\n",
    "    print(\"Exellent\")\n",
    "elif student_marks>=70 and student_marks<=90:\n",
    "    print(\"Very Good\")\n",
    "elif student_marks>=60 and student_marks<=69:\n",
    "    print(\"Good\")\n",
    "elif student_marks>=40 and student_marks<=59:\n",
    "    print(\"Average\")\n",
    "else:\n",
    "    print(\"Poor\")"
   ]
  },
  {
   "cell_type": "code",
   "execution_count": null,
   "id": "4c33d178",
   "metadata": {},
   "outputs": [],
   "source": []
  },
  {
   "cell_type": "code",
   "execution_count": null,
   "id": "eb8254fb",
   "metadata": {},
   "outputs": [],
   "source": []
  },
  {
   "cell_type": "code",
   "execution_count": null,
   "id": "7eef0b68",
   "metadata": {},
   "outputs": [],
   "source": []
  },
  {
   "cell_type": "code",
   "execution_count": null,
   "id": "120b7b65",
   "metadata": {},
   "outputs": [],
   "source": []
  },
  {
   "cell_type": "code",
   "execution_count": null,
   "id": "e77ef5fb",
   "metadata": {},
   "outputs": [],
   "source": []
  },
  {
   "cell_type": "code",
   "execution_count": null,
   "id": "e16aeb96",
   "metadata": {},
   "outputs": [],
   "source": [
    "\n",
    "    "
   ]
  },
  {
   "cell_type": "code",
   "execution_count": null,
   "id": "f5534dbf",
   "metadata": {},
   "outputs": [],
   "source": []
  },
  {
   "cell_type": "code",
   "execution_count": null,
   "id": "2e44c627",
   "metadata": {},
   "outputs": [],
   "source": []
  }
 ],
 "metadata": {
  "kernelspec": {
   "display_name": "Python 3 (ipykernel)",
   "language": "python",
   "name": "python3"
  },
  "language_info": {
   "codemirror_mode": {
    "name": "ipython",
    "version": 3
   },
   "file_extension": ".py",
   "mimetype": "text/x-python",
   "name": "python",
   "nbconvert_exporter": "python",
   "pygments_lexer": "ipython3",
   "version": "3.11.5"
  }
 },
 "nbformat": 4,
 "nbformat_minor": 5
}
