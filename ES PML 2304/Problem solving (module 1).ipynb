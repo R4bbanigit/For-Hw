{
 "cells": [
  {
   "cell_type": "code",
   "execution_count": 1,
   "id": "b42df75a",
   "metadata": {},
   "outputs": [
    {
     "data": {
      "text/plain": [
       "[4, 9, 16, 25, 36]"
      ]
     },
     "execution_count": 1,
     "metadata": {},
     "output_type": "execute_result"
    }
   ],
   "source": [
    "# List comprehention (Normal)\n",
    "list1 = []\n",
    "list2 = [2,3,4,5,6]\n",
    "\n",
    "for i in list2:\n",
    "    list1.append(i*i)\n",
    "    \n",
    "list1"
   ]
  },
  {
   "cell_type": "code",
   "execution_count": 2,
   "id": "cadef860",
   "metadata": {},
   "outputs": [],
   "source": [
    "#List Comprehention\n",
    "list2 = [2,3,4,5,6]\n",
    "list1 = [i*i for i in list2]\n"
   ]
  },
  {
   "cell_type": "code",
   "execution_count": 3,
   "id": "211ba95c",
   "metadata": {},
   "outputs": [
    {
     "data": {
      "text/plain": [
       "[4, 9, 16, 25, 36]"
      ]
     },
     "execution_count": 3,
     "metadata": {},
     "output_type": "execute_result"
    }
   ],
   "source": [
    "list1"
   ]
  },
  {
   "cell_type": "code",
   "execution_count": 4,
   "id": "5f88cbaa",
   "metadata": {},
   "outputs": [
    {
     "data": {
      "text/plain": [
       "[4, 6, 16, 10, 36]"
      ]
     },
     "execution_count": 4,
     "metadata": {},
     "output_type": "execute_result"
    }
   ],
   "source": [
    "list2 = [2,3,4,5,6]\n",
    "list1 = []\n",
    "\n",
    "for i in list2:\n",
    "    if i%2==0:\n",
    "        list1.append(i*i)\n",
    "    else:\n",
    "        list1.append(i*2)\n",
    "list1"
   ]
  },
  {
   "cell_type": "code",
   "execution_count": 5,
   "id": "1506103f",
   "metadata": {},
   "outputs": [],
   "source": [
    "list1= [i*i if i%2==0 else i*2 for i in list2]"
   ]
  },
  {
   "cell_type": "code",
   "execution_count": 6,
   "id": "0dc1d0bf",
   "metadata": {},
   "outputs": [
    {
     "data": {
      "text/plain": [
       "[4, 6, 16, 10, 36]"
      ]
     },
     "execution_count": 6,
     "metadata": {},
     "output_type": "execute_result"
    }
   ],
   "source": [
    "list1"
   ]
  },
  {
   "cell_type": "code",
   "execution_count": 7,
   "id": "a94f5410",
   "metadata": {},
   "outputs": [
    {
     "data": {
      "text/plain": [
       "15"
      ]
     },
     "execution_count": 7,
     "metadata": {},
     "output_type": "execute_result"
    }
   ],
   "source": [
    "import module\n",
    "\n",
    "module.addition(5,10)"
   ]
  },
  {
   "cell_type": "code",
   "execution_count": 8,
   "id": "91a828a2",
   "metadata": {},
   "outputs": [
    {
     "data": {
      "text/plain": [
       "4"
      ]
     },
     "execution_count": 8,
     "metadata": {},
     "output_type": "execute_result"
    }
   ],
   "source": [
    "module.substraction(10,6)"
   ]
  },
  {
   "cell_type": "code",
   "execution_count": 9,
   "id": "253f822c",
   "metadata": {},
   "outputs": [
    {
     "data": {
      "text/plain": [
       "60"
      ]
     },
     "execution_count": 9,
     "metadata": {},
     "output_type": "execute_result"
    }
   ],
   "source": [
    "module.multiplication(12,5)"
   ]
  },
  {
   "cell_type": "code",
   "execution_count": 10,
   "id": "96751614",
   "metadata": {},
   "outputs": [
    {
     "data": {
      "text/plain": [
       "5.0"
      ]
     },
     "execution_count": 10,
     "metadata": {},
     "output_type": "execute_result"
    }
   ],
   "source": [
    "module.division(10,2)"
   ]
  },
  {
   "cell_type": "code",
   "execution_count": 12,
   "id": "8c473c45",
   "metadata": {},
   "outputs": [],
   "source": [
    "from module import addition"
   ]
  },
  {
   "cell_type": "code",
   "execution_count": 13,
   "id": "d2d5f0dd",
   "metadata": {},
   "outputs": [
    {
     "data": {
      "text/plain": [
       "8"
      ]
     },
     "execution_count": 13,
     "metadata": {},
     "output_type": "execute_result"
    }
   ],
   "source": [
    "addition(4,4)"
   ]
  },
  {
   "cell_type": "code",
   "execution_count": 14,
   "id": "37ea7bf7",
   "metadata": {},
   "outputs": [],
   "source": [
    "from module import division"
   ]
  },
  {
   "cell_type": "code",
   "execution_count": 15,
   "id": "21d4a3a2",
   "metadata": {},
   "outputs": [
    {
     "data": {
      "text/plain": [
       "5.0"
      ]
     },
     "execution_count": 15,
     "metadata": {},
     "output_type": "execute_result"
    }
   ],
   "source": [
    "division(15,3)"
   ]
  },
  {
   "cell_type": "code",
   "execution_count": 16,
   "id": "9281b0f4",
   "metadata": {},
   "outputs": [],
   "source": [
    "from module import multiplication\n"
   ]
  },
  {
   "cell_type": "code",
   "execution_count": 17,
   "id": "a136c94f",
   "metadata": {},
   "outputs": [
    {
     "data": {
      "text/plain": [
       "20"
      ]
     },
     "execution_count": 17,
     "metadata": {},
     "output_type": "execute_result"
    }
   ],
   "source": [
    "multiplication(4,5)"
   ]
  },
  {
   "cell_type": "code",
   "execution_count": 18,
   "id": "bfb474ff",
   "metadata": {},
   "outputs": [],
   "source": [
    "# Create a python if-else program to check if the given numbers are greater or not, also\n",
    "# check whether the given number is an armstrong number or not, and check whether the\n",
    "# given number is a prime number or not. Make use of python if-else, and elif statements\n",
    "# for the same"
   ]
  },
  {
   "cell_type": "code",
   "execution_count": 59,
   "id": "d1a34d89",
   "metadata": {},
   "outputs": [
    {
     "name": "stdout",
     "output_type": "stream",
     "text": [
      "9474\n",
      "6561\n",
      "256\n",
      "2401\n",
      "256\n",
      "Armstrong Number\n",
      "2\n",
      "Non Prime\n"
     ]
    }
   ],
   "source": [
    "n = input()\n",
    "sum1 = 0\n",
    "for i in (n):\n",
    "    print(int(i)**len(n))\n",
    "    sum1 = sum1+ int(i)**len(n)\n",
    "    \n",
    "if int(n)== sum1:\n",
    "    print(\"Armstrong Number\")\n",
    "\n",
    "else:\n",
    "    print(\"Not Armstrong Number\")\n",
    "    \n",
    "a = \"Prime\"   \n",
    "for i in range (2,int(n)):\n",
    "    if int(n)%i == 0:\n",
    "        print(i)\n",
    "        a = \"Non Prime\"\n",
    "        break\n",
    "print(a)       \n",
    "    "
   ]
  },
  {
   "cell_type": "code",
   "execution_count": null,
   "id": "2aec8d5e",
   "metadata": {},
   "outputs": [],
   "source": [
    "# Create a fibonacci sequence using python if-else statements."
   ]
  },
  {
   "cell_type": "code",
   "execution_count": 63,
   "id": "5733fae9",
   "metadata": {},
   "outputs": [
    {
     "data": {
      "text/plain": [
       "[0, 1, 1, 2, 3, 5, 8, 13, 21, 34]"
      ]
     },
     "execution_count": 63,
     "metadata": {},
     "output_type": "execute_result"
    }
   ],
   "source": [
    "seq = 10\n",
    "a = 0\n",
    "b = 1\n",
    "list1 = [0,1]\n",
    "for i in range (seq-2):\n",
    "    c = a+b\n",
    "    a = b\n",
    "    b = c\n",
    "    list1.append(c)\n",
    "    \n",
    "list1"
   ]
  },
  {
   "cell_type": "code",
   "execution_count": 64,
   "id": "667c26cf",
   "metadata": {},
   "outputs": [],
   "source": [
    "# Create a calculator program for addition, subtraction, multiplication and floor division.\n",
    "# Take the inputs from the user, and based on the choice of operation, return the results."
   ]
  },
  {
   "cell_type": "code",
   "execution_count": null,
   "id": "4afa0c50",
   "metadata": {},
   "outputs": [
    {
     "name": "stdout",
     "output_type": "stream",
     "text": [
      "Enter first number: 130\n",
      "Enter choice (+/-/*/ /): /\n",
      "Enter sencond number: 4\n",
      "100.0 / 4.0 = 25.0\n"
     ]
    }
   ],
   "source": [
    "num1 = float(input(\"Enter first number: \"))\n",
    "def add(x,y):\n",
    "    return x + y\n",
    "    \n",
    "def subtract(x,y):\n",
    "    return x - y\n",
    "\n",
    "def multiply (x,y):\n",
    "    return x * y\n",
    "\n",
    "def divide (x,y):\n",
    "    return x // y\n",
    "\n",
    "while True:\n",
    "    choice = input(\"Enter choice (+/-/*/ /): \")\n",
    "    if choice in (\"+\",\"-\",\"*\",\"/\"):\n",
    "        try:\n",
    "            n2 = num2 = float(input(\"Enter sencond number: \"))\n",
    "            \n",
    "        except ValueError:\n",
    "            print(\"Invalid input.Please enter a number. \")\n",
    "            continue\n",
    "\n",
    "        if choice == \"+\":\n",
    "            print(n1, \"+\", n2, \"=\",add(n1,2))\n",
    "\n",
    "        elif choice == \"-\":\n",
    "            print(n1, \"-\",n2 ,\"=\",subtract(n1,n2))\n",
    "\n",
    "        elif choice == \"*\":\n",
    "            print(n1,\"*\",n2, \"=\", multiply(n1,n2))\n",
    "\n",
    "        elif choice == \"/\":\n",
    "            print(n1,\"/\", n2, \"=\",divide(n1,n2))\n",
    "\n",
    "        nxt_calculation = input(\"Let's do next calculation? (yes/no): \")\n",
    "        if nxt_calculation == \"no\":\n",
    "            break\n",
    "    else:\n",
    "        print(\"Invalid Input\")\n",
    "        \n",
    "print(\"Select Operation.\")\n",
    "print(\"+.Add\")\n",
    "print(\"-.Subtract\")\n",
    "print(\"*.Multiply\")\n",
    "print(\"/.Divide\")"
   ]
  },
  {
   "cell_type": "code",
   "execution_count": null,
   "id": "f5e323b6",
   "metadata": {},
   "outputs": [],
   "source": []
  },
  {
   "cell_type": "code",
   "execution_count": null,
   "id": "2817adbd",
   "metadata": {},
   "outputs": [],
   "source": []
  }
 ],
 "metadata": {
  "kernelspec": {
   "display_name": "Python 3 (ipykernel)",
   "language": "python",
   "name": "python3"
  },
  "language_info": {
   "codemirror_mode": {
    "name": "ipython",
    "version": 3
   },
   "file_extension": ".py",
   "mimetype": "text/x-python",
   "name": "python",
   "nbconvert_exporter": "python",
   "pygments_lexer": "ipython3",
   "version": "3.11.5"
  }
 },
 "nbformat": 4,
 "nbformat_minor": 5
}
