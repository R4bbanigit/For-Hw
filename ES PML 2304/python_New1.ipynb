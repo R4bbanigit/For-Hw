{
 "cells": [
  {
   "cell_type": "code",
   "execution_count": 10,
   "id": "f68d855a",
   "metadata": {},
   "outputs": [
    {
     "name": "stdout",
     "output_type": "stream",
     "text": [
      "4\n"
     ]
    }
   ],
   "source": [
    "print(2+2)"
   ]
  },
  {
   "cell_type": "markdown",
   "id": "021f6dd1",
   "metadata": {},
   "source": [
    "# Arithmetic Operator"
   ]
  },
  {
   "cell_type": "code",
   "execution_count": 22,
   "id": "d2bbbb92",
   "metadata": {},
   "outputs": [
    {
     "name": "stdout",
     "output_type": "stream",
     "text": [
      "4\n",
      "1\n",
      "10\n",
      "5.0\n",
      "5\n",
      "2\n",
      "16\n"
     ]
    }
   ],
   "source": [
    "# Addition\n",
    "print(2+2)\n",
    "\n",
    "# Substraction\n",
    "print(4-3)\n",
    "\n",
    "# Multiplication\n",
    "print(5*2)\n",
    "\n",
    "# Division\n",
    "print(10/2)\n",
    "\n",
    "# floor division\n",
    "print(10//2)\n",
    "\n",
    "# Remainder\n",
    "print(10%4)\n",
    "\n",
    "# Power\n",
    "print(2**4)"
   ]
  },
  {
   "cell_type": "markdown",
   "id": "7728390a",
   "metadata": {},
   "source": [
    "# Variables"
   ]
  },
  {
   "cell_type": "code",
   "execution_count": 25,
   "id": "37e40656",
   "metadata": {},
   "outputs": [],
   "source": [
    "vagfdgdfr = 5"
   ]
  },
  {
   "cell_type": "code",
   "execution_count": 26,
   "id": "090ca363",
   "metadata": {},
   "outputs": [
    {
     "name": "stdout",
     "output_type": "stream",
     "text": [
      "5\n"
     ]
    }
   ],
   "source": [
    "print(vagfdgdfr)"
   ]
  },
  {
   "cell_type": "code",
   "execution_count": null,
   "id": "83476ea1",
   "metadata": {},
   "outputs": [],
   "source": [
    "# Rule to name a variable\n",
    "\n",
    "# first char alphabet- capital or small(mandatory)\n",
    "# digit or special chat (&<*) are not allowed as first char\n",
    "# digit are allowed in between - v1ar,var1,var_1,var_123\n",
    "# special not allowed in the name of the variable except _\n",
    "# var name can start using _ as well"
   ]
  },
  {
   "cell_type": "code",
   "execution_count": null,
   "id": "ac96a08d",
   "metadata": {},
   "outputs": [],
   "source": [
    "allowed - \n",
    "not allowed - "
   ]
  },
  {
   "cell_type": "markdown",
   "id": "ed654ed8",
   "metadata": {},
   "source": [
    "# Comparison Operator"
   ]
  },
  {
   "cell_type": "code",
   "execution_count": 38,
   "id": "4ab5e87b",
   "metadata": {},
   "outputs": [],
   "source": [
    "a = 5\n",
    "b = 5"
   ]
  },
  {
   "cell_type": "code",
   "execution_count": 44,
   "id": "9b601deb",
   "metadata": {},
   "outputs": [
    {
     "data": {
      "text/plain": [
       "False"
      ]
     },
     "execution_count": 44,
     "metadata": {},
     "output_type": "execute_result"
    }
   ],
   "source": [
    "a > b"
   ]
  },
  {
   "cell_type": "code",
   "execution_count": 35,
   "id": "b409c283",
   "metadata": {},
   "outputs": [
    {
     "data": {
      "text/plain": [
       "True"
      ]
     },
     "execution_count": 35,
     "metadata": {},
     "output_type": "execute_result"
    }
   ],
   "source": [
    "a < b"
   ]
  },
  {
   "cell_type": "code",
   "execution_count": 41,
   "id": "2e3be8f9",
   "metadata": {},
   "outputs": [
    {
     "data": {
      "text/plain": [
       "True"
      ]
     },
     "execution_count": 41,
     "metadata": {},
     "output_type": "execute_result"
    }
   ],
   "source": [
    "a >= b \n",
    "# a>b or a==b"
   ]
  },
  {
   "cell_type": "code",
   "execution_count": 45,
   "id": "546c35e9",
   "metadata": {},
   "outputs": [
    {
     "data": {
      "text/plain": [
       "True"
      ]
     },
     "execution_count": 45,
     "metadata": {},
     "output_type": "execute_result"
    }
   ],
   "source": [
    "a<=b"
   ]
  },
  {
   "cell_type": "code",
   "execution_count": 46,
   "id": "cacfbfa3",
   "metadata": {},
   "outputs": [
    {
     "data": {
      "text/plain": [
       "False"
      ]
     },
     "execution_count": 46,
     "metadata": {},
     "output_type": "execute_result"
    }
   ],
   "source": [
    "a != b "
   ]
  },
  {
   "cell_type": "code",
   "execution_count": 43,
   "id": "b5924896",
   "metadata": {},
   "outputs": [
    {
     "data": {
      "text/plain": [
       "True"
      ]
     },
     "execution_count": 43,
     "metadata": {},
     "output_type": "execute_result"
    }
   ],
   "source": [
    "a == 5"
   ]
  },
  {
   "cell_type": "code",
   "execution_count": null,
   "id": "5e8115f3",
   "metadata": {},
   "outputs": [],
   "source": [
    "a == b\n",
    "\n",
    "a,b - variable/operands\n",
    "== operator\n"
   ]
  },
  {
   "cell_type": "markdown",
   "id": "0e2228e2",
   "metadata": {},
   "source": [
    "# Adding a value in a variable"
   ]
  },
  {
   "cell_type": "code",
   "execution_count": 47,
   "id": "ae520f44",
   "metadata": {},
   "outputs": [
    {
     "name": "stdout",
     "output_type": "stream",
     "text": [
      "5\n"
     ]
    }
   ],
   "source": [
    "a = 5\n",
    "print(a)"
   ]
  },
  {
   "cell_type": "code",
   "execution_count": 48,
   "id": "9fc9340d",
   "metadata": {},
   "outputs": [
    {
     "name": "stdout",
     "output_type": "stream",
     "text": [
      "6\n"
     ]
    }
   ],
   "source": [
    "a = 6\n",
    "print(a)"
   ]
  },
  {
   "cell_type": "code",
   "execution_count": 49,
   "id": "1e22537c",
   "metadata": {},
   "outputs": [
    {
     "data": {
      "text/plain": [
       "3.3333333333333335"
      ]
     },
     "execution_count": 49,
     "metadata": {},
     "output_type": "execute_result"
    }
   ],
   "source": [
    "1"
   ]
  },
  {
   "cell_type": "code",
   "execution_count": 1,
   "id": "7f064ef5",
   "metadata": {},
   "outputs": [
    {
     "name": "stdout",
     "output_type": "stream",
     "text": [
      "Quoient 2\n",
      "remainder 3\n"
     ]
    }
   ],
   "source": [
    "\n",
    "print('Quoient',11//4)\n",
    "print('remainder',11%4)"
   ]
  },
  {
   "cell_type": "code",
   "execution_count": 53,
   "id": "d68d24a5",
   "metadata": {},
   "outputs": [
    {
     "ename": "SyntaxError",
     "evalue": "invalid syntax (964953622.py, line 2)",
     "output_type": "error",
     "traceback": [
      "\u001b[1;36m  Input \u001b[1;32mIn [53]\u001b[1;36m\u001b[0m\n\u001b[1;33m    data type - int,float,str\u001b[0m\n\u001b[1;37m         ^\u001b[0m\n\u001b[1;31mSyntaxError\u001b[0m\u001b[1;31m:\u001b[0m invalid syntax\n"
     ]
    }
   ],
   "source": [
    "operator \n",
    "data type - int,float,str\n",
    "data structure - list,dict,tuple,set\n",
    "\n",
    "# Tutorial\n",
    "w3school\n",
    "javatutorial\n"
   ]
  },
  {
   "cell_type": "markdown",
   "id": "5d1b3a6d",
   "metadata": {},
   "source": [
    "# Logical Operator"
   ]
  },
  {
   "cell_type": "code",
   "execution_count": 1,
   "id": "30aeba0b",
   "metadata": {},
   "outputs": [
    {
     "data": {
      "text/plain": [
       "False"
      ]
     },
     "execution_count": 1,
     "metadata": {},
     "output_type": "execute_result"
    }
   ],
   "source": [
    "a = 5\n",
    "b = 6\n",
    "\n",
    "a>10 and b>10"
   ]
  },
  {
   "cell_type": "code",
   "execution_count": 2,
   "id": "9240ef67",
   "metadata": {},
   "outputs": [
    {
     "data": {
      "text/plain": [
       "False"
      ]
     },
     "execution_count": 2,
     "metadata": {},
     "output_type": "execute_result"
    }
   ],
   "source": [
    "a>10 and b<10"
   ]
  },
  {
   "cell_type": "code",
   "execution_count": 3,
   "id": "433e8f32",
   "metadata": {},
   "outputs": [
    {
     "data": {
      "text/plain": [
       "True"
      ]
     },
     "execution_count": 3,
     "metadata": {},
     "output_type": "execute_result"
    }
   ],
   "source": [
    "a<10 and b<10"
   ]
  },
  {
   "cell_type": "code",
   "execution_count": 4,
   "id": "60188ee9",
   "metadata": {},
   "outputs": [
    {
     "data": {
      "text/plain": [
       "False"
      ]
     },
     "execution_count": 4,
     "metadata": {},
     "output_type": "execute_result"
    }
   ],
   "source": [
    "a>10 or b>10"
   ]
  },
  {
   "cell_type": "code",
   "execution_count": 5,
   "id": "24a83fc3",
   "metadata": {},
   "outputs": [
    {
     "data": {
      "text/plain": [
       "True"
      ]
     },
     "execution_count": 5,
     "metadata": {},
     "output_type": "execute_result"
    }
   ],
   "source": [
    "a>10 or b<10"
   ]
  },
  {
   "cell_type": "code",
   "execution_count": 6,
   "id": "d4b36f88",
   "metadata": {},
   "outputs": [
    {
     "data": {
      "text/plain": [
       "True"
      ]
     },
     "execution_count": 6,
     "metadata": {},
     "output_type": "execute_result"
    }
   ],
   "source": [
    "a<10 or b<10"
   ]
  },
  {
   "cell_type": "code",
   "execution_count": 11,
   "id": "5fcdb195",
   "metadata": {},
   "outputs": [
    {
     "data": {
      "text/plain": [
       "True"
      ]
     },
     "execution_count": 11,
     "metadata": {},
     "output_type": "execute_result"
    }
   ],
   "source": [
    "not a>10"
   ]
  },
  {
   "cell_type": "code",
   "execution_count": 12,
   "id": "406b6f0f",
   "metadata": {},
   "outputs": [
    {
     "data": {
      "text/plain": [
       "True"
      ]
     },
     "execution_count": 12,
     "metadata": {},
     "output_type": "execute_result"
    }
   ],
   "source": [
    "a == 5 "
   ]
  },
  {
   "cell_type": "code",
   "execution_count": null,
   "id": "8d1d0a8b",
   "metadata": {},
   "outputs": [],
   "source": [
    "a!=5"
   ]
  },
  {
   "cell_type": "code",
   "execution_count": 16,
   "id": "73afe44b",
   "metadata": {},
   "outputs": [],
   "source": [
    "a = 5"
   ]
  },
  {
   "cell_type": "code",
   "execution_count": 14,
   "id": "d0b21806",
   "metadata": {},
   "outputs": [
    {
     "name": "stderr",
     "output_type": "stream",
     "text": [
      "<>:1: SyntaxWarning: \"is\" with a literal. Did you mean \"==\"?\n",
      "<>:1: SyntaxWarning: \"is\" with a literal. Did you mean \"==\"?\n",
      "C:\\Users\\Smritik Sadhukhan\\AppData\\Local\\Temp\\ipykernel_4692\\3165069480.py:1: SyntaxWarning: \"is\" with a literal. Did you mean \"==\"?\n",
      "  a is 5\n"
     ]
    },
    {
     "data": {
      "text/plain": [
       "True"
      ]
     },
     "execution_count": 14,
     "metadata": {},
     "output_type": "execute_result"
    }
   ],
   "source": [
    "a is 5"
   ]
  },
  {
   "cell_type": "code",
   "execution_count": 15,
   "id": "970c30ea",
   "metadata": {},
   "outputs": [
    {
     "name": "stderr",
     "output_type": "stream",
     "text": [
      "<>:1: SyntaxWarning: \"is not\" with a literal. Did you mean \"!=\"?\n",
      "<>:1: SyntaxWarning: \"is not\" with a literal. Did you mean \"!=\"?\n",
      "C:\\Users\\Smritik Sadhukhan\\AppData\\Local\\Temp\\ipykernel_4692\\1977639868.py:1: SyntaxWarning: \"is not\" with a literal. Did you mean \"!=\"?\n",
      "  a is not 5\n"
     ]
    },
    {
     "data": {
      "text/plain": [
       "False"
      ]
     },
     "execution_count": 15,
     "metadata": {},
     "output_type": "execute_result"
    }
   ],
   "source": [
    "a is not 5"
   ]
  },
  {
   "cell_type": "code",
   "execution_count": 17,
   "id": "4f77675a",
   "metadata": {},
   "outputs": [
    {
     "data": {
      "text/plain": [
       "True"
      ]
     },
     "execution_count": 17,
     "metadata": {},
     "output_type": "execute_result"
    }
   ],
   "source": [
    "5 in (5,7,8,9)"
   ]
  },
  {
   "cell_type": "code",
   "execution_count": 23,
   "id": "4309d839",
   "metadata": {},
   "outputs": [],
   "source": [
    "a = 5 not in (5,7,8,9)"
   ]
  },
  {
   "cell_type": "code",
   "execution_count": 22,
   "id": "1e159726",
   "metadata": {},
   "outputs": [
    {
     "data": {
      "text/plain": [
       "True"
      ]
     },
     "execution_count": 22,
     "metadata": {},
     "output_type": "execute_result"
    }
   ],
   "source": [
    "4 not in (5,7,8,9)"
   ]
  },
  {
   "cell_type": "code",
   "execution_count": 24,
   "id": "cedba973",
   "metadata": {},
   "outputs": [
    {
     "data": {
      "text/plain": [
       "bool"
      ]
     },
     "execution_count": 24,
     "metadata": {},
     "output_type": "execute_result"
    }
   ],
   "source": [
    "type(a)"
   ]
  },
  {
   "cell_type": "code",
   "execution_count": 21,
   "id": "a864ce81",
   "metadata": {},
   "outputs": [
    {
     "name": "stdout",
     "output_type": "stream",
     "text": [
      "5\n"
     ]
    }
   ],
   "source": [
    "print(a)"
   ]
  },
  {
   "cell_type": "markdown",
   "id": "a51df9fa",
   "metadata": {},
   "source": [
    "# Data Types"
   ]
  },
  {
   "cell_type": "code",
   "execution_count": null,
   "id": "87c10593",
   "metadata": {},
   "outputs": [],
   "source": [
    "int  6,8,100,100000,-100,\n",
    "float  9.0,8.1,5.4,-0.3,-000000000000000000.1\n",
    "string \"hello\",'H','Hello world','4','7.8',\"5\"\n",
    "bool True,False \n"
   ]
  },
  {
   "cell_type": "code",
   "execution_count": 89,
   "id": "b37d9c0d",
   "metadata": {},
   "outputs": [],
   "source": [
    "var = \"I'am going to the station\""
   ]
  },
  {
   "cell_type": "code",
   "execution_count": 90,
   "id": "b545b056",
   "metadata": {},
   "outputs": [
    {
     "data": {
      "text/plain": [
       "str"
      ]
     },
     "execution_count": 90,
     "metadata": {},
     "output_type": "execute_result"
    }
   ],
   "source": [
    "type(var)"
   ]
  },
  {
   "cell_type": "code",
   "execution_count": 78,
   "id": "1f30f308",
   "metadata": {},
   "outputs": [
    {
     "data": {
      "text/plain": [
       "0"
      ]
     },
     "execution_count": 78,
     "metadata": {},
     "output_type": "execute_result"
    }
   ],
   "source": [
    "int(float(var))"
   ]
  },
  {
   "cell_type": "code",
   "execution_count": 79,
   "id": "6054ac83",
   "metadata": {},
   "outputs": [
    {
     "data": {
      "text/plain": [
       "0.0"
      ]
     },
     "execution_count": 79,
     "metadata": {},
     "output_type": "execute_result"
    }
   ],
   "source": [
    "float(var)"
   ]
  },
  {
   "cell_type": "code",
   "execution_count": 93,
   "id": "6df75682",
   "metadata": {},
   "outputs": [],
   "source": [
    "a = 4 + 3j\n",
    "b = 5 + 5j"
   ]
  },
  {
   "cell_type": "code",
   "execution_count": 95,
   "id": "17d10630",
   "metadata": {},
   "outputs": [
    {
     "data": {
      "text/plain": [
       "(-1-2j)"
      ]
     },
     "execution_count": 95,
     "metadata": {},
     "output_type": "execute_result"
    }
   ],
   "source": [
    "a-b"
   ]
  },
  {
   "cell_type": "markdown",
   "id": "9e015cb2",
   "metadata": {},
   "source": [
    "# Data Structure"
   ]
  },
  {
   "cell_type": "code",
   "execution_count": null,
   "id": "b561d55e",
   "metadata": {},
   "outputs": [],
   "source": [
    "list\n",
    "set\n",
    "tuple\n",
    "dictionary"
   ]
  },
  {
   "cell_type": "markdown",
   "id": "395a022d",
   "metadata": {},
   "source": [
    "# list"
   ]
  },
  {
   "cell_type": "code",
   "execution_count": 96,
   "id": "6190dccb",
   "metadata": {},
   "outputs": [],
   "source": [
    "roll = [1,2,3,4,5,6,7,8,9,10]"
   ]
  },
  {
   "cell_type": "code",
   "execution_count": 97,
   "id": "2c544674",
   "metadata": {},
   "outputs": [
    {
     "data": {
      "text/plain": [
       "list"
      ]
     },
     "execution_count": 97,
     "metadata": {},
     "output_type": "execute_result"
    }
   ],
   "source": [
    "type(roll)"
   ]
  },
  {
   "cell_type": "code",
   "execution_count": 98,
   "id": "4c52d66a",
   "metadata": {},
   "outputs": [
    {
     "data": {
      "text/plain": [
       "10"
      ]
     },
     "execution_count": 98,
     "metadata": {},
     "output_type": "execute_result"
    }
   ],
   "source": [
    "len(roll)"
   ]
  },
  {
   "cell_type": "code",
   "execution_count": 101,
   "id": "49beda5e",
   "metadata": {},
   "outputs": [
    {
     "data": {
      "text/plain": [
       "10"
      ]
     },
     "execution_count": 101,
     "metadata": {},
     "output_type": "execute_result"
    }
   ],
   "source": [
    "marks = [65,43,78,56,100,67,98,65,98,12]\n",
    "len(marks)"
   ]
  },
  {
   "cell_type": "code",
   "execution_count": 102,
   "id": "ceeaf580",
   "metadata": {},
   "outputs": [],
   "source": [
    "list1 = ['helo','h',3,3.5,True]"
   ]
  },
  {
   "cell_type": "code",
   "execution_count": 103,
   "id": "6de42f54",
   "metadata": {},
   "outputs": [
    {
     "data": {
      "text/plain": [
       "list"
      ]
     },
     "execution_count": 103,
     "metadata": {},
     "output_type": "execute_result"
    }
   ],
   "source": [
    "type(list1)"
   ]
  },
  {
   "cell_type": "code",
   "execution_count": 104,
   "id": "9ed137fa",
   "metadata": {},
   "outputs": [
    {
     "data": {
      "text/plain": [
       "5"
      ]
     },
     "execution_count": 104,
     "metadata": {},
     "output_type": "execute_result"
    }
   ],
   "source": [
    "len(list1)"
   ]
  },
  {
   "cell_type": "code",
   "execution_count": null,
   "id": "90839058",
   "metadata": {},
   "outputs": [],
   "source": [
    "marks = [65,43,78,56,100,67,98,65,98,12]\n",
    "len(marks)"
   ]
  },
  {
   "cell_type": "code",
   "execution_count": 132,
   "id": "8dcfd934",
   "metadata": {},
   "outputs": [
    {
     "data": {
      "text/plain": [
       "[43, 78, 56, 100, 67, 98, 65]"
      ]
     },
     "execution_count": 132,
     "metadata": {},
     "output_type": "execute_result"
    }
   ],
   "source": [
    "marks[1:8]"
   ]
  },
  {
   "cell_type": "code",
   "execution_count": 140,
   "id": "5cfcd8af",
   "metadata": {},
   "outputs": [
    {
     "data": {
      "text/plain": [
       "[65, 100, 98]"
      ]
     },
     "execution_count": 140,
     "metadata": {},
     "output_type": "execute_result"
    }
   ],
   "source": [
    "marks[::4]"
   ]
  },
  {
   "cell_type": "code",
   "execution_count": 141,
   "id": "e187fab9",
   "metadata": {},
   "outputs": [
    {
     "data": {
      "text/plain": [
       "[65, 43, 78, 56, 100, 67, 98, 65, 98, 12]"
      ]
     },
     "execution_count": 141,
     "metadata": {},
     "output_type": "execute_result"
    }
   ],
   "source": [
    "marks[:]"
   ]
  },
  {
   "cell_type": "code",
   "execution_count": 149,
   "id": "be31acc9",
   "metadata": {},
   "outputs": [],
   "source": [
    "marks = [100,65,43,78,56,100,67,98,65,98,12]\n"
   ]
  },
  {
   "cell_type": "code",
   "execution_count": 155,
   "id": "0aa1bb59",
   "metadata": {},
   "outputs": [
    {
     "data": {
      "text/plain": [
       "[100, 56, 65]"
      ]
     },
     "execution_count": 155,
     "metadata": {},
     "output_type": "execute_result"
    }
   ],
   "source": [
    "[marks[0]]+[marks[4]]+[marks[8]]"
   ]
  },
  {
   "cell_type": "code",
   "execution_count": 144,
   "id": "bb963293",
   "metadata": {},
   "outputs": [
    {
     "data": {
      "text/plain": [
       "[78, 100]"
      ]
     },
     "execution_count": 144,
     "metadata": {},
     "output_type": "execute_result"
    }
   ],
   "source": [
    "marks[-8:-4:2]"
   ]
  },
  {
   "cell_type": "code",
   "execution_count": 146,
   "id": "31e1b7ab",
   "metadata": {
    "scrolled": false
   },
   "outputs": [
    {
     "data": {
      "text/plain": [
       "[65, 43, 78, 56]"
      ]
     },
     "execution_count": 146,
     "metadata": {},
     "output_type": "execute_result"
    }
   ],
   "source": [
    "marks[:-6]"
   ]
  },
  {
   "cell_type": "code",
   "execution_count": null,
   "id": "e8daa6fc",
   "metadata": {},
   "outputs": [],
   "source": []
  },
  {
   "cell_type": "code",
   "execution_count": 2,
   "id": "0b04f6e5",
   "metadata": {},
   "outputs": [],
   "source": [
    "# Indexing\n",
    "# Slcing - postive and negative"
   ]
  },
  {
   "cell_type": "code",
   "execution_count": 49,
   "id": "83468b29",
   "metadata": {},
   "outputs": [
    {
     "data": {
      "text/plain": [
       "10"
      ]
     },
     "execution_count": 49,
     "metadata": {},
     "output_type": "execute_result"
    }
   ],
   "source": [
    "marks = [65,43,78,56,100,67,98,65,98,12]\n",
    "len(marks)"
   ]
  },
  {
   "cell_type": "code",
   "execution_count": 5,
   "id": "b80db27f",
   "metadata": {},
   "outputs": [
    {
     "data": {
      "text/plain": [
       "10"
      ]
     },
     "execution_count": 5,
     "metadata": {},
     "output_type": "execute_result"
    }
   ],
   "source": [
    "len(marks)"
   ]
  },
  {
   "cell_type": "code",
   "execution_count": 6,
   "id": "cdb5edac",
   "metadata": {},
   "outputs": [
    {
     "data": {
      "text/plain": [
       "12"
      ]
     },
     "execution_count": 6,
     "metadata": {},
     "output_type": "execute_result"
    }
   ],
   "source": [
    "min(marks)"
   ]
  },
  {
   "cell_type": "code",
   "execution_count": 7,
   "id": "d9fd9b6c",
   "metadata": {},
   "outputs": [
    {
     "data": {
      "text/plain": [
       "100"
      ]
     },
     "execution_count": 7,
     "metadata": {},
     "output_type": "execute_result"
    }
   ],
   "source": [
    "max(marks)"
   ]
  },
  {
   "cell_type": "code",
   "execution_count": 4,
   "id": "474ca7f6",
   "metadata": {},
   "outputs": [
    {
     "data": {
      "text/plain": [
       "68.2"
      ]
     },
     "execution_count": 4,
     "metadata": {},
     "output_type": "execute_result"
    }
   ],
   "source": [
    "marks = [65,43,78,56,100,67,98,65,98,12]\n",
    "sum(marks)/10"
   ]
  },
  {
   "cell_type": "code",
   "execution_count": 10,
   "id": "8a313fe9",
   "metadata": {},
   "outputs": [
    {
     "data": {
      "text/plain": [
       "2"
      ]
     },
     "execution_count": 10,
     "metadata": {},
     "output_type": "execute_result"
    }
   ],
   "source": [
    "marks.count(65)"
   ]
  },
  {
   "cell_type": "code",
   "execution_count": 11,
   "id": "37702e67",
   "metadata": {},
   "outputs": [
    {
     "data": {
      "text/plain": [
       "list"
      ]
     },
     "execution_count": 11,
     "metadata": {},
     "output_type": "execute_result"
    }
   ],
   "source": [
    "type(marks)"
   ]
  },
  {
   "cell_type": "code",
   "execution_count": 14,
   "id": "3f488dd4",
   "metadata": {},
   "outputs": [],
   "source": [
    "# mutable - modify,add,remove"
   ]
  },
  {
   "cell_type": "code",
   "execution_count": null,
   "id": "4bc88a32",
   "metadata": {},
   "outputs": [],
   "source": [
    "# add - append,insert"
   ]
  },
  {
   "cell_type": "code",
   "execution_count": 16,
   "id": "ed916a38",
   "metadata": {},
   "outputs": [
    {
     "data": {
      "text/plain": [
       "[65, 43, 78, 56, 100, 67, 98, 65, 98, 12]"
      ]
     },
     "execution_count": 16,
     "metadata": {},
     "output_type": "execute_result"
    }
   ],
   "source": [
    "marks"
   ]
  },
  {
   "cell_type": "code",
   "execution_count": 17,
   "id": "704b5d7d",
   "metadata": {},
   "outputs": [],
   "source": [
    "marks.append(100)"
   ]
  },
  {
   "cell_type": "code",
   "execution_count": 18,
   "id": "b8da4088",
   "metadata": {},
   "outputs": [
    {
     "data": {
      "text/plain": [
       "[65, 43, 78, 56, 100, 67, 98, 65, 98, 12, 100]"
      ]
     },
     "execution_count": 18,
     "metadata": {},
     "output_type": "execute_result"
    }
   ],
   "source": [
    "marks"
   ]
  },
  {
   "cell_type": "code",
   "execution_count": 22,
   "id": "378a7eba",
   "metadata": {},
   "outputs": [],
   "source": [
    "marks.insert(2,100)"
   ]
  },
  {
   "cell_type": "code",
   "execution_count": 20,
   "id": "24bea20e",
   "metadata": {},
   "outputs": [
    {
     "data": {
      "text/plain": [
       "[65, 43, 100, 78, 56, 100, 67, 98, 65, 98, 12, 100]"
      ]
     },
     "execution_count": 20,
     "metadata": {},
     "output_type": "execute_result"
    }
   ],
   "source": [
    "marks"
   ]
  },
  {
   "cell_type": "markdown",
   "id": "72e5d3c7",
   "metadata": {},
   "source": []
  },
  {
   "cell_type": "code",
   "execution_count": null,
   "id": "a8b175b5",
   "metadata": {},
   "outputs": [],
   "source": [
    "# remove-remove,pop,del"
   ]
  },
  {
   "cell_type": "code",
   "execution_count": 23,
   "id": "1cef77b3",
   "metadata": {},
   "outputs": [
    {
     "data": {
      "text/plain": [
       "[65, 43, 100, 100, 78, 56, 100, 67, 98, 65, 98, 12, 100]"
      ]
     },
     "execution_count": 23,
     "metadata": {},
     "output_type": "execute_result"
    }
   ],
   "source": [
    "marks"
   ]
  },
  {
   "cell_type": "code",
   "execution_count": 24,
   "id": "4b087ad1",
   "metadata": {},
   "outputs": [],
   "source": [
    "marks.remove(98)"
   ]
  },
  {
   "cell_type": "code",
   "execution_count": 25,
   "id": "0b0515cd",
   "metadata": {},
   "outputs": [
    {
     "data": {
      "text/plain": [
       "[65, 43, 100, 100, 78, 56, 100, 67, 65, 98, 12, 100]"
      ]
     },
     "execution_count": 25,
     "metadata": {},
     "output_type": "execute_result"
    }
   ],
   "source": [
    "marks"
   ]
  },
  {
   "cell_type": "code",
   "execution_count": 26,
   "id": "914b838d",
   "metadata": {},
   "outputs": [],
   "source": [
    "marks.remove(100)"
   ]
  },
  {
   "cell_type": "code",
   "execution_count": 27,
   "id": "c7ab199e",
   "metadata": {},
   "outputs": [
    {
     "data": {
      "text/plain": [
       "[65, 43, 100, 78, 56, 100, 67, 65, 98, 12, 100]"
      ]
     },
     "execution_count": 27,
     "metadata": {},
     "output_type": "execute_result"
    }
   ],
   "source": [
    "marks"
   ]
  },
  {
   "cell_type": "code",
   "execution_count": 28,
   "id": "cba442f6",
   "metadata": {},
   "outputs": [
    {
     "data": {
      "text/plain": [
       "65"
      ]
     },
     "execution_count": 28,
     "metadata": {},
     "output_type": "execute_result"
    }
   ],
   "source": [
    "marks.pop(0)"
   ]
  },
  {
   "cell_type": "code",
   "execution_count": 29,
   "id": "0dfbc283",
   "metadata": {},
   "outputs": [
    {
     "data": {
      "text/plain": [
       "[43, 100, 78, 56, 100, 67, 65, 98, 12, 100]"
      ]
     },
     "execution_count": 29,
     "metadata": {},
     "output_type": "execute_result"
    }
   ],
   "source": [
    "marks"
   ]
  },
  {
   "cell_type": "code",
   "execution_count": 35,
   "id": "8f25a840",
   "metadata": {},
   "outputs": [
    {
     "data": {
      "text/plain": [
       "98"
      ]
     },
     "execution_count": 35,
     "metadata": {},
     "output_type": "execute_result"
    }
   ],
   "source": [
    "marks.pop(-1)"
   ]
  },
  {
   "cell_type": "code",
   "execution_count": 36,
   "id": "0347cc14",
   "metadata": {},
   "outputs": [
    {
     "data": {
      "text/plain": [
       "[43, 100, 78, 56, 100, 67, 65]"
      ]
     },
     "execution_count": 36,
     "metadata": {},
     "output_type": "execute_result"
    }
   ],
   "source": [
    "marks"
   ]
  },
  {
   "cell_type": "code",
   "execution_count": 39,
   "id": "b2fafc6d",
   "metadata": {},
   "outputs": [],
   "source": [
    "del marks[:]"
   ]
  },
  {
   "cell_type": "code",
   "execution_count": 45,
   "id": "0119d2d7",
   "metadata": {},
   "outputs": [],
   "source": [
    "marks.clear()"
   ]
  },
  {
   "cell_type": "code",
   "execution_count": 48,
   "id": "44d597ec",
   "metadata": {},
   "outputs": [
    {
     "ename": "NameError",
     "evalue": "name 'marks' is not defined",
     "output_type": "error",
     "traceback": [
      "\u001b[1;31m---------------------------------------------------------------------------\u001b[0m",
      "\u001b[1;31mNameError\u001b[0m                                 Traceback (most recent call last)",
      "Input \u001b[1;32mIn [48]\u001b[0m, in \u001b[0;36m<cell line: 1>\u001b[1;34m()\u001b[0m\n\u001b[1;32m----> 1\u001b[0m \u001b[43mmarks\u001b[49m\n",
      "\u001b[1;31mNameError\u001b[0m: name 'marks' is not defined"
     ]
    }
   ],
   "source": [
    "marks"
   ]
  },
  {
   "cell_type": "code",
   "execution_count": 47,
   "id": "15720350",
   "metadata": {},
   "outputs": [],
   "source": [
    "del marks"
   ]
  },
  {
   "cell_type": "code",
   "execution_count": 58,
   "id": "8c154e15",
   "metadata": {},
   "outputs": [],
   "source": [
    "mark1 = marks\n",
    "marks = [12,78,45]"
   ]
  },
  {
   "cell_type": "code",
   "execution_count": 52,
   "id": "ff9d458a",
   "metadata": {},
   "outputs": [
    {
     "data": {
      "text/plain": [
       "[65, 43, 78, 56, 100, 67, 98, 65, 98, 12, 12, 78, 45]"
      ]
     },
     "execution_count": 52,
     "metadata": {},
     "output_type": "execute_result"
    }
   ],
   "source": [
    "mark1+marks"
   ]
  },
  {
   "cell_type": "code",
   "execution_count": 54,
   "id": "804196d8",
   "metadata": {},
   "outputs": [],
   "source": [
    "marks.extend(mark1)"
   ]
  },
  {
   "cell_type": "markdown",
   "id": "e1919dff",
   "metadata": {},
   "source": [
    "marks"
   ]
  },
  {
   "cell_type": "code",
   "execution_count": 55,
   "id": "edd711af",
   "metadata": {},
   "outputs": [
    {
     "data": {
      "text/plain": [
       "[12, 78, 45, 65, 43, 78, 56, 100, 67, 98, 65, 98, 12]"
      ]
     },
     "execution_count": 55,
     "metadata": {},
     "output_type": "execute_result"
    }
   ],
   "source": [
    "marks"
   ]
  },
  {
   "cell_type": "code",
   "execution_count": 57,
   "id": "6df9c6e6",
   "metadata": {},
   "outputs": [
    {
     "data": {
      "text/plain": [
       "[65, 43, 78, 56, 100, 67, 98, 65, 98, 12]"
      ]
     },
     "execution_count": 57,
     "metadata": {},
     "output_type": "execute_result"
    }
   ],
   "source": [
    "mark1"
   ]
  },
  {
   "cell_type": "code",
   "execution_count": 68,
   "id": "47b78384",
   "metadata": {},
   "outputs": [],
   "source": [
    "a =[1,2,3]\n",
    "b =[5,6,7]"
   ]
  },
  {
   "cell_type": "code",
   "execution_count": 60,
   "id": "a216ce00",
   "metadata": {},
   "outputs": [],
   "source": [
    "a.extend(b)"
   ]
  },
  {
   "cell_type": "code",
   "execution_count": 61,
   "id": "a1aca337",
   "metadata": {},
   "outputs": [
    {
     "data": {
      "text/plain": [
       "[1, 2, 3, 5, 6, 7]"
      ]
     },
     "execution_count": 61,
     "metadata": {},
     "output_type": "execute_result"
    }
   ],
   "source": [
    "a"
   ]
  },
  {
   "cell_type": "code",
   "execution_count": 62,
   "id": "cb2f7978",
   "metadata": {},
   "outputs": [
    {
     "data": {
      "text/plain": [
       "[5, 6, 7]"
      ]
     },
     "execution_count": 62,
     "metadata": {},
     "output_type": "execute_result"
    }
   ],
   "source": [
    "b"
   ]
  },
  {
   "cell_type": "code",
   "execution_count": 64,
   "id": "cd14c488",
   "metadata": {},
   "outputs": [],
   "source": [
    "b.extend(a)"
   ]
  },
  {
   "cell_type": "code",
   "execution_count": 65,
   "id": "b03b89f2",
   "metadata": {},
   "outputs": [
    {
     "data": {
      "text/plain": [
       "[5, 6, 7, 1, 2, 3]"
      ]
     },
     "execution_count": 65,
     "metadata": {},
     "output_type": "execute_result"
    }
   ],
   "source": [
    "b"
   ]
  },
  {
   "cell_type": "code",
   "execution_count": 66,
   "id": "113cb83e",
   "metadata": {},
   "outputs": [
    {
     "data": {
      "text/plain": [
       "[1, 2, 3]"
      ]
     },
     "execution_count": 66,
     "metadata": {},
     "output_type": "execute_result"
    }
   ],
   "source": [
    "a"
   ]
  },
  {
   "cell_type": "code",
   "execution_count": 69,
   "id": "60166099",
   "metadata": {},
   "outputs": [
    {
     "data": {
      "text/plain": [
       "[1, 5, 6, 7, 2, 3]"
      ]
     },
     "execution_count": 69,
     "metadata": {},
     "output_type": "execute_result"
    }
   ],
   "source": [
    "a[:1]+b+a[1:]"
   ]
  },
  {
   "cell_type": "code",
   "execution_count": 71,
   "id": "c44235fe",
   "metadata": {},
   "outputs": [],
   "source": [
    "s1 = 'a'\n",
    "s2 = 'b'\n",
    "\n",
    "s3 = s1+s2"
   ]
  },
  {
   "cell_type": "code",
   "execution_count": 72,
   "id": "e1a6cb9a",
   "metadata": {},
   "outputs": [
    {
     "data": {
      "text/plain": [
       "'ab'"
      ]
     },
     "execution_count": 72,
     "metadata": {},
     "output_type": "execute_result"
    }
   ],
   "source": [
    "s3"
   ]
  },
  {
   "cell_type": "code",
   "execution_count": 74,
   "id": "3fb7fad5",
   "metadata": {},
   "outputs": [],
   "source": [
    "# Tuple"
   ]
  },
  {
   "cell_type": "code",
   "execution_count": null,
   "id": "8bd79607",
   "metadata": {},
   "outputs": [],
   "source": [
    "list and tuple are almost same except 1 - tuple are immutable"
   ]
  },
  {
   "cell_type": "code",
   "execution_count": 75,
   "id": "3a93de50",
   "metadata": {},
   "outputs": [
    {
     "data": {
      "text/plain": [
       "tuple"
      ]
     },
     "execution_count": 75,
     "metadata": {},
     "output_type": "execute_result"
    }
   ],
   "source": [
    "var = (1,2,3,4)\n",
    "type(var)"
   ]
  },
  {
   "cell_type": "code",
   "execution_count": 76,
   "id": "cdbda39b",
   "metadata": {},
   "outputs": [
    {
     "data": {
      "text/plain": [
       "1"
      ]
     },
     "execution_count": 76,
     "metadata": {},
     "output_type": "execute_result"
    }
   ],
   "source": [
    "var[0]"
   ]
  },
  {
   "cell_type": "code",
   "execution_count": 77,
   "id": "1660a5e6",
   "metadata": {},
   "outputs": [
    {
     "data": {
      "text/plain": [
       "(2, 3)"
      ]
     },
     "execution_count": 77,
     "metadata": {},
     "output_type": "execute_result"
    }
   ],
   "source": [
    "var[1:3]"
   ]
  },
  {
   "cell_type": "code",
   "execution_count": 81,
   "id": "b705272f",
   "metadata": {},
   "outputs": [],
   "source": [
    "var2  =(5,6)\n",
    "var3 = var+var2"
   ]
  },
  {
   "cell_type": "code",
   "execution_count": 82,
   "id": "b2b71d85",
   "metadata": {},
   "outputs": [
    {
     "data": {
      "text/plain": [
       "(1, 2, 3, 4, 5, 6)"
      ]
     },
     "execution_count": 82,
     "metadata": {},
     "output_type": "execute_result"
    }
   ],
   "source": [
    "var3"
   ]
  },
  {
   "cell_type": "code",
   "execution_count": 1,
   "id": "56584e54",
   "metadata": {},
   "outputs": [
    {
     "data": {
      "text/plain": [
       "list"
      ]
     },
     "execution_count": 1,
     "metadata": {},
     "output_type": "execute_result"
    }
   ],
   "source": [
    "var = [[11,22,33],2,3,'a']\n",
    "type(var)"
   ]
  },
  {
   "cell_type": "code",
   "execution_count": 106,
   "id": "17e6296f",
   "metadata": {},
   "outputs": [],
   "source": [
    "var[1]=100"
   ]
  },
  {
   "cell_type": "code",
   "execution_count": 107,
   "id": "b84a8395",
   "metadata": {},
   "outputs": [
    {
     "data": {
      "text/plain": [
       "[[11, 22, 33], 100, 3, 'a']"
      ]
     },
     "execution_count": 107,
     "metadata": {},
     "output_type": "execute_result"
    }
   ],
   "source": [
    "var"
   ]
  },
  {
   "cell_type": "code",
   "execution_count": 110,
   "id": "1e002f03",
   "metadata": {},
   "outputs": [],
   "source": [
    "var[0][2]=333"
   ]
  },
  {
   "cell_type": "code",
   "execution_count": 111,
   "id": "9adfc766",
   "metadata": {},
   "outputs": [
    {
     "data": {
      "text/plain": [
       "[[11, 22, 333], 100, 3, 'a']"
      ]
     },
     "execution_count": 111,
     "metadata": {},
     "output_type": "execute_result"
    }
   ],
   "source": [
    "var"
   ]
  },
  {
   "cell_type": "code",
   "execution_count": 114,
   "id": "c91ed9ce",
   "metadata": {},
   "outputs": [],
   "source": [
    "var = ([11,22],2,3)"
   ]
  },
  {
   "cell_type": "code",
   "execution_count": 119,
   "id": "6407146f",
   "metadata": {},
   "outputs": [],
   "source": [
    "var[0][1]=111"
   ]
  },
  {
   "cell_type": "code",
   "execution_count": 120,
   "id": "6876777e",
   "metadata": {},
   "outputs": [
    {
     "data": {
      "text/plain": [
       "([11, 111], 2, 3)"
      ]
     },
     "execution_count": 120,
     "metadata": {},
     "output_type": "execute_result"
    }
   ],
   "source": [
    "var"
   ]
  },
  {
   "cell_type": "code",
   "execution_count": null,
   "id": "cec2a0a3",
   "metadata": {},
   "outputs": [],
   "source": [
    "set"
   ]
  },
  {
   "cell_type": "code",
   "execution_count": 121,
   "id": "8c302491",
   "metadata": {},
   "outputs": [
    {
     "data": {
      "text/plain": [
       "set"
      ]
     },
     "execution_count": 121,
     "metadata": {},
     "output_type": "execute_result"
    }
   ],
   "source": [
    "set1 = {1,2}\n",
    "type(set1)"
   ]
  },
  {
   "cell_type": "code",
   "execution_count": 122,
   "id": "6637755b",
   "metadata": {},
   "outputs": [
    {
     "data": {
      "text/plain": [
       "2"
      ]
     },
     "execution_count": 122,
     "metadata": {},
     "output_type": "execute_result"
    }
   ],
   "source": [
    "len(set1)"
   ]
  },
  {
   "cell_type": "code",
   "execution_count": 148,
   "id": "744f7a49",
   "metadata": {},
   "outputs": [
    {
     "data": {
      "text/plain": [
       "[5, 6, 1, 6, 2, 5, 7, 90, 'a']"
      ]
     },
     "execution_count": 148,
     "metadata": {},
     "output_type": "execute_result"
    }
   ],
   "source": [
    "list1 = [5,6,1,6,2,5,7,90,'a']\n",
    "list1"
   ]
  },
  {
   "cell_type": "code",
   "execution_count": 149,
   "id": "880c2ab6",
   "metadata": {},
   "outputs": [
    {
     "data": {
      "text/plain": [
       "{1, 2, 5, 6, 7, 90, 'a'}"
      ]
     },
     "execution_count": 149,
     "metadata": {},
     "output_type": "execute_result"
    }
   ],
   "source": [
    "set(list1)"
   ]
  },
  {
   "cell_type": "code",
   "execution_count": 150,
   "id": "af05d7cf",
   "metadata": {},
   "outputs": [
    {
     "ename": "SyntaxError",
     "evalue": "invalid syntax (641864017.py, line 4)",
     "output_type": "error",
     "traceback": [
      "\u001b[1;36m  Input \u001b[1;32mIn [150]\u001b[1;36m\u001b[0m\n\u001b[1;33m    duplicate support\u001b[0m\n\u001b[1;37m              ^\u001b[0m\n\u001b[1;31mSyntaxError\u001b[0m\u001b[1;31m:\u001b[0m invalid syntax\n"
     ]
    }
   ],
   "source": [
    "list1\n",
    "\n",
    "ordered\n",
    "duplicate support \n",
    "slicing\n",
    "indexing\n",
    "mutable\n",
    "\n",
    "set\n",
    "\n",
    "unordered\n",
    "unique \n",
    "no slicing\n",
    "no indexing\n",
    "muatable"
   ]
  },
  {
   "cell_type": "code",
   "execution_count": 125,
   "id": "6a6a6f7d",
   "metadata": {},
   "outputs": [],
   "source": [
    "set1 = {1,2,3}"
   ]
  },
  {
   "cell_type": "code",
   "execution_count": 126,
   "id": "112fc555",
   "metadata": {},
   "outputs": [],
   "source": [
    "set1.add(7)"
   ]
  },
  {
   "cell_type": "code",
   "execution_count": 127,
   "id": "fe67c79f",
   "metadata": {},
   "outputs": [
    {
     "data": {
      "text/plain": [
       "{1, 2, 3, 7}"
      ]
     },
     "execution_count": 127,
     "metadata": {},
     "output_type": "execute_result"
    }
   ],
   "source": [
    "set1"
   ]
  },
  {
   "cell_type": "code",
   "execution_count": 128,
   "id": "0c65d8e6",
   "metadata": {},
   "outputs": [],
   "source": [
    "set1.remove(3)"
   ]
  },
  {
   "cell_type": "code",
   "execution_count": 129,
   "id": "797eb59b",
   "metadata": {},
   "outputs": [
    {
     "data": {
      "text/plain": [
       "{1, 2, 7}"
      ]
     },
     "execution_count": 129,
     "metadata": {},
     "output_type": "execute_result"
    }
   ],
   "source": [
    "set1"
   ]
  },
  {
   "cell_type": "code",
   "execution_count": 137,
   "id": "6217dedb",
   "metadata": {},
   "outputs": [],
   "source": [
    "s1 = {1,2,3}\n",
    "s2 = {3,4,5}\n",
    "\n",
    "# s2.update(s1)"
   ]
  },
  {
   "cell_type": "code",
   "execution_count": 135,
   "id": "6644e777",
   "metadata": {},
   "outputs": [
    {
     "data": {
      "text/plain": [
       "{1, 2, 3}"
      ]
     },
     "execution_count": 135,
     "metadata": {},
     "output_type": "execute_result"
    }
   ],
   "source": [
    "s1"
   ]
  },
  {
   "cell_type": "code",
   "execution_count": 136,
   "id": "2079cd72",
   "metadata": {},
   "outputs": [
    {
     "data": {
      "text/plain": [
       "{1, 2, 3, 4, 5}"
      ]
     },
     "execution_count": 136,
     "metadata": {},
     "output_type": "execute_result"
    }
   ],
   "source": [
    "s2"
   ]
  },
  {
   "cell_type": "code",
   "execution_count": 138,
   "id": "6308fa97",
   "metadata": {},
   "outputs": [
    {
     "data": {
      "text/plain": [
       "{3}"
      ]
     },
     "execution_count": 138,
     "metadata": {},
     "output_type": "execute_result"
    }
   ],
   "source": [
    "s1.intersection(s2)"
   ]
  },
  {
   "cell_type": "code",
   "execution_count": 142,
   "id": "93529104",
   "metadata": {},
   "outputs": [],
   "source": [
    "s3  = s1.union(s2)"
   ]
  },
  {
   "cell_type": "code",
   "execution_count": 143,
   "id": "f39d856b",
   "metadata": {},
   "outputs": [
    {
     "data": {
      "text/plain": [
       "{1, 2, 3, 4, 5}"
      ]
     },
     "execution_count": 143,
     "metadata": {},
     "output_type": "execute_result"
    }
   ],
   "source": [
    "s3"
   ]
  },
  {
   "cell_type": "code",
   "execution_count": 144,
   "id": "dba597af",
   "metadata": {},
   "outputs": [
    {
     "data": {
      "text/plain": [
       "{1, 2}"
      ]
     },
     "execution_count": 144,
     "metadata": {},
     "output_type": "execute_result"
    }
   ],
   "source": [
    "s1 - s2"
   ]
  },
  {
   "cell_type": "code",
   "execution_count": 145,
   "id": "cb4aef0b",
   "metadata": {},
   "outputs": [
    {
     "data": {
      "text/plain": [
       "{4, 5}"
      ]
     },
     "execution_count": 145,
     "metadata": {},
     "output_type": "execute_result"
    }
   ],
   "source": [
    "s2 - s1"
   ]
  },
  {
   "cell_type": "code",
   "execution_count": 146,
   "id": "e601ff03",
   "metadata": {},
   "outputs": [
    {
     "data": {
      "text/plain": [
       "{1, 2}"
      ]
     },
     "execution_count": 146,
     "metadata": {},
     "output_type": "execute_result"
    }
   ],
   "source": [
    "s1.difference(s2)"
   ]
  },
  {
   "cell_type": "code",
   "execution_count": 147,
   "id": "da651d0c",
   "metadata": {},
   "outputs": [
    {
     "data": {
      "text/plain": [
       "{4, 5}"
      ]
     },
     "execution_count": 147,
     "metadata": {},
     "output_type": "execute_result"
    }
   ],
   "source": [
    "s2.difference(s1)"
   ]
  },
  {
   "cell_type": "code",
   "execution_count": null,
   "id": "3150e342",
   "metadata": {},
   "outputs": [],
   "source": []
  }
 ],
 "metadata": {
  "kernelspec": {
   "display_name": "Python 3 (ipykernel)",
   "language": "python",
   "name": "python3"
  },
  "language_info": {
   "codemirror_mode": {
    "name": "ipython",
    "version": 3
   },
   "file_extension": ".py",
   "mimetype": "text/x-python",
   "name": "python",
   "nbconvert_exporter": "python",
   "pygments_lexer": "ipython3",
   "version": "3.11.5"
  }
 },
 "nbformat": 4,
 "nbformat_minor": 5
}
