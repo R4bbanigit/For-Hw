{
 "cells": [
  {
   "cell_type": "code",
   "execution_count": 5,
   "id": "99cdf6f7",
   "metadata": {},
   "outputs": [
    {
     "name": "stdout",
     "output_type": "stream",
     "text": [
      "Yamaha Blue & red\n"
     ]
    }
   ],
   "source": [
    "class bike:\n",
    "    def features(self):\n",
    "        \n",
    "        bike_name = \"Yamaha\"\n",
    "        bike_color = \"Blue & red\"\n",
    "        print(bike_name,bike_color)\n",
    "        \n",
    "obj = bike()\n",
    "obj.features()"
   ]
  },
  {
   "cell_type": "code",
   "execution_count": 6,
   "id": "a35cb45b",
   "metadata": {},
   "outputs": [
    {
     "name": "stdout",
     "output_type": "stream",
     "text": [
      "Suzuki Red & Blue Sports\n"
     ]
    }
   ],
   "source": [
    "class Bike:\n",
    "    \n",
    "    def features(self,bike_name,bike_color,bike_catagory):\n",
    "        print(bike_name,bike_color,bike_catagory)\n",
    "        \n",
    "obj = Bike()\n",
    "obj.features(\"Suzuki\",\"Red & Blue\", \"Sports\")"
   ]
  },
  {
   "cell_type": "code",
   "execution_count": 12,
   "id": "80ba5023",
   "metadata": {},
   "outputs": [
    {
     "name": "stdout",
     "output_type": "stream",
     "text": [
      "Honda Black & Red Comuter\n"
     ]
    }
   ],
   "source": [
    "class Bike:\n",
    "    def features(self,bike_catagory):\n",
    "        \n",
    "        Bike_Name = \"Honda\"\n",
    "        Bike_Color = \"Black & Red\"\n",
    "        print(Bike_Name,Bike_Color,bike_catagory)\n",
    "    \n",
    "bike_obj = Bike()\n",
    "bike_obj.features(\"Comuter\")"
   ]
  },
  {
   "cell_type": "code",
   "execution_count": 13,
   "id": "d355d2a7",
   "metadata": {},
   "outputs": [
    {
     "name": "stdout",
     "output_type": "stream",
     "text": [
      "Enter a number100\n",
      "100\n"
     ]
    }
   ],
   "source": [
    "class student:\n",
    "    def fun1(self,a):\n",
    "        self.a = a\n",
    "        return self.a\n",
    "    \n",
    "    def message(self):\n",
    "        print(self.a)\n",
    "        \n",
    "obj = student()\n",
    "result = obj.fun1(int(input(\"Enter a number\")))\n",
    "obj.message()        "
   ]
  },
  {
   "cell_type": "code",
   "execution_count": 15,
   "id": "42a71d72",
   "metadata": {},
   "outputs": [
    {
     "name": "stdout",
     "output_type": "stream",
     "text": [
      "Enter a number 10\n"
     ]
    },
    {
     "data": {
      "text/plain": [
       "100"
      ]
     },
     "execution_count": 15,
     "metadata": {},
     "output_type": "execute_result"
    }
   ],
   "source": [
    "class calculator:\n",
    "    def even(self,a):\n",
    "        self.a = a\n",
    "        if a%2 == 0:\n",
    "            result = self.square()\n",
    "            \n",
    "        else:\n",
    "            result = self.double()\n",
    "            \n",
    "        return result\n",
    "    def square(self):\n",
    "        return self.a**2\n",
    "    def double(self):\n",
    "        return self.a*2\n",
    "    \n",
    "obj = calculator()\n",
    "obj.even(int(input(\"Enter a number \")))"
   ]
  },
  {
   "cell_type": "code",
   "execution_count": 17,
   "id": "fad18e0e",
   "metadata": {},
   "outputs": [
    {
     "data": {
      "text/plain": [
       "14"
      ]
     },
     "execution_count": 17,
     "metadata": {},
     "output_type": "execute_result"
    }
   ],
   "source": [
    "class calculator:\n",
    "    def even(self,b):\n",
    "        if b%2 == 0:\n",
    "            result = self.square(b)\n",
    "        else:\n",
    "            result = self.double(b)\n",
    "            \n",
    "        return result\n",
    "    \n",
    "    def square(self,a):\n",
    "        return a**2\n",
    "    \n",
    "    def double(self,a):\n",
    "        return a*2\n",
    "    \n",
    "obj = calculator()\n",
    "obj.even(7) "
   ]
  },
  {
   "cell_type": "code",
   "execution_count": 18,
   "id": "3a09cb30",
   "metadata": {},
   "outputs": [
    {
     "name": "stdout",
     "output_type": "stream",
     "text": [
      "Hyundai red\n"
     ]
    }
   ],
   "source": [
    "class car:\n",
    "    def __init__(self,car_color):\n",
    "        self.car_color = car_color\n",
    "        self.car_name = \"Hyundai\"\n",
    "#         print(self.car_name,car_color)\n",
    "        \n",
    "    def disp(self):\n",
    "        print(self.car_name,self.car_color)\n",
    "        \n",
    "obj = car(\"red\")\n",
    "obj.disp()"
   ]
  },
  {
   "cell_type": "code",
   "execution_count": null,
   "id": "700f7f1c",
   "metadata": {},
   "outputs": [],
   "source": []
  }
 ],
 "metadata": {
  "kernelspec": {
   "display_name": "Python 3 (ipykernel)",
   "language": "python",
   "name": "python3"
  },
  "language_info": {
   "codemirror_mode": {
    "name": "ipython",
    "version": 3
   },
   "file_extension": ".py",
   "mimetype": "text/x-python",
   "name": "python",
   "nbconvert_exporter": "python",
   "pygments_lexer": "ipython3",
   "version": "3.11.5"
  }
 },
 "nbformat": 4,
 "nbformat_minor": 5
}
