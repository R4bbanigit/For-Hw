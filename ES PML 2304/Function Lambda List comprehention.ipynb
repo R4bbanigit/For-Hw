{
 "cells": [
  {
   "cell_type": "markdown",
   "id": "ce5bf510",
   "metadata": {},
   "source": [
    "# Find the second highest number in a list"
   ]
  },
  {
   "cell_type": "code",
   "execution_count": 4,
   "id": "aa1fa158",
   "metadata": {},
   "outputs": [
    {
     "name": "stdout",
     "output_type": "stream",
     "text": [
      "The highest number is:  7\n",
      "The second highest number is:  6\n"
     ]
    }
   ],
   "source": [
    "a = [1,2,3,4,5,6,7,6]\n",
    "\n",
    "highest_num = a[0]\n",
    "sec_highest_num = a[0]\n",
    "\n",
    "for i in range (len(a)):\n",
    "    if a[i] > highest_num:\n",
    "        highest_num = a[i]\n",
    "print(\"The highest number is: \", highest_num)\n",
    "\n",
    "for i in range (len(a)):\n",
    "    if a[i] > sec_highest_num and a[i] != highest_num:\n",
    "        sec_highest_num = a[i]\n",
    "print(\"The second highest number is: \", sec_highest_num)"
   ]
  },
  {
   "cell_type": "code",
   "execution_count": 5,
   "id": "40bf56de",
   "metadata": {},
   "outputs": [
    {
     "name": "stdout",
     "output_type": "stream",
     "text": [
      "34\n"
     ]
    }
   ],
   "source": [
    "sum = 0\n",
    "\n",
    "for i in (a):\n",
    "    sum = sum + i\n",
    "print(sum)"
   ]
  },
  {
   "cell_type": "code",
   "execution_count": 18,
   "id": "4c4db55b",
   "metadata": {},
   "outputs": [
    {
     "name": "stdout",
     "output_type": "stream",
     "text": [
      "Enter row number6\n",
      "     1 \n",
      "    2 1 \n",
      "   3 2 1 \n",
      "  4 3 2 1 \n",
      " 5 4 3 2 1 \n",
      "6 5 4 3 2 1 \n"
     ]
    }
   ],
   "source": [
    "a = int(input(\"Enter row number\"))\n",
    "for i in range(a):\n",
    "    for j in range (a-i-1):\n",
    "        print(\" \", end = \"\")\n",
    "    for j in range(i,-1,-1):\n",
    "        print(j+1,end =\" \")\n",
    "    print()"
   ]
  },
  {
   "cell_type": "markdown",
   "id": "cbf29673",
   "metadata": {},
   "source": [
    "# Function"
   ]
  },
  {
   "cell_type": "code",
   "execution_count": 3,
   "id": "79c5993c",
   "metadata": {},
   "outputs": [
    {
     "name": "stdout",
     "output_type": "stream",
     "text": [
      "40\n"
     ]
    }
   ],
   "source": [
    "def multiplication (a,b):\n",
    "    multiply = a*b\n",
    "    print(multiply)\n",
    "    return multiply\n",
    "result = multiplication (20,2)"
   ]
  },
  {
   "cell_type": "code",
   "execution_count": 107,
   "id": "2cba2b66",
   "metadata": {},
   "outputs": [
    {
     "data": {
      "text/plain": [
       "16"
      ]
     },
     "execution_count": 107,
     "metadata": {},
     "output_type": "execute_result"
    }
   ],
   "source": [
    "result"
   ]
  },
  {
   "cell_type": "code",
   "execution_count": 49,
   "id": "3ab868a2",
   "metadata": {},
   "outputs": [
    {
     "name": "stdout",
     "output_type": "stream",
     "text": [
      "5\n"
     ]
    }
   ],
   "source": [
    "def subtraction (a,b):\n",
    "    value = a - b\n",
    "    print(value)\n",
    "    return value,a\n",
    "result = subtraction(10,5)"
   ]
  },
  {
   "cell_type": "code",
   "execution_count": 50,
   "id": "3cff4ec3",
   "metadata": {},
   "outputs": [
    {
     "data": {
      "text/plain": [
       "(5, 10)"
      ]
     },
     "execution_count": 50,
     "metadata": {},
     "output_type": "execute_result"
    }
   ],
   "source": [
    "result"
   ]
  },
  {
   "cell_type": "code",
   "execution_count": 105,
   "id": "e2482480",
   "metadata": {},
   "outputs": [
    {
     "data": {
      "text/plain": [
       "10"
      ]
     },
     "execution_count": 105,
     "metadata": {},
     "output_type": "execute_result"
    }
   ],
   "source": [
    "sub = lambda a,b: a - b\n",
    "sub(15,5)"
   ]
  },
  {
   "cell_type": "code",
   "execution_count": 117,
   "id": "74316699",
   "metadata": {},
   "outputs": [
    {
     "name": "stdout",
     "output_type": "stream",
     "text": [
      "1\n"
     ]
    }
   ],
   "source": []
  },
  {
   "cell_type": "markdown",
   "id": "ae36110a",
   "metadata": {},
   "source": [
    "# List comprehention"
   ]
  },
  {
   "cell_type": "code",
   "execution_count": 56,
   "id": "72e792d0",
   "metadata": {},
   "outputs": [
    {
     "data": {
      "text/plain": [
       "[4, 3, 16, 5, 36, 7, 64]"
      ]
     },
     "execution_count": 56,
     "metadata": {},
     "output_type": "execute_result"
    }
   ],
   "source": [
    "a = [2,3,4,5,6,7,8]\n",
    "b = []\n",
    "for i in (a):\n",
    "    if i % 2 == 0:\n",
    "        b.append(i**2)\n",
    "    else:\n",
    "        b.append(i)\n",
    "b"
   ]
  },
  {
   "cell_type": "code",
   "execution_count": 60,
   "id": "5164fb2b",
   "metadata": {},
   "outputs": [
    {
     "data": {
      "text/plain": [
       "[4, 3, 16, 5, 36, 7, 64]"
      ]
     },
     "execution_count": 60,
     "metadata": {},
     "output_type": "execute_result"
    }
   ],
   "source": [
    "a = [2,3,4,5,6,7,8]\n",
    "b = [i**2 if i % 2 == 0 else i for i in (a)]\n",
    "\n",
    "b"
   ]
  },
  {
   "cell_type": "code",
   "execution_count": 70,
   "id": "a9499a8c",
   "metadata": {},
   "outputs": [
    {
     "name": "stdout",
     "output_type": "stream",
     "text": [
      "15\n"
     ]
    }
   ],
   "source": [
    "a = [1,2,3,4,5]\n",
    "sum = 0\n",
    "for num in (a):\n",
    "    sum+=(num)\n",
    "print(sum)"
   ]
  },
  {
   "cell_type": "code",
   "execution_count": null,
   "id": "450aa8d7",
   "metadata": {},
   "outputs": [],
   "source": []
  },
  {
   "cell_type": "code",
   "execution_count": null,
   "id": "8eaa0219",
   "metadata": {},
   "outputs": [],
   "source": []
  },
  {
   "cell_type": "markdown",
   "id": "93ecca0e",
   "metadata": {},
   "source": [
    "# lambda"
   ]
  },
  {
   "cell_type": "code",
   "execution_count": 61,
   "id": "576dd979",
   "metadata": {},
   "outputs": [
    {
     "data": {
      "text/plain": [
       "30"
      ]
     },
     "execution_count": 61,
     "metadata": {},
     "output_type": "execute_result"
    }
   ],
   "source": [
    "sum1 = lambda a=16,b=14: a + b\n",
    "sum1()"
   ]
  },
  {
   "cell_type": "code",
   "execution_count": 62,
   "id": "b5decf86",
   "metadata": {},
   "outputs": [
    {
     "data": {
      "text/plain": [
       "4"
      ]
     },
     "execution_count": 62,
     "metadata": {},
     "output_type": "execute_result"
    }
   ],
   "source": [
    "sub = lambda a,b: a-b\n",
    "sub(10,6)"
   ]
  },
  {
   "cell_type": "code",
   "execution_count": 63,
   "id": "2c0990be",
   "metadata": {},
   "outputs": [
    {
     "data": {
      "text/plain": [
       "100"
      ]
     },
     "execution_count": 63,
     "metadata": {},
     "output_type": "execute_result"
    }
   ],
   "source": [
    "multiply = lambda a,b: a*b\n",
    "multiply(10,10)"
   ]
  },
  {
   "cell_type": "code",
   "execution_count": 64,
   "id": "df1e74aa",
   "metadata": {},
   "outputs": [
    {
     "data": {
      "text/plain": [
       "5.0"
      ]
     },
     "execution_count": 64,
     "metadata": {},
     "output_type": "execute_result"
    }
   ],
   "source": [
    "divide = lambda a,b:a/b\n",
    "divide(10,2)"
   ]
  },
  {
   "cell_type": "code",
   "execution_count": 65,
   "id": "80b00ab0",
   "metadata": {},
   "outputs": [
    {
     "data": {
      "text/plain": [
       "9"
      ]
     },
     "execution_count": 65,
     "metadata": {},
     "output_type": "execute_result"
    }
   ],
   "source": [
    "power = lambda a,b:a**b\n",
    "power(3,2)"
   ]
  },
  {
   "cell_type": "code",
   "execution_count": 66,
   "id": "78422b4e",
   "metadata": {},
   "outputs": [
    {
     "data": {
      "text/plain": [
       "5"
      ]
     },
     "execution_count": 66,
     "metadata": {},
     "output_type": "execute_result"
    }
   ],
   "source": [
    "floor_div = lambda a,b:a//b\n",
    "floor_div(20,4)"
   ]
  },
  {
   "cell_type": "code",
   "execution_count": 69,
   "id": "13d59c05",
   "metadata": {},
   "outputs": [
    {
     "data": {
      "text/plain": [
       "2"
      ]
     },
     "execution_count": 69,
     "metadata": {},
     "output_type": "execute_result"
    }
   ],
   "source": [
    "remeinder= lambda a,b: a%b\n",
    "remeinder(20,3)"
   ]
  },
  {
   "cell_type": "code",
   "execution_count": 57,
   "id": "16988303",
   "metadata": {},
   "outputs": [
    {
     "name": "stdout",
     "output_type": "stream",
     "text": [
      "Enter a string sports\n",
      "The string containing the latter 's'.\n"
     ]
    }
   ],
   "source": [
    "def check_string ():\n",
    "    user_input = input(\"Enter a string \")\n",
    "    if \"s\" in user_input:\n",
    "        print(\"The string containing the latter 's'.\")\n",
    "    else:\n",
    "        print(\"The string does not containing the latter 's'.\")\n",
    "        \n",
    "check_string()"
   ]
  },
  {
   "cell_type": "code",
   "execution_count": 59,
   "id": "de0cb982",
   "metadata": {},
   "outputs": [
    {
     "name": "stdout",
     "output_type": "stream",
     "text": [
      "Enter a string photography\n",
      "The string does not containing the latter 's'.\n"
     ]
    }
   ],
   "source": [
    "check_string()"
   ]
  },
  {
   "cell_type": "code",
   "execution_count": 19,
   "id": "a14a0f61",
   "metadata": {},
   "outputs": [
    {
     "name": "stdout",
     "output_type": "stream",
     "text": [
      "Enter a string special\n",
      "The string containing the latter 's'.\n"
     ]
    }
   ],
   "source": [
    "check_string()"
   ]
  },
  {
   "cell_type": "code",
   "execution_count": 1,
   "id": "95d2cec5",
   "metadata": {},
   "outputs": [],
   "source": [
    "def factor(n):\n",
    "    factorial = 1\n",
    "    for i in range (n):\n",
    "        factorial *= i+1\n",
    "    \n",
    "    return factorial\n",
    "result = factor(5)"
   ]
  },
  {
   "cell_type": "code",
   "execution_count": 2,
   "id": "fc69c1fb",
   "metadata": {},
   "outputs": [
    {
     "data": {
      "text/plain": [
       "120"
      ]
     },
     "execution_count": 2,
     "metadata": {},
     "output_type": "execute_result"
    }
   ],
   "source": [
    "result"
   ]
  },
  {
   "cell_type": "code",
   "execution_count": 23,
   "id": "b5a1824b",
   "metadata": {},
   "outputs": [],
   "source": [
    "# Function\n",
    "\n",
    "def add (a,b):\n",
    "    add = a + b\n",
    "    return add\n",
    "add_result = add(24,6)"
   ]
  },
  {
   "cell_type": "code",
   "execution_count": 28,
   "id": "552e637a",
   "metadata": {},
   "outputs": [
    {
     "data": {
      "text/plain": [
       "30"
      ]
     },
     "execution_count": 28,
     "metadata": {},
     "output_type": "execute_result"
    }
   ],
   "source": [
    "add_result"
   ]
  },
  {
   "cell_type": "code",
   "execution_count": 31,
   "id": "9ed70796",
   "metadata": {},
   "outputs": [
    {
     "data": {
      "text/plain": [
       "12"
      ]
     },
     "execution_count": 31,
     "metadata": {},
     "output_type": "execute_result"
    }
   ],
   "source": [
    "multiplication = lambda a,b:a*b\n",
    "multiplication(6,2)"
   ]
  },
  {
   "cell_type": "code",
   "execution_count": 46,
   "id": "f584155e",
   "metadata": {},
   "outputs": [
    {
     "name": "stdout",
     "output_type": "stream",
     "text": [
      "The highest number is  16\n",
      "The second highest number is  14\n"
     ]
    }
   ],
   "source": [
    "a = [2,6,7,8,3,5,10,8,14,11,16]\n",
    "max_num = a[0]\n",
    "sec_max_num = a[0]\n",
    "for i in range(len(a)):\n",
    "        if a[i] > max_num:\n",
    "            max_num = a[i]\n",
    "print(\"The highest number is \",max_num)\n",
    "for i in range(len(a)):\n",
    "    if a[i] > sec_max_num and a[i] != max_num:\n",
    "        sec_max_num = a[i]\n",
    "print(\"The second highest number is \",sec_max_num)"
   ]
  },
  {
   "cell_type": "code",
   "execution_count": 49,
   "id": "32ba8a53",
   "metadata": {},
   "outputs": [
    {
     "data": {
      "text/plain": [
       "6"
      ]
     },
     "execution_count": 49,
     "metadata": {},
     "output_type": "execute_result"
    }
   ],
   "source": [
    "var = lambda a,b : a*b\n",
    "var(2,3)"
   ]
  },
  {
   "cell_type": "code",
   "execution_count": 9,
   "id": "b805e7ae",
   "metadata": {},
   "outputs": [
    {
     "ename": "NameError",
     "evalue": "name 'min_num' is not defined",
     "output_type": "error",
     "traceback": [
      "\u001b[1;31m---------------------------------------------------------------------------\u001b[0m",
      "\u001b[1;31mNameError\u001b[0m                                 Traceback (most recent call last)",
      "Cell \u001b[1;32mIn[9], line 8\u001b[0m\n\u001b[0;32m      6\u001b[0m             min_num \u001b[38;5;241m=\u001b[39m a[i]\n\u001b[0;32m      7\u001b[0m     \u001b[38;5;28;01mreturn\u001b[39;00m min_num\n\u001b[1;32m----> 8\u001b[0m \u001b[38;5;28mprint\u001b[39m(\u001b[38;5;124m\"\u001b[39m\u001b[38;5;124mThe Minimum number is: \u001b[39m\u001b[38;5;124m\"\u001b[39m, min_num)\n",
      "\u001b[1;31mNameError\u001b[0m: name 'min_num' is not defined"
     ]
    }
   ],
   "source": [
    "a = [1,2,3,4,5,6,7,6]\n",
    "def find_min(a):\n",
    "    min_num = a[0]\n",
    "    for i in range (len(a)):\n",
    "        if a[i] < min_num:\n",
    "            min_num = a[i]\n",
    "    return min_num\n",
    "print(\"The Minimum number is: \", min_num)\n",
    "            "
   ]
  },
  {
   "cell_type": "code",
   "execution_count": 24,
   "id": "c3709af9",
   "metadata": {},
   "outputs": [
    {
     "name": "stdout",
     "output_type": "stream",
     "text": [
      "Enter a number 5\n"
     ]
    },
    {
     "data": {
      "text/plain": [
       "120"
      ]
     },
     "execution_count": 24,
     "metadata": {},
     "output_type": "execute_result"
    }
   ],
   "source": [
    "class factor():\n",
    "    def factor(self,n):\n",
    "        factorial = 1\n",
    "        for i in range (n):\n",
    "            \n",
    "            factorial *= i+1\n",
    "    \n",
    "        return factorial\n",
    "fac_obj = factor()\n",
    "fac_obj.factor(int(input(\"Enter a number \")))"
   ]
  },
  {
   "cell_type": "code",
   "execution_count": 1,
   "id": "208b4cb8",
   "metadata": {},
   "outputs": [
    {
     "name": "stdout",
     "output_type": "stream",
     "text": [
      "Enter a vallue: 15\n",
      "User defined input:  15\n"
     ]
    }
   ],
   "source": [
    "class student():\n",
    "    def __init__(self):\n",
    "        self.user_input = None\n",
    "        \n",
    "    def fun1(self):\n",
    "        self.user_input = input(\"Enter a vallue: \")\n",
    "        return self.user_input\n",
    "    def messege (self):\n",
    "        print(\"User defined input: \", self.user_input)\n",
    "        \n",
    "student_obj = student()\n",
    "value = student_obj.fun1()\n",
    "student_obj.messege()\n",
    "        \n",
    "        \n",
    "        "
   ]
  },
  {
   "cell_type": "code",
   "execution_count": 53,
   "id": "086bd6b4",
   "metadata": {},
   "outputs": [
    {
     "name": "stdout",
     "output_type": "stream",
     "text": [
      "Highest Number is:  8\n",
      "Second highest number is:  7\n"
     ]
    }
   ],
   "source": [
    "num1 = [1,2,3,4,5,6,7,8]\n",
    "highest_num = num1[0]\n",
    "sec_highest_num = num1[0]\n",
    "\n",
    "for i in range (len(num1)):\n",
    "    if num1[i] > highest_num:\n",
    "        highest_num = num1[i]\n",
    "print(\"Highest Number is: \", highest_num)\n",
    "\n",
    "for i in range (len(num1)):\n",
    "    if num1[i] > sec_highest_num and num1[i] != highest_num:\n",
    "        sec_highest_num = num1[i]\n",
    "print(\"Second highest number is: \", sec_highest_num)\n"
   ]
  },
  {
   "cell_type": "code",
   "execution_count": 54,
   "id": "4ab0108a",
   "metadata": {},
   "outputs": [
    {
     "name": "stdout",
     "output_type": "stream",
     "text": [
      "The highest number is:  7\n",
      "The second highest number is:  6\n"
     ]
    }
   ],
   "source": [
    "a = [1,2,3,4,5,6,7,6]\n",
    "\n",
    "highest_num = a[0]\n",
    "sec_highest_num = a[0]\n",
    "\n",
    "for i in range (len(a)):\n",
    "    if a[i] > highest_num:\n",
    "        highest_num = a[i]\n",
    "print(\"The highest number is: \", highest_num)\n",
    "\n",
    "for i in range (len(a)):\n",
    "    if a[i] > sec_highest_num and a[i] != highest_num:\n",
    "        sec_highest_num = a[i]\n",
    "print(\"The second highest number is: \", sec_highest_num)"
   ]
  },
  {
   "cell_type": "code",
   "execution_count": 25,
   "id": "dd569546",
   "metadata": {},
   "outputs": [
    {
     "name": "stdout",
     "output_type": "stream",
     "text": [
      "John 21 Banker U.S.A\n"
     ]
    }
   ],
   "source": [
    "#oop\n",
    "\n",
    "class parent:\n",
    "    def __init__(self):\n",
    "        self.age = 21\n",
    "        \n",
    "class child(parent):\n",
    "    def __init__(self):\n",
    "        parent.__init__(self)\n",
    "        self.name = \"John\"\n",
    "        \n",
    "class child2(child):\n",
    "    def __init__(self):\n",
    "        child.__init__(self)\n",
    "        self.passion = \"Banker\"\n",
    "class child3(child2):\n",
    "    def __init__(self):\n",
    "        child2.__init__(self)\n",
    "        self.county = \"U.S.A\"\n",
    "\n",
    "        \n",
    "    def display(self):\n",
    "        print(self.name,self.age,self.passion,self.county)\n",
    "        \n",
    "obj = child3()\n",
    "obj.display()\n"
   ]
  },
  {
   "cell_type": "code",
   "execution_count": 7,
   "id": "47511e53",
   "metadata": {},
   "outputs": [
    {
     "data": {
      "text/plain": [
       "10"
      ]
     },
     "execution_count": 7,
     "metadata": {},
     "output_type": "execute_result"
    }
   ],
   "source": [
    "a = [2,35,43,4,65,58,54,76,93,53]\n",
    "len(a)"
   ]
  },
  {
   "cell_type": "code",
   "execution_count": 8,
   "id": "a8336d3d",
   "metadata": {},
   "outputs": [
    {
     "data": {
      "text/plain": [
       "list"
      ]
     },
     "execution_count": 8,
     "metadata": {},
     "output_type": "execute_result"
    }
   ],
   "source": [
    "type(a)"
   ]
  },
  {
   "cell_type": "code",
   "execution_count": 9,
   "id": "5d94f5f9",
   "metadata": {},
   "outputs": [
    {
     "data": {
      "text/plain": [
       "(2, 35, 43, 4, 65, 58, 54, 76, 93, 53)"
      ]
     },
     "execution_count": 9,
     "metadata": {},
     "output_type": "execute_result"
    }
   ],
   "source": [
    "tuple(a)"
   ]
  },
  {
   "cell_type": "code",
   "execution_count": 10,
   "id": "1b06fd3f",
   "metadata": {},
   "outputs": [
    {
     "name": "stdout",
     "output_type": "stream",
     "text": [
      "483\n"
     ]
    }
   ],
   "source": [
    "sum = 0\n",
    "for i in a:\n",
    "    sum +=i\n",
    "print(sum)"
   ]
  },
  {
   "cell_type": "code",
   "execution_count": 14,
   "id": "2068ad86",
   "metadata": {},
   "outputs": [
    {
     "name": "stdout",
     "output_type": "stream",
     "text": [
      "The highest number is:  93\n",
      "The second highest Number is :  76\n"
     ]
    }
   ],
   "source": [
    "highest_num = a[0]\n",
    "sec_highest_num = a[0]\n",
    "for i in range (len(a)):\n",
    "    if highest_num > a[i]:\n",
    "        pass\n",
    "    else:\n",
    "        highest_num = a[i]\n",
    "print(\"The highest number is: \",highest_num)\n",
    "\n",
    "for i in range (len(a)):\n",
    "    if a[i] > sec_highest_num and a[i] != highest_num:\n",
    "        sec_highest_num = a[i]\n",
    "print(\"The second highest Number is : \", sec_highest_num)\n",
    "        \n",
    "         \n",
    "    "
   ]
  },
  {
   "cell_type": "code",
   "execution_count": 15,
   "id": "7bd9e004",
   "metadata": {},
   "outputs": [],
   "source": [
    "a.sort()"
   ]
  },
  {
   "cell_type": "code",
   "execution_count": 16,
   "id": "d5c7524d",
   "metadata": {},
   "outputs": [
    {
     "name": "stdout",
     "output_type": "stream",
     "text": [
      "76\n"
     ]
    }
   ],
   "source": [
    "print(a[-2])"
   ]
  },
  {
   "cell_type": "code",
   "execution_count": 28,
   "id": "47f87bc5",
   "metadata": {},
   "outputs": [],
   "source": [
    "def add (a,b):\n",
    "    add = a+b\n",
    "    return add,a,b\n",
    "result= add(3,4)"
   ]
  },
  {
   "cell_type": "code",
   "execution_count": 29,
   "id": "715de3a3",
   "metadata": {},
   "outputs": [
    {
     "data": {
      "text/plain": [
       "(7, 3, 4)"
      ]
     },
     "execution_count": 29,
     "metadata": {},
     "output_type": "execute_result"
    }
   ],
   "source": [
    "result"
   ]
  },
  {
   "cell_type": "code",
   "execution_count": 46,
   "id": "4b95f753",
   "metadata": {},
   "outputs": [
    {
     "name": "stdout",
     "output_type": "stream",
     "text": [
      "[3, 4, 5, 8, 7, 12]\n"
     ]
    }
   ],
   "source": [
    "a = [1,2,3,4,5,6]\n",
    "b = []\n",
    "for i in a:\n",
    "    if i%2 == 0:\n",
    "        b.append(i*2)\n",
    "    else:\n",
    "        b.append(i+2)\n",
    "print(b)"
   ]
  },
  {
   "cell_type": "code",
   "execution_count": 47,
   "id": "86e7ec3e",
   "metadata": {},
   "outputs": [],
   "source": [
    "a = [1,2,3,4,5,6]\n",
    "b = [i*i if i%2 == 0 else i+2 for i in a]"
   ]
  },
  {
   "cell_type": "code",
   "execution_count": 48,
   "id": "faa14739",
   "metadata": {},
   "outputs": [
    {
     "data": {
      "text/plain": [
       "[3, 4, 5, 16, 7, 36]"
      ]
     },
     "execution_count": 48,
     "metadata": {},
     "output_type": "execute_result"
    }
   ],
   "source": [
    "b"
   ]
  },
  {
   "cell_type": "code",
   "execution_count": 7,
   "id": "e6593f2c",
   "metadata": {},
   "outputs": [
    {
     "data": {
      "text/plain": [
       "7"
      ]
     },
     "execution_count": 7,
     "metadata": {},
     "output_type": "execute_result"
    }
   ],
   "source": [
    "class summ:\n",
    "    \n",
    "    def add (self,a,b):\n",
    "        self.add = a+b\n",
    "        return self.add\n",
    "obj = summ()\n",
    "obj.add(3,4)\n",
    "    "
   ]
  },
  {
   "cell_type": "code",
   "execution_count": 8,
   "id": "50051e66",
   "metadata": {},
   "outputs": [
    {
     "data": {
      "text/plain": [
       "\"ksdfsdlklf'\""
      ]
     },
     "execution_count": 8,
     "metadata": {},
     "output_type": "execute_result"
    }
   ],
   "source": [
    "result"
   ]
  },
  {
   "cell_type": "code",
   "execution_count": 56,
   "id": "ce26bfb8",
   "metadata": {},
   "outputs": [
    {
     "data": {
      "text/plain": [
       "122"
      ]
     },
     "execution_count": 56,
     "metadata": {},
     "output_type": "execute_result"
    }
   ],
   "source": [
    "sum1 = lambda a, b: a+b\n",
    "sum1(67,55)"
   ]
  },
  {
   "cell_type": "code",
   "execution_count": 34,
   "id": "baf66e77",
   "metadata": {},
   "outputs": [
    {
     "data": {
      "text/plain": [
       "(9, 4)"
      ]
     },
     "execution_count": 34,
     "metadata": {},
     "output_type": "execute_result"
    }
   ],
   "source": [
    "#  Create a lambda function that should double or multiply the number (that we will be passing\n",
    "# in the lambda function) by 2. Store the lambda function in a variable named ‘double_num’.\n",
    "\n",
    "double_num = lambda a,b: (a*a,b*b)\n",
    "double_num(3,2)\n",
    "\n",
    "\n",
    "# double_num1 = lambda a:a*2\n",
    "# double_num1 (3)"
   ]
  },
  {
   "cell_type": "code",
   "execution_count": 46,
   "id": "73019a37",
   "metadata": {},
   "outputs": [
    {
     "name": "stdout",
     "output_type": "stream",
     "text": [
      "Enter a string akssoks\n",
      "The string contain 's' alphabet 3 times in the string.\n"
     ]
    }
   ],
   "source": [
    "# Create a function named ‘check_string’, the function should accept a string data from the\n",
    "# user and the function should check if the user input contains the letter ‘s’ in it. If it contains\n",
    "# the letter ‘s’ then print- ‘The string is containing the letter ‘s’’, if not then print- ‘The string\n",
    "# doesn’t contain the letter ‘s’’\n",
    "\n",
    "class check:\n",
    "    def check_string ():\n",
    "        user_input = input(\"Enter a string \")\n",
    "        if \"s\" in user_input:\n",
    "            result = print(\"The string contain 's' alphabet\", user_input.count(\"s\"), \"times in the string.\")\n",
    "            \n",
    "        else:\n",
    "            result = print(\"The string doesn't contain 's'.\")\n",
    "        \n",
    "         \n",
    "        return result\n",
    "obj = check\n",
    "obj.check_string()"
   ]
  },
  {
   "cell_type": "markdown",
   "id": "b6106dfc",
   "metadata": {},
   "source": [
    "# Create a function named ‘factor’ that can only accept 1 argument. The function should return the factorial of that number.\n"
   ]
  },
  {
   "cell_type": "code",
   "execution_count": 17,
   "id": "17314142",
   "metadata": {},
   "outputs": [
    {
     "name": "stdout",
     "output_type": "stream",
     "text": [
      "Enter a number: 5\n"
     ]
    },
    {
     "data": {
      "text/plain": [
       "120"
      ]
     },
     "execution_count": 17,
     "metadata": {},
     "output_type": "execute_result"
    }
   ],
   "source": [
    "class fun3:\n",
    "    def factor(n):\n",
    "        factorial = 1\n",
    "        for i in range (n):\n",
    "            factorial *= i+1\n",
    "            \n",
    "        return factorial\n",
    "    \n",
    "obj = fun3\n",
    "obj.factor(int(input(\"Enter a number: \")))\n",
    "\n",
    "\n",
    "\n"
   ]
  },
  {
   "cell_type": "code",
   "execution_count": null,
   "id": "f888d7ac",
   "metadata": {},
   "outputs": [],
   "source": []
  },
  {
   "cell_type": "code",
   "execution_count": 35,
   "id": "fa68fae8",
   "metadata": {},
   "outputs": [
    {
     "data": {
      "text/plain": [
       "6"
      ]
     },
     "execution_count": 35,
     "metadata": {},
     "output_type": "execute_result"
    }
   ],
   "source": [
    "double_num1 = lambda a:a*2\n",
    "double_num1 (3)"
   ]
  },
  {
   "cell_type": "code",
   "execution_count": 1,
   "id": "a66b14ee",
   "metadata": {},
   "outputs": [
    {
     "name": "stdout",
     "output_type": "stream",
     "text": [
      "John 20 male\n"
     ]
    }
   ],
   "source": [
    "class person:\n",
    "    \n",
    "    def details(self,Name):\n",
    "        age = 20\n",
    "        gender = \"male\"\n",
    "        print(Name,age,gender)\n",
    "        \n",
    "obj = person()\n",
    "obj.details(\"John\")\n",
    "    "
   ]
  },
  {
   "cell_type": "code",
   "execution_count": 6,
   "id": "36489744",
   "metadata": {},
   "outputs": [
    {
     "name": "stdout",
     "output_type": "stream",
     "text": [
      "Bajaj Blue\n",
      "Bajaj Blue\n"
     ]
    }
   ],
   "source": [
    "class bike:\n",
    "    def features(self,bike_name):\n",
    "        self.bike_name = bike_name\n",
    "        self.bike_color = \"Blue\"\n",
    "        print(bike_name,self.bike_color)\n",
    "        \n",
    "    def disp(self):\n",
    "        print(self.bike_name,self.bike_color)\n",
    "        \n",
    "obj = bike()\n",
    "obj.features(\"Bajaj\")\n",
    "obj.disp()\n",
    "        "
   ]
  },
  {
   "cell_type": "code",
   "execution_count": 11,
   "id": "ea4afcf4",
   "metadata": {},
   "outputs": [
    {
     "name": "stdout",
     "output_type": "stream",
     "text": [
      "Hyundai red\n"
     ]
    }
   ],
   "source": [
    "class car:\n",
    "    def __init__(self,car_color):\n",
    "        self.car_color = car_color\n",
    "        self.car_name = \"Hyundai\"\n",
    "#         print(self.car_name,car_color)\n",
    "        \n",
    "    def disp(self):\n",
    "        print(self.car_name,self.car_color)\n",
    "        \n",
    "obj = car(\"red\")\n",
    "obj.disp()"
   ]
  },
  {
   "cell_type": "code",
   "execution_count": 17,
   "id": "d7c68d4a",
   "metadata": {},
   "outputs": [
    {
     "data": {
      "text/plain": [
       "10"
      ]
     },
     "execution_count": 17,
     "metadata": {},
     "output_type": "execute_result"
    }
   ],
   "source": [
    "class calculator:\n",
    "    def even(self,b):\n",
    "        if b%2 == 0:\n",
    "            result = self.square(b)\n",
    "        else:\n",
    "            result = self.double(b)\n",
    "            \n",
    "        return result\n",
    "    \n",
    "    def square(self,a):\n",
    "        return a**2\n",
    "    \n",
    "    def double(self,a):\n",
    "        return a*2\n",
    "    \n",
    "obj = calculator()\n",
    "obj.even(5) "
   ]
  },
  {
   "cell_type": "code",
   "execution_count": 18,
   "id": "6f5e5461",
   "metadata": {},
   "outputs": [
    {
     "data": {
      "text/plain": [
       "36"
      ]
     },
     "execution_count": 18,
     "metadata": {},
     "output_type": "execute_result"
    }
   ],
   "source": [
    "class calculator:\n",
    "    def even(self,a):\n",
    "        self.a = a\n",
    "        if a%2 == 0:\n",
    "            result = self.square()\n",
    "            \n",
    "        else:\n",
    "            result = self.double()\n",
    "            \n",
    "        return result\n",
    "    def square(self):\n",
    "        return self.a**2\n",
    "    def double(self):\n",
    "        return self.a*2\n",
    "    \n",
    "obj = calculator()\n",
    "obj.even(6)\n",
    "        "
   ]
  },
  {
   "cell_type": "code",
   "execution_count": 24,
   "id": "77e59ea6",
   "metadata": {},
   "outputs": [
    {
     "name": "stdout",
     "output_type": "stream",
     "text": [
      "Enter a number6\n",
      "6\n"
     ]
    }
   ],
   "source": [
    "class student:\n",
    "    def fun1(self,a):\n",
    "        self.a = a\n",
    "        return self.a\n",
    "    \n",
    "    def message(self):\n",
    "        print(self.a)\n",
    "        \n",
    "obj = student()\n",
    "result = obj.fun1(int(input(\"Enter a number\")))\n",
    "obj.message()        "
   ]
  },
  {
   "cell_type": "code",
   "execution_count": null,
   "id": "9626ab65",
   "metadata": {},
   "outputs": [],
   "source": []
  }
 ],
 "metadata": {
  "kernelspec": {
   "display_name": "Python 3 (ipykernel)",
   "language": "python",
   "name": "python3"
  },
  "language_info": {
   "codemirror_mode": {
    "name": "ipython",
    "version": 3
   },
   "file_extension": ".py",
   "mimetype": "text/x-python",
   "name": "python",
   "nbconvert_exporter": "python",
   "pygments_lexer": "ipython3",
   "version": "3.11.5"
  }
 },
 "nbformat": 4,
 "nbformat_minor": 5
}
