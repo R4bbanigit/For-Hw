{
 "cells": [
  {
   "cell_type": "code",
   "execution_count": 1,
   "id": "20e57ad8",
   "metadata": {},
   "outputs": [],
   "source": [
    "import module"
   ]
  },
  {
   "cell_type": "code",
   "execution_count": 2,
   "id": "dee40845",
   "metadata": {},
   "outputs": [
    {
     "data": {
      "text/plain": [
       "13"
      ]
     },
     "execution_count": 2,
     "metadata": {},
     "output_type": "execute_result"
    }
   ],
   "source": [
    "module.addition(5,8)"
   ]
  },
  {
   "cell_type": "code",
   "execution_count": 3,
   "id": "6ae3363a",
   "metadata": {},
   "outputs": [
    {
     "data": {
      "text/plain": [
       "5"
      ]
     },
     "execution_count": 3,
     "metadata": {},
     "output_type": "execute_result"
    }
   ],
   "source": [
    "module.substraction(8,3)"
   ]
  },
  {
   "cell_type": "code",
   "execution_count": 8,
   "id": "f457f49e",
   "metadata": {},
   "outputs": [],
   "source": [
    "from module import multiplication,division,addition,substraction"
   ]
  },
  {
   "cell_type": "code",
   "execution_count": 9,
   "id": "753fe1da",
   "metadata": {},
   "outputs": [
    {
     "data": {
      "text/plain": [
       "28"
      ]
     },
     "execution_count": 9,
     "metadata": {},
     "output_type": "execute_result"
    }
   ],
   "source": [
    "multiplication(7,4)"
   ]
  },
  {
   "cell_type": "code",
   "execution_count": 10,
   "id": "6f6b60b8",
   "metadata": {},
   "outputs": [
    {
     "data": {
      "text/plain": [
       "7.0"
      ]
     },
     "execution_count": 10,
     "metadata": {},
     "output_type": "execute_result"
    }
   ],
   "source": [
    "division(49,7)"
   ]
  },
  {
   "cell_type": "code",
   "execution_count": 11,
   "id": "277d0210",
   "metadata": {},
   "outputs": [
    {
     "data": {
      "text/plain": [
       "13"
      ]
     },
     "execution_count": 11,
     "metadata": {},
     "output_type": "execute_result"
    }
   ],
   "source": [
    "addition(5,8)"
   ]
  },
  {
   "cell_type": "code",
   "execution_count": 12,
   "id": "101ac8f1",
   "metadata": {},
   "outputs": [
    {
     "data": {
      "text/plain": [
       "3"
      ]
     },
     "execution_count": 12,
     "metadata": {},
     "output_type": "execute_result"
    }
   ],
   "source": [
    "substraction(7,4)"
   ]
  },
  {
   "cell_type": "code",
   "execution_count": 1,
   "id": "dce1c447",
   "metadata": {},
   "outputs": [
    {
     "name": "stdout",
     "output_type": "stream",
     "text": [
      "153\n",
      "1\n",
      "125\n",
      "27\n",
      "Armstrong number\n",
      "3\n",
      "Non Prime\n",
      "\n"
     ]
    }
   ],
   "source": [
    "n = input()\n",
    "sum1 = 0\n",
    "\n",
    "\n",
    "for i in (n):\n",
    "    print(int(i)**3)\n",
    "    sum1 = sum1 + int(i)**3\n",
    "    \n",
    "if int(n)  == sum1:\n",
    "    print(\"Armstrong number\")\n",
    "    \n",
    "else:\n",
    "    print(\"Not Armstrong number\")\n",
    "    \n",
    "a = \"Prime\"   \n",
    "for i in range (2,int(n)):\n",
    "    if int(n)%i == 0:\n",
    "        print(i)\n",
    "        a = \"Non Prime\"\n",
    "        break\n",
    "        \n",
    "print(a)\n",
    "print()\n",
    "    "
   ]
  },
  {
   "cell_type": "code",
   "execution_count": 31,
   "id": "126b5f30",
   "metadata": {},
   "outputs": [],
   "source": [
    "import module"
   ]
  },
  {
   "cell_type": "code",
   "execution_count": 2,
   "id": "cc7aa8ab",
   "metadata": {},
   "outputs": [
    {
     "data": {
      "text/plain": [
       "12"
      ]
     },
     "execution_count": 2,
     "metadata": {},
     "output_type": "execute_result"
    }
   ],
   "source": [
    "module.multiplication(3,4)"
   ]
  },
  {
   "cell_type": "code",
   "execution_count": 3,
   "id": "aacfc947",
   "metadata": {},
   "outputs": [
    {
     "data": {
      "text/plain": [
       "5.0"
      ]
     },
     "execution_count": 3,
     "metadata": {},
     "output_type": "execute_result"
    }
   ],
   "source": [
    "module.division(10,2)"
   ]
  },
  {
   "cell_type": "code",
   "execution_count": 26,
   "id": "2e061ecc",
   "metadata": {},
   "outputs": [
    {
     "data": {
      "text/plain": [
       "[0, 1, 1, 2, 3, 5, 8, 13, 21, 34, 55, 89]"
      ]
     },
     "execution_count": 26,
     "metadata": {},
     "output_type": "execute_result"
    }
   ],
   "source": [
    "seq = int(input())\n",
    "\n",
    "a = 0\n",
    "b = 1\n",
    "if seq == 0:\n",
    "    list1= []\n",
    "elif seq == 1:\n",
    "    list1 = [0]\n",
    "elif seq >=2:\n",
    "    list1 = [0,1]\n",
    "\n",
    "for i in range(seq):\n",
    "    c = a+b\n",
    "    a = b\n",
    "    b = c\n",
    "    \n",
    "    list1.append(c)\n",
    "list1"
   ]
  },
  {
   "cell_type": "code",
   "execution_count": null,
   "id": "358844c0",
   "metadata": {},
   "outputs": [],
   "source": []
  },
  {
   "cell_type": "code",
   "execution_count": null,
   "id": "635c6910",
   "metadata": {},
   "outputs": [],
   "source": []
  }
 ],
 "metadata": {
  "kernelspec": {
   "display_name": "Python 3 (ipykernel)",
   "language": "python",
   "name": "python3"
  },
  "language_info": {
   "codemirror_mode": {
    "name": "ipython",
    "version": 3
   },
   "file_extension": ".py",
   "mimetype": "text/x-python",
   "name": "python",
   "nbconvert_exporter": "python",
   "pygments_lexer": "ipython3",
   "version": "3.11.5"
  }
 },
 "nbformat": 4,
 "nbformat_minor": 5
}
