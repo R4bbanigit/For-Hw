{
 "cells": [
  {
   "cell_type": "code",
   "execution_count": 7,
   "id": "58aa64da",
   "metadata": {},
   "outputs": [
    {
     "data": {
      "text/plain": [
       "10"
      ]
     },
     "execution_count": 7,
     "metadata": {},
     "output_type": "execute_result"
    }
   ],
   "source": [
    "#operator's\n",
    "#arithmatic operator's\n",
    "#comparison operato's\n",
    "# logical operator's\n",
    "# identity operator's\n",
    "# membership operator's\n",
    "# comparison operator's\n",
    "# assignment operato's\n",
    "a = 4\n",
    "b = 6\n",
    "c = a*b\n",
    "a+b"
   ]
  },
  {
   "cell_type": "code",
   "execution_count": 2,
   "id": "54e2f35c",
   "metadata": {},
   "outputs": [
    {
     "data": {
      "text/plain": [
       "-2"
      ]
     },
     "execution_count": 2,
     "metadata": {},
     "output_type": "execute_result"
    }
   ],
   "source": [
    "a-b"
   ]
  },
  {
   "cell_type": "code",
   "execution_count": 3,
   "id": "8e8410fb",
   "metadata": {},
   "outputs": [
    {
     "data": {
      "text/plain": [
       "24"
      ]
     },
     "execution_count": 3,
     "metadata": {},
     "output_type": "execute_result"
    }
   ],
   "source": [
    "a*b"
   ]
  },
  {
   "cell_type": "code",
   "execution_count": 4,
   "id": "adbbbe1f",
   "metadata": {},
   "outputs": [
    {
     "name": "stderr",
     "output_type": "stream",
     "text": [
      "<>:1: SyntaxWarning: \"is\" with a literal. Did you mean \"==\"?\n",
      "<>:1: SyntaxWarning: \"is\" with a literal. Did you mean \"==\"?\n",
      "C:\\Users\\DELL\\AppData\\Local\\Temp\\ipykernel_15548\\2633425786.py:1: SyntaxWarning: \"is\" with a literal. Did you mean \"==\"?\n",
      "  a is 4\n"
     ]
    },
    {
     "data": {
      "text/plain": [
       "True"
      ]
     },
     "execution_count": 4,
     "metadata": {},
     "output_type": "execute_result"
    }
   ],
   "source": [
    "a is 4"
   ]
  },
  {
   "cell_type": "code",
   "execution_count": 5,
   "id": "d1f0e606",
   "metadata": {},
   "outputs": [
    {
     "data": {
      "text/plain": [
       "False"
      ]
     },
     "execution_count": 5,
     "metadata": {},
     "output_type": "execute_result"
    }
   ],
   "source": [
    "a > b"
   ]
  },
  {
   "cell_type": "code",
   "execution_count": 8,
   "id": "5f23b7cb",
   "metadata": {},
   "outputs": [
    {
     "data": {
      "text/plain": [
       "24"
      ]
     },
     "execution_count": 8,
     "metadata": {},
     "output_type": "execute_result"
    }
   ],
   "source": [
    "c"
   ]
  },
  {
   "cell_type": "code",
   "execution_count": 9,
   "id": "176a3c9f",
   "metadata": {},
   "outputs": [
    {
     "data": {
      "text/plain": [
       "False"
      ]
     },
     "execution_count": 9,
     "metadata": {},
     "output_type": "execute_result"
    }
   ],
   "source": [
    "a > b and b < a"
   ]
  },
  {
   "cell_type": "code",
   "execution_count": 10,
   "id": "46e27403",
   "metadata": {},
   "outputs": [
    {
     "data": {
      "text/plain": [
       "True"
      ]
     },
     "execution_count": 10,
     "metadata": {},
     "output_type": "execute_result"
    }
   ],
   "source": [
    "a <= b"
   ]
  },
  {
   "cell_type": "code",
   "execution_count": 11,
   "id": "eb592c1e",
   "metadata": {},
   "outputs": [
    {
     "data": {
      "text/plain": [
       "True"
      ]
     },
     "execution_count": 11,
     "metadata": {},
     "output_type": "execute_result"
    }
   ],
   "source": [
    "a = (1,2,3,4,5,6,7,8)\n",
    "7 in a"
   ]
  },
  {
   "cell_type": "code",
   "execution_count": 12,
   "id": "282ab7c5",
   "metadata": {},
   "outputs": [
    {
     "data": {
      "text/plain": [
       "False"
      ]
     },
     "execution_count": 12,
     "metadata": {},
     "output_type": "execute_result"
    }
   ],
   "source": [
    "8 not in a"
   ]
  },
  {
   "cell_type": "code",
   "execution_count": null,
   "id": "a19892b3",
   "metadata": {},
   "outputs": [],
   "source": [
    "# data type's\n",
    "# int \n",
    "# str\n",
    "# float\n",
    "# bool\n"
   ]
  },
  {
   "cell_type": "code",
   "execution_count": 14,
   "id": "6a884543",
   "metadata": {},
   "outputs": [
    {
     "data": {
      "text/plain": [
       "int"
      ]
     },
     "execution_count": 14,
     "metadata": {},
     "output_type": "execute_result"
    }
   ],
   "source": [
    "var = 256\n",
    "type (var)"
   ]
  },
  {
   "cell_type": "code",
   "execution_count": 15,
   "id": "6202f7f6",
   "metadata": {},
   "outputs": [
    {
     "data": {
      "text/plain": [
       "256.0"
      ]
     },
     "execution_count": 15,
     "metadata": {},
     "output_type": "execute_result"
    }
   ],
   "source": [
    "float(var)"
   ]
  },
  {
   "cell_type": "code",
   "execution_count": 16,
   "id": "c686a1c8",
   "metadata": {},
   "outputs": [
    {
     "data": {
      "text/plain": [
       "'256'"
      ]
     },
     "execution_count": 16,
     "metadata": {},
     "output_type": "execute_result"
    }
   ],
   "source": [
    "str(var)"
   ]
  },
  {
   "cell_type": "code",
   "execution_count": 17,
   "id": "055624ad",
   "metadata": {},
   "outputs": [
    {
     "data": {
      "text/plain": [
       "float"
      ]
     },
     "execution_count": 17,
     "metadata": {},
     "output_type": "execute_result"
    }
   ],
   "source": [
    "var = -2.8\n",
    "type(var)"
   ]
  },
  {
   "cell_type": "code",
   "execution_count": 18,
   "id": "c8ade073",
   "metadata": {},
   "outputs": [
    {
     "data": {
      "text/plain": [
       "-2"
      ]
     },
     "execution_count": 18,
     "metadata": {},
     "output_type": "execute_result"
    }
   ],
   "source": [
    "int(var)"
   ]
  },
  {
   "cell_type": "code",
   "execution_count": 19,
   "id": "1658c6b9",
   "metadata": {},
   "outputs": [
    {
     "data": {
      "text/plain": [
       "'-2.8'"
      ]
     },
     "execution_count": 19,
     "metadata": {},
     "output_type": "execute_result"
    }
   ],
   "source": [
    "str(var)"
   ]
  },
  {
   "cell_type": "code",
   "execution_count": 20,
   "id": "cf122ca1",
   "metadata": {},
   "outputs": [
    {
     "data": {
      "text/plain": [
       "-2"
      ]
     },
     "execution_count": 20,
     "metadata": {},
     "output_type": "execute_result"
    }
   ],
   "source": [
    "int(var)"
   ]
  },
  {
   "cell_type": "code",
   "execution_count": 21,
   "id": "3ce51af0",
   "metadata": {},
   "outputs": [
    {
     "data": {
      "text/plain": [
       "str"
      ]
     },
     "execution_count": 21,
     "metadata": {},
     "output_type": "execute_result"
    }
   ],
   "source": [
    "var1=('-8.9')\n",
    "type(var1)"
   ]
  },
  {
   "cell_type": "code",
   "execution_count": 24,
   "id": "0b3a1520",
   "metadata": {},
   "outputs": [
    {
     "data": {
      "text/plain": [
       "-8"
      ]
     },
     "execution_count": 24,
     "metadata": {},
     "output_type": "execute_result"
    }
   ],
   "source": [
    "int(float(var1))"
   ]
  },
  {
   "cell_type": "code",
   "execution_count": 26,
   "id": "49ad5039",
   "metadata": {},
   "outputs": [
    {
     "data": {
      "text/plain": [
       "list"
      ]
     },
     "execution_count": 26,
     "metadata": {},
     "output_type": "execute_result"
    }
   ],
   "source": [
    "# data structure\n",
    "# list\n",
    "# set\n",
    "# tuple\n",
    "# dictionary\n",
    "num1= [1,2,3,4,5,6]\n",
    "type(num1)"
   ]
  },
  {
   "cell_type": "code",
   "execution_count": 27,
   "id": "43075683",
   "metadata": {},
   "outputs": [
    {
     "data": {
      "text/plain": [
       "6"
      ]
     },
     "execution_count": 27,
     "metadata": {},
     "output_type": "execute_result"
    }
   ],
   "source": [
    "len(num1)"
   ]
  },
  {
   "cell_type": "code",
   "execution_count": 28,
   "id": "db7addeb",
   "metadata": {},
   "outputs": [
    {
     "data": {
      "text/plain": [
       "6"
      ]
     },
     "execution_count": 28,
     "metadata": {},
     "output_type": "execute_result"
    }
   ],
   "source": [
    "max(num1)"
   ]
  },
  {
   "cell_type": "code",
   "execution_count": 29,
   "id": "96323901",
   "metadata": {},
   "outputs": [
    {
     "data": {
      "text/plain": [
       "1"
      ]
     },
     "execution_count": 29,
     "metadata": {},
     "output_type": "execute_result"
    }
   ],
   "source": [
    "min(num1)"
   ]
  },
  {
   "cell_type": "code",
   "execution_count": 30,
   "id": "26b702f1",
   "metadata": {},
   "outputs": [
    {
     "data": {
      "text/plain": [
       "21"
      ]
     },
     "execution_count": 30,
     "metadata": {},
     "output_type": "execute_result"
    }
   ],
   "source": [
    "sum(num1)"
   ]
  },
  {
   "cell_type": "code",
   "execution_count": 31,
   "id": "10d289f6",
   "metadata": {},
   "outputs": [
    {
     "data": {
      "text/plain": [
       "3.5"
      ]
     },
     "execution_count": 31,
     "metadata": {},
     "output_type": "execute_result"
    }
   ],
   "source": [
    "sum(num1)/6"
   ]
  },
  {
   "cell_type": "code",
   "execution_count": 32,
   "id": "20190f7b",
   "metadata": {},
   "outputs": [
    {
     "data": {
      "text/plain": [
       "1"
      ]
     },
     "execution_count": 32,
     "metadata": {},
     "output_type": "execute_result"
    }
   ],
   "source": [
    "num1.count(6)"
   ]
  },
  {
   "cell_type": "code",
   "execution_count": 33,
   "id": "adad463c",
   "metadata": {},
   "outputs": [
    {
     "data": {
      "text/plain": [
       "4"
      ]
     },
     "execution_count": 33,
     "metadata": {},
     "output_type": "execute_result"
    }
   ],
   "source": [
    "num1.index(5)"
   ]
  },
  {
   "cell_type": "code",
   "execution_count": 35,
   "id": "d90b2933",
   "metadata": {},
   "outputs": [
    {
     "data": {
      "text/plain": [
       "[4, 6]"
      ]
     },
     "execution_count": 35,
     "metadata": {},
     "output_type": "execute_result"
    }
   ],
   "source": [
    "num1[3:6:2]"
   ]
  },
  {
   "cell_type": "code",
   "execution_count": 36,
   "id": "8db6d77b",
   "metadata": {},
   "outputs": [
    {
     "data": {
      "text/plain": [
       "[1, 2, 3, 4, 5, 6]"
      ]
     },
     "execution_count": 36,
     "metadata": {},
     "output_type": "execute_result"
    }
   ],
   "source": [
    "num1"
   ]
  },
  {
   "cell_type": "code",
   "execution_count": 37,
   "id": "0c34cd28",
   "metadata": {},
   "outputs": [],
   "source": [
    "num1.append(8)"
   ]
  },
  {
   "cell_type": "code",
   "execution_count": 38,
   "id": "3f40aaa6",
   "metadata": {},
   "outputs": [
    {
     "data": {
      "text/plain": [
       "[1, 2, 3, 4, 5, 6, 8]"
      ]
     },
     "execution_count": 38,
     "metadata": {},
     "output_type": "execute_result"
    }
   ],
   "source": [
    "num1"
   ]
  },
  {
   "cell_type": "code",
   "execution_count": 39,
   "id": "baa1c034",
   "metadata": {},
   "outputs": [],
   "source": [
    "num1.insert(6,7)"
   ]
  },
  {
   "cell_type": "code",
   "execution_count": 40,
   "id": "859c4f45",
   "metadata": {},
   "outputs": [
    {
     "data": {
      "text/plain": [
       "[1, 2, 3, 4, 5, 6, 7, 8]"
      ]
     },
     "execution_count": 40,
     "metadata": {},
     "output_type": "execute_result"
    }
   ],
   "source": [
    "num1"
   ]
  },
  {
   "cell_type": "code",
   "execution_count": 41,
   "id": "95135950",
   "metadata": {},
   "outputs": [
    {
     "data": {
      "text/plain": [
       "[1, 2, 3, 4, 5, 6, 7, 8]"
      ]
     },
     "execution_count": 41,
     "metadata": {},
     "output_type": "execute_result"
    }
   ],
   "source": [
    "num2 = [9,10,11,12,13,14,15]\n",
    "num1"
   ]
  },
  {
   "cell_type": "code",
   "execution_count": 42,
   "id": "e47441dd",
   "metadata": {},
   "outputs": [],
   "source": [
    "num1.extend(num2)"
   ]
  },
  {
   "cell_type": "code",
   "execution_count": 43,
   "id": "8e3b0a42",
   "metadata": {},
   "outputs": [
    {
     "data": {
      "text/plain": [
       "[1, 2, 3, 4, 5, 6, 7, 8, 9, 10, 11, 12, 13, 14, 15]"
      ]
     },
     "execution_count": 43,
     "metadata": {},
     "output_type": "execute_result"
    }
   ],
   "source": [
    "num1"
   ]
  },
  {
   "cell_type": "code",
   "execution_count": 44,
   "id": "a2a6bc07",
   "metadata": {},
   "outputs": [],
   "source": [
    "num1.remove(10)"
   ]
  },
  {
   "cell_type": "code",
   "execution_count": 45,
   "id": "ec74f59a",
   "metadata": {},
   "outputs": [
    {
     "data": {
      "text/plain": [
       "[1, 2, 3, 4, 5, 6, 7, 8, 9, 11, 12, 13, 14, 15]"
      ]
     },
     "execution_count": 45,
     "metadata": {},
     "output_type": "execute_result"
    }
   ],
   "source": [
    "num1"
   ]
  },
  {
   "cell_type": "code",
   "execution_count": 47,
   "id": "7f12304b",
   "metadata": {},
   "outputs": [
    {
     "data": {
      "text/plain": [
       "11"
      ]
     },
     "execution_count": 47,
     "metadata": {},
     "output_type": "execute_result"
    }
   ],
   "source": [
    "num1.pop(9)"
   ]
  },
  {
   "cell_type": "code",
   "execution_count": 51,
   "id": "d623807a",
   "metadata": {},
   "outputs": [
    {
     "data": {
      "text/plain": [
       "[1, 2, 8, 9, 12, 13, 14, 15]"
      ]
     },
     "execution_count": 51,
     "metadata": {},
     "output_type": "execute_result"
    }
   ],
   "source": [
    "num1"
   ]
  },
  {
   "cell_type": "code",
   "execution_count": 49,
   "id": "7e43f896",
   "metadata": {},
   "outputs": [],
   "source": [
    "del num1[2:7]"
   ]
  },
  {
   "cell_type": "code",
   "execution_count": 50,
   "id": "8a3722ba",
   "metadata": {},
   "outputs": [
    {
     "data": {
      "text/plain": [
       "[1, 2, 8, 9, 12, 13, 14, 15]"
      ]
     },
     "execution_count": 50,
     "metadata": {},
     "output_type": "execute_result"
    }
   ],
   "source": [
    "num1"
   ]
  },
  {
   "cell_type": "code",
   "execution_count": 52,
   "id": "a2e45f45",
   "metadata": {},
   "outputs": [],
   "source": [
    "del num1"
   ]
  },
  {
   "cell_type": "code",
   "execution_count": 53,
   "id": "3cba8e30",
   "metadata": {},
   "outputs": [
    {
     "ename": "NameError",
     "evalue": "name 'num1' is not defined",
     "output_type": "error",
     "traceback": [
      "\u001b[1;31m---------------------------------------------------------------------------\u001b[0m",
      "\u001b[1;31mNameError\u001b[0m                                 Traceback (most recent call last)",
      "Cell \u001b[1;32mIn[53], line 1\u001b[0m\n\u001b[1;32m----> 1\u001b[0m num1\n",
      "\u001b[1;31mNameError\u001b[0m: name 'num1' is not defined"
     ]
    }
   ],
   "source": [
    "num1"
   ]
  },
  {
   "cell_type": "code",
   "execution_count": 54,
   "id": "fc1744b6",
   "metadata": {},
   "outputs": [
    {
     "data": {
      "text/plain": [
       "[9, 10, 11, 12, 13, 14, 15]"
      ]
     },
     "execution_count": 54,
     "metadata": {},
     "output_type": "execute_result"
    }
   ],
   "source": [
    "num2"
   ]
  },
  {
   "cell_type": "code",
   "execution_count": 56,
   "id": "0e1e15e0",
   "metadata": {},
   "outputs": [],
   "source": [
    "num2.clear()"
   ]
  },
  {
   "cell_type": "code",
   "execution_count": 57,
   "id": "b4362244",
   "metadata": {},
   "outputs": [
    {
     "data": {
      "text/plain": [
       "[]"
      ]
     },
     "execution_count": 57,
     "metadata": {},
     "output_type": "execute_result"
    }
   ],
   "source": [
    "num2"
   ]
  },
  {
   "cell_type": "code",
   "execution_count": 58,
   "id": "fdf83140",
   "metadata": {},
   "outputs": [
    {
     "data": {
      "text/plain": [
       "list"
      ]
     },
     "execution_count": 58,
     "metadata": {},
     "output_type": "execute_result"
    }
   ],
   "source": [
    "a = [[1,2,3],4,5,6,7]\n",
    "type(a)"
   ]
  },
  {
   "cell_type": "code",
   "execution_count": 59,
   "id": "93d1d5bc",
   "metadata": {},
   "outputs": [],
   "source": [
    "a[0][2]=8"
   ]
  },
  {
   "cell_type": "code",
   "execution_count": 60,
   "id": "47de46d7",
   "metadata": {},
   "outputs": [
    {
     "data": {
      "text/plain": [
       "[[1, 2, 8], 4, 5, 6, 7]"
      ]
     },
     "execution_count": 60,
     "metadata": {},
     "output_type": "execute_result"
    }
   ],
   "source": [
    "a"
   ]
  },
  {
   "cell_type": "code",
   "execution_count": 61,
   "id": "69276fac",
   "metadata": {},
   "outputs": [
    {
     "data": {
      "text/plain": [
       "([1, 2, 8], 4, 5, 6, 7)"
      ]
     },
     "execution_count": 61,
     "metadata": {},
     "output_type": "execute_result"
    }
   ],
   "source": [
    "tuple(a)"
   ]
  },
  {
   "cell_type": "code",
   "execution_count": 63,
   "id": "a4909b4d",
   "metadata": {},
   "outputs": [
    {
     "data": {
      "text/plain": [
       "5"
      ]
     },
     "execution_count": 63,
     "metadata": {},
     "output_type": "execute_result"
    }
   ],
   "source": [
    "len(a)"
   ]
  },
  {
   "cell_type": "code",
   "execution_count": 67,
   "id": "cc24d0ba",
   "metadata": {},
   "outputs": [
    {
     "data": {
      "text/plain": [
       "tuple"
      ]
     },
     "execution_count": 67,
     "metadata": {},
     "output_type": "execute_result"
    }
   ],
   "source": [
    "roll = (56,67,87,43,23,47,12)\n",
    "roll1 = (1,2,3,4,5)\n",
    "type(roll)"
   ]
  },
  {
   "cell_type": "code",
   "execution_count": 68,
   "id": "716a032e",
   "metadata": {},
   "outputs": [
    {
     "data": {
      "text/plain": [
       "(67, 87, 43)"
      ]
     },
     "execution_count": 68,
     "metadata": {},
     "output_type": "execute_result"
    }
   ],
   "source": [
    "roll[1:4]"
   ]
  },
  {
   "cell_type": "code",
   "execution_count": 69,
   "id": "b0a50d4b",
   "metadata": {},
   "outputs": [
    {
     "data": {
      "text/plain": [
       "(56, 67, 87, 43, 23, 47, 12, 1, 2, 3, 4, 5)"
      ]
     },
     "execution_count": 69,
     "metadata": {},
     "output_type": "execute_result"
    }
   ],
   "source": [
    "roll + roll1"
   ]
  },
  {
   "cell_type": "code",
   "execution_count": 71,
   "id": "802b1059",
   "metadata": {},
   "outputs": [
    {
     "ename": "SyntaxError",
     "evalue": "invalid syntax (1666990568.py, line 3)",
     "output_type": "error",
     "traceback": [
      "\u001b[1;36m  Cell \u001b[1;32mIn[71], line 3\u001b[1;36m\u001b[0m\n\u001b[1;33m    duplicate support\u001b[0m\n\u001b[1;37m              ^\u001b[0m\n\u001b[1;31mSyntaxError\u001b[0m\u001b[1;31m:\u001b[0m invalid syntax\n"
     ]
    }
   ],
   "source": [
    "# list \n",
    "ordered\n",
    "duplicate support\n",
    "sicing\n",
    "indexing\n",
    "mutable\n",
    "set\n",
    "unodered\n",
    "unique\n",
    "no slicing\n",
    "no indexing\n",
    "mutable"
   ]
  },
  {
   "cell_type": "code",
   "execution_count": 72,
   "id": "5ca29b28",
   "metadata": {},
   "outputs": [
    {
     "data": {
      "text/plain": [
       "set"
      ]
     },
     "execution_count": 72,
     "metadata": {},
     "output_type": "execute_result"
    }
   ],
   "source": [
    "a = {1,2,3,4,5}\n",
    "b = {6,7,8,9,10}\n",
    "type(a)"
   ]
  },
  {
   "cell_type": "code",
   "execution_count": 73,
   "id": "4c661da8",
   "metadata": {},
   "outputs": [
    {
     "data": {
      "text/plain": [
       "[1, 2, 3, 4, 5]"
      ]
     },
     "execution_count": 73,
     "metadata": {},
     "output_type": "execute_result"
    }
   ],
   "source": [
    "list(a)"
   ]
  },
  {
   "cell_type": "code",
   "execution_count": 74,
   "id": "cbfe871d",
   "metadata": {},
   "outputs": [
    {
     "data": {
      "text/plain": [
       "(6, 7, 8, 9, 10)"
      ]
     },
     "execution_count": 74,
     "metadata": {},
     "output_type": "execute_result"
    }
   ],
   "source": [
    "tuple(b)"
   ]
  },
  {
   "cell_type": "code",
   "execution_count": 75,
   "id": "bb4e1ce5",
   "metadata": {},
   "outputs": [],
   "source": [
    "a.update(b)"
   ]
  },
  {
   "cell_type": "code",
   "execution_count": 76,
   "id": "12f877e4",
   "metadata": {},
   "outputs": [
    {
     "data": {
      "text/plain": [
       "{1, 2, 3, 4, 5, 6, 7, 8, 9, 10}"
      ]
     },
     "execution_count": 76,
     "metadata": {},
     "output_type": "execute_result"
    }
   ],
   "source": [
    "a"
   ]
  },
  {
   "cell_type": "code",
   "execution_count": 77,
   "id": "c12b1b80",
   "metadata": {},
   "outputs": [],
   "source": [
    "a.remove(10)"
   ]
  },
  {
   "cell_type": "code",
   "execution_count": 78,
   "id": "03a066d0",
   "metadata": {},
   "outputs": [
    {
     "data": {
      "text/plain": [
       "{1, 2, 3, 4, 5, 6, 7, 8, 9}"
      ]
     },
     "execution_count": 78,
     "metadata": {},
     "output_type": "execute_result"
    }
   ],
   "source": [
    "a"
   ]
  },
  {
   "cell_type": "code",
   "execution_count": 80,
   "id": "48cf8889",
   "metadata": {},
   "outputs": [
    {
     "data": {
      "text/plain": [
       "{1, 2, 3, 4, 5, 6}"
      ]
     },
     "execution_count": 80,
     "metadata": {},
     "output_type": "execute_result"
    }
   ],
   "source": [
    "x = {1,2,3,4}\n",
    "y = {3,4,5,6}\n",
    "x.union(y)"
   ]
  },
  {
   "cell_type": "code",
   "execution_count": 81,
   "id": "f2ef0e5f",
   "metadata": {},
   "outputs": [
    {
     "data": {
      "text/plain": [
       "{1, 2}"
      ]
     },
     "execution_count": 81,
     "metadata": {},
     "output_type": "execute_result"
    }
   ],
   "source": [
    "x - y"
   ]
  },
  {
   "cell_type": "code",
   "execution_count": 82,
   "id": "16520914",
   "metadata": {},
   "outputs": [
    {
     "data": {
      "text/plain": [
       "{5, 6}"
      ]
     },
     "execution_count": 82,
     "metadata": {},
     "output_type": "execute_result"
    }
   ],
   "source": [
    "y.difference(x)"
   ]
  },
  {
   "cell_type": "code",
   "execution_count": 83,
   "id": "2045571e",
   "metadata": {},
   "outputs": [],
   "source": [
    "x.add(7)"
   ]
  },
  {
   "cell_type": "code",
   "execution_count": 84,
   "id": "67be626d",
   "metadata": {},
   "outputs": [
    {
     "data": {
      "text/plain": [
       "{1, 2, 3, 4, 7}"
      ]
     },
     "execution_count": 84,
     "metadata": {},
     "output_type": "execute_result"
    }
   ],
   "source": [
    "x"
   ]
  },
  {
   "cell_type": "code",
   "execution_count": null,
   "id": "cbd55433",
   "metadata": {},
   "outputs": [],
   "source": [
    "# Dictionary {}\n",
    "students_marks = {11:78,22:80,23:56,12:67,15:54,16:88,67:34,56:44}\n",
    "type(students_marks)\n",
    "\n"
   ]
  },
  {
   "cell_type": "code",
   "execution_count": null,
   "id": "4c1c43aa",
   "metadata": {},
   "outputs": [],
   "source": [
    "students_marks.items()"
   ]
  },
  {
   "cell_type": "code",
   "execution_count": 88,
   "id": "0a9ad3a4",
   "metadata": {},
   "outputs": [
    {
     "data": {
      "text/plain": [
       "dict_keys([11, 22, 23, 12, 15, 16, 67, 56])"
      ]
     },
     "execution_count": 88,
     "metadata": {},
     "output_type": "execute_result"
    }
   ],
   "source": [
    "students_marks.keys()"
   ]
  },
  {
   "cell_type": "code",
   "execution_count": 89,
   "id": "a865beba",
   "metadata": {},
   "outputs": [
    {
     "data": {
      "text/plain": [
       "dict_values([78, 80, 56, 67, 54, 88, 34, 44])"
      ]
     },
     "execution_count": 89,
     "metadata": {},
     "output_type": "execute_result"
    }
   ],
   "source": [
    "students_marks.values()"
   ]
  },
  {
   "cell_type": "code",
   "execution_count": 90,
   "id": "10a9daaf",
   "metadata": {},
   "outputs": [
    {
     "data": {
      "text/plain": [
       "{11: 78, 22: 80, 23: 56, 12: 67, 15: 54, 16: 88, 67: 34, 56: 44}"
      ]
     },
     "execution_count": 90,
     "metadata": {},
     "output_type": "execute_result"
    }
   ],
   "source": [
    "students_marks"
   ]
  },
  {
   "cell_type": "code",
   "execution_count": 91,
   "id": "e861bcf8",
   "metadata": {},
   "outputs": [],
   "source": [
    "students_marks[12]=99"
   ]
  },
  {
   "cell_type": "code",
   "execution_count": 92,
   "id": "46744215",
   "metadata": {},
   "outputs": [
    {
     "data": {
      "text/plain": [
       "{11: 78, 22: 80, 23: 56, 12: 99, 15: 54, 16: 88, 67: 34, 56: 44}"
      ]
     },
     "execution_count": 92,
     "metadata": {},
     "output_type": "execute_result"
    }
   ],
   "source": [
    "students_marks"
   ]
  },
  {
   "cell_type": "code",
   "execution_count": 93,
   "id": "f01769b7",
   "metadata": {},
   "outputs": [],
   "source": [
    "del students_marks[67]"
   ]
  },
  {
   "cell_type": "code",
   "execution_count": 94,
   "id": "eb71af2e",
   "metadata": {},
   "outputs": [
    {
     "data": {
      "text/plain": [
       "{11: 78, 22: 80, 23: 56, 12: 99, 15: 54, 16: 88, 56: 44}"
      ]
     },
     "execution_count": 94,
     "metadata": {},
     "output_type": "execute_result"
    }
   ],
   "source": [
    "students_marks"
   ]
  },
  {
   "cell_type": "code",
   "execution_count": 98,
   "id": "0a4d3297",
   "metadata": {},
   "outputs": [
    {
     "data": {
      "text/plain": [
       "{11: 78, 22: 80, 23: 56, 12: 99, 15: 54, 16: 88, 56: 44}"
      ]
     },
     "execution_count": 98,
     "metadata": {},
     "output_type": "execute_result"
    }
   ],
   "source": [
    "new_marks = {\"a\":1,\"b\":2,\"c\":2}\n",
    "students_marks"
   ]
  },
  {
   "cell_type": "code",
   "execution_count": 126,
   "id": "2ecadfac",
   "metadata": {},
   "outputs": [],
   "source": [
    "students_marks.update(new_marks)"
   ]
  },
  {
   "cell_type": "code",
   "execution_count": 127,
   "id": "224f24cf",
   "metadata": {},
   "outputs": [
    {
     "data": {
      "text/plain": [
       "{11: 78, 22: 80, 15: 54, 16: 88, 56: 44, 'a': 1, 'b': 2, 'c': 100}"
      ]
     },
     "execution_count": 127,
     "metadata": {},
     "output_type": "execute_result"
    }
   ],
   "source": [
    "students_marks"
   ]
  },
  {
   "cell_type": "code",
   "execution_count": 130,
   "id": "7cd44fca",
   "metadata": {},
   "outputs": [],
   "source": [
    "del students_marks [22] "
   ]
  },
  {
   "cell_type": "code",
   "execution_count": 131,
   "id": "082a3b82",
   "metadata": {},
   "outputs": [
    {
     "data": {
      "text/plain": [
       "{11: 78, 15: 54, 16: 88, 56: 44, 'a': 1, 'b': 2, 'c': 100}"
      ]
     },
     "execution_count": 131,
     "metadata": {},
     "output_type": "execute_result"
    }
   ],
   "source": [
    "students_marks"
   ]
  },
  {
   "cell_type": "code",
   "execution_count": 133,
   "id": "7f612a97",
   "metadata": {},
   "outputs": [],
   "source": [
    "del students_marks [16]"
   ]
  },
  {
   "cell_type": "code",
   "execution_count": 105,
   "id": "f0b417c3",
   "metadata": {},
   "outputs": [
    {
     "data": {
      "text/plain": [
       "{11: 78, 22: 80, 15: 54, 16: 88, 56: 44, 'a': 1, 'b': 2, 'c': 2}"
      ]
     },
     "execution_count": 105,
     "metadata": {},
     "output_type": "execute_result"
    }
   ],
   "source": [
    "students_marks"
   ]
  },
  {
   "cell_type": "code",
   "execution_count": 108,
   "id": "63c95b8f",
   "metadata": {},
   "outputs": [],
   "source": [
    "new_marks['a']=([1,2,3],4,5)"
   ]
  },
  {
   "cell_type": "code",
   "execution_count": 109,
   "id": "60c13979",
   "metadata": {},
   "outputs": [
    {
     "data": {
      "text/plain": [
       "{'a': ([1, 2, 3], 4, 5), 'b': 2, 'c': 2}"
      ]
     },
     "execution_count": 109,
     "metadata": {},
     "output_type": "execute_result"
    }
   ],
   "source": [
    "new_marks"
   ]
  },
  {
   "cell_type": "code",
   "execution_count": 113,
   "id": "e6268d45",
   "metadata": {},
   "outputs": [
    {
     "data": {
      "text/plain": [
       "{'a': ([1, 2, 3], 4, 5), 'b': 3, 'c': 2}"
      ]
     },
     "execution_count": 113,
     "metadata": {},
     "output_type": "execute_result"
    }
   ],
   "source": [
    "d = {'a': ([1, 2, 3], 4, 5), 'b': 2,'b': 3, 'c': 2}\n",
    "d"
   ]
  },
  {
   "cell_type": "code",
   "execution_count": 117,
   "id": "330a5280",
   "metadata": {},
   "outputs": [],
   "source": [
    "d ['a'][0][2]=4"
   ]
  },
  {
   "cell_type": "code",
   "execution_count": 118,
   "id": "4dfdd788",
   "metadata": {},
   "outputs": [
    {
     "data": {
      "text/plain": [
       "{'a': ([1, 2, 4], 4, 5), 'b': 3, 'c': 2}"
      ]
     },
     "execution_count": 118,
     "metadata": {},
     "output_type": "execute_result"
    }
   ],
   "source": [
    "d"
   ]
  },
  {
   "cell_type": "code",
   "execution_count": 119,
   "id": "409b2596",
   "metadata": {},
   "outputs": [
    {
     "data": {
      "text/plain": [
       "{11: 78, 22: 80, 15: 54, 16: 88, 56: 44, 'a': 1, 'b': 2, 'c': 2}"
      ]
     },
     "execution_count": 119,
     "metadata": {},
     "output_type": "execute_result"
    }
   ],
   "source": [
    "students_marks"
   ]
  },
  {
   "cell_type": "code",
   "execution_count": 121,
   "id": "3d9cf3e9",
   "metadata": {},
   "outputs": [],
   "source": [
    "students_marks['c']=100"
   ]
  },
  {
   "cell_type": "code",
   "execution_count": 122,
   "id": "6a5ab08e",
   "metadata": {},
   "outputs": [
    {
     "data": {
      "text/plain": [
       "{11: 78, 22: 80, 15: 54, 16: 88, 56: 44, 'a': 1, 'b': 2, 'c': 100}"
      ]
     },
     "execution_count": 122,
     "metadata": {},
     "output_type": "execute_result"
    }
   ],
   "source": [
    "students_marks"
   ]
  },
  {
   "cell_type": "code",
   "execution_count": null,
   "id": "d5e97f16",
   "metadata": {},
   "outputs": [],
   "source": []
  }
 ],
 "metadata": {
  "kernelspec": {
   "display_name": "Python 3 (ipykernel)",
   "language": "python",
   "name": "python3"
  },
  "language_info": {
   "codemirror_mode": {
    "name": "ipython",
    "version": 3
   },
   "file_extension": ".py",
   "mimetype": "text/x-python",
   "name": "python",
   "nbconvert_exporter": "python",
   "pygments_lexer": "ipython3",
   "version": "3.11.5"
  }
 },
 "nbformat": 4,
 "nbformat_minor": 5
}
