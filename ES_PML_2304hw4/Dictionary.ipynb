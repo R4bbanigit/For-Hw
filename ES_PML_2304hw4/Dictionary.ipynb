{
 "cells": [
  {
   "cell_type": "code",
   "execution_count": null,
   "id": "d6a4435d",
   "metadata": {},
   "outputs": [],
   "source": []
  },
  {
   "cell_type": "code",
   "execution_count": 44,
   "id": "ba5b8c32",
   "metadata": {},
   "outputs": [],
   "source": [
    "students = {'girls':{'g1':{'bangla':67,'english':87,'math':97}, 'g2':65,'g3':70}, 'boys':{'b1':67,'b2':{'bangla':86,'english':88,'math':98},'b3':45}}"
   ]
  },
  {
   "cell_type": "code",
   "execution_count": 45,
   "id": "99a29e15",
   "metadata": {},
   "outputs": [
    {
     "data": {
      "text/plain": [
       "dict"
      ]
     },
     "execution_count": 45,
     "metadata": {},
     "output_type": "execute_result"
    }
   ],
   "source": [
    "type(students)"
   ]
  },
  {
   "cell_type": "code",
   "execution_count": 46,
   "id": "fecb2230",
   "metadata": {},
   "outputs": [
    {
     "data": {
      "text/plain": [
       "dict_keys(['girls', 'boys'])"
      ]
     },
     "execution_count": 46,
     "metadata": {},
     "output_type": "execute_result"
    }
   ],
   "source": [
    "students.keys()"
   ]
  },
  {
   "cell_type": "code",
   "execution_count": 47,
   "id": "31793d1d",
   "metadata": {},
   "outputs": [
    {
     "data": {
      "text/plain": [
       "dict_values([{'g1': {'bangla': 67, 'english': 87, 'math': 97}, 'g2': 65, 'g3': 70}, {'b1': 67, 'b2': {'bangla': 86, 'english': 88, 'math': 98}, 'b3': 45}])"
      ]
     },
     "execution_count": 47,
     "metadata": {},
     "output_type": "execute_result"
    }
   ],
   "source": [
    "students.values()"
   ]
  },
  {
   "cell_type": "code",
   "execution_count": 48,
   "id": "8b5f3e9d",
   "metadata": {},
   "outputs": [
    {
     "data": {
      "text/plain": [
       "dict_items([('girls', {'g1': {'bangla': 67, 'english': 87, 'math': 97}, 'g2': 65, 'g3': 70}), ('boys', {'b1': 67, 'b2': {'bangla': 86, 'english': 88, 'math': 98}, 'b3': 45})])"
      ]
     },
     "execution_count": 48,
     "metadata": {},
     "output_type": "execute_result"
    }
   ],
   "source": [
    "students.items()"
   ]
  },
  {
   "cell_type": "code",
   "execution_count": 49,
   "id": "e5ca333a",
   "metadata": {},
   "outputs": [],
   "source": [
    "students['girls']['g1']['math']=100"
   ]
  },
  {
   "cell_type": "code",
   "execution_count": 50,
   "id": "6c8bf0af",
   "metadata": {},
   "outputs": [
    {
     "data": {
      "text/plain": [
       "{'girls': {'g1': {'bangla': 67, 'english': 87, 'math': 100},\n",
       "  'g2': 65,\n",
       "  'g3': 70},\n",
       " 'boys': {'b1': 67, 'b2': {'bangla': 86, 'english': 88, 'math': 98}, 'b3': 45}}"
      ]
     },
     "execution_count": 50,
     "metadata": {},
     "output_type": "execute_result"
    }
   ],
   "source": [
    "students"
   ]
  },
  {
   "cell_type": "code",
   "execution_count": 52,
   "id": "24b6f719",
   "metadata": {},
   "outputs": [],
   "source": [
    "students['boys']['b2']['english']=100"
   ]
  },
  {
   "cell_type": "code",
   "execution_count": 53,
   "id": "1a79a729",
   "metadata": {},
   "outputs": [
    {
     "data": {
      "text/plain": [
       "{'girls': {'g1': {'bangla': 67, 'english': 87, 'math': 100},\n",
       "  'g2': 65,\n",
       "  'g3': 70},\n",
       " 'boys': {'b1': 67,\n",
       "  'b2': {'bangla': 86, 'english': 100, 'math': 98},\n",
       "  'b3': 45}}"
      ]
     },
     "execution_count": 53,
     "metadata": {},
     "output_type": "execute_result"
    }
   ],
   "source": [
    "students"
   ]
  },
  {
   "cell_type": "code",
   "execution_count": 56,
   "id": "2a970c6b",
   "metadata": {},
   "outputs": [],
   "source": [
    "del students ['boys']['b2']['bangla']"
   ]
  },
  {
   "cell_type": "code",
   "execution_count": 57,
   "id": "59aba10a",
   "metadata": {},
   "outputs": [
    {
     "data": {
      "text/plain": [
       "{'girls': {'g1': {'bangla': 67, 'english': 87, 'math': 100},\n",
       "  'g2': 65,\n",
       "  'g3': 70},\n",
       " 'boys': {'b1': 67, 'b2': {'english': 100, 'math': 98}, 'b3': 45}}"
      ]
     },
     "execution_count": 57,
     "metadata": {},
     "output_type": "execute_result"
    }
   ],
   "source": [
    "students"
   ]
  },
  {
   "cell_type": "code",
   "execution_count": 60,
   "id": "3f76f072",
   "metadata": {},
   "outputs": [],
   "source": [
    "students['boys']['b2']['math']=100"
   ]
  },
  {
   "cell_type": "code",
   "execution_count": 61,
   "id": "1583e0a1",
   "metadata": {},
   "outputs": [
    {
     "data": {
      "text/plain": [
       "{'girls': {'g1': {'bangla': 67, 'english': 87, 'math': 100},\n",
       "  'g2': 65,\n",
       "  'g3': 70},\n",
       " 'boys': {'b1': 67, 'b2': {'english': 100, 'math': 100}, 'b3': 45}}"
      ]
     },
     "execution_count": 61,
     "metadata": {},
     "output_type": "execute_result"
    }
   ],
   "source": [
    "students"
   ]
  },
  {
   "cell_type": "code",
   "execution_count": null,
   "id": "262af2c4",
   "metadata": {},
   "outputs": [],
   "source": [
    "#is it possible to add keys with values in a dictionary?\n"
   ]
  },
  {
   "cell_type": "code",
   "execution_count": 64,
   "id": "2fdf0417",
   "metadata": {},
   "outputs": [
    {
     "data": {
      "text/plain": [
       "{'a': (45, 69)}"
      ]
     },
     "execution_count": 64,
     "metadata": {},
     "output_type": "execute_result"
    }
   ],
   "source": [
    "d = {'a':(45,69)}\n",
    "d\n"
   ]
  },
  {
   "cell_type": "code",
   "execution_count": 65,
   "id": "11736ae2",
   "metadata": {},
   "outputs": [
    {
     "data": {
      "text/plain": [
       "{'b': [76, 67]}"
      ]
     },
     "execution_count": 65,
     "metadata": {},
     "output_type": "execute_result"
    }
   ],
   "source": [
    "c = {'b':[76,67]}\n",
    "c"
   ]
  },
  {
   "cell_type": "code",
   "execution_count": 66,
   "id": "46cdcd84",
   "metadata": {},
   "outputs": [],
   "source": [
    "c ['b']=[1,2,3]"
   ]
  },
  {
   "cell_type": "code",
   "execution_count": 67,
   "id": "29f5c1cd",
   "metadata": {},
   "outputs": [
    {
     "data": {
      "text/plain": [
       "{'b': [1, 2, 3]}"
      ]
     },
     "execution_count": 67,
     "metadata": {},
     "output_type": "execute_result"
    }
   ],
   "source": [
    "c"
   ]
  },
  {
   "cell_type": "code",
   "execution_count": 69,
   "id": "44a46151",
   "metadata": {},
   "outputs": [],
   "source": [
    "d ['a']=[1,[2,3,[4,5,6]],7,8,9]"
   ]
  },
  {
   "cell_type": "code",
   "execution_count": 70,
   "id": "a4fdc95f",
   "metadata": {},
   "outputs": [
    {
     "data": {
      "text/plain": [
       "{'a': [1, [2, 3, [4, 5, 6]], 7, 8, 9]}"
      ]
     },
     "execution_count": 70,
     "metadata": {},
     "output_type": "execute_result"
    }
   ],
   "source": [
    "d"
   ]
  },
  {
   "cell_type": "code",
   "execution_count": 77,
   "id": "4bfd0c74",
   "metadata": {},
   "outputs": [],
   "source": [
    "d ['b']=(\"this is another one\")"
   ]
  },
  {
   "cell_type": "code",
   "execution_count": 78,
   "id": "d6bd4b67",
   "metadata": {},
   "outputs": [
    {
     "data": {
      "text/plain": [
       "{'a': [1, [2, 3, [4, 5, 6]], 7, 8, 9], 'b': 'this is another one'}"
      ]
     },
     "execution_count": 78,
     "metadata": {},
     "output_type": "execute_result"
    }
   ],
   "source": [
    "d"
   ]
  },
  {
   "cell_type": "code",
   "execution_count": 81,
   "id": "7a806cbf",
   "metadata": {},
   "outputs": [
    {
     "data": {
      "text/plain": [
       "[1, [2, 3, [4, 5, 6]], 7, 8, 9]"
      ]
     },
     "execution_count": 81,
     "metadata": {},
     "output_type": "execute_result"
    }
   ],
   "source": [
    "d.get('a')"
   ]
  },
  {
   "cell_type": "code",
   "execution_count": 92,
   "id": "e06e0062",
   "metadata": {},
   "outputs": [
    {
     "data": {
      "text/plain": [
       "{'girls': {'g1': {'bangla': 67, 'english': 87, 'math': 100},\n",
       "  'g2': 65,\n",
       "  'g3': 70},\n",
       " 'boys': {'b1': 67, 'b2': {'english': 100, 'math': 100}, 'b3': 45}}"
      ]
     },
     "execution_count": 92,
     "metadata": {},
     "output_type": "execute_result"
    }
   ],
   "source": [
    "students"
   ]
  },
  {
   "cell_type": "code",
   "execution_count": 104,
   "id": "5c191ab3",
   "metadata": {},
   "outputs": [
    {
     "data": {
      "text/plain": [
       "{'b1': 67, 'b2': {'english': 100, 'math': 100}, 'b3': 45}"
      ]
     },
     "execution_count": 104,
     "metadata": {},
     "output_type": "execute_result"
    }
   ],
   "source": [
    "students['boys']"
   ]
  },
  {
   "cell_type": "code",
   "execution_count": 105,
   "id": "e21d5917",
   "metadata": {},
   "outputs": [
    {
     "data": {
      "text/plain": [
       "2"
      ]
     },
     "execution_count": 105,
     "metadata": {},
     "output_type": "execute_result"
    }
   ],
   "source": [
    "len(students)"
   ]
  },
  {
   "cell_type": "code",
   "execution_count": 106,
   "id": "88457bfe",
   "metadata": {},
   "outputs": [],
   "source": [
    "students['boys']['b2']['bangla']=88"
   ]
  },
  {
   "cell_type": "code",
   "execution_count": 107,
   "id": "2ab85898",
   "metadata": {},
   "outputs": [
    {
     "data": {
      "text/plain": [
       "{'girls': {'g1': {'bangla': 67, 'english': 87, 'math': 100},\n",
       "  'g2': 65,\n",
       "  'g3': 70},\n",
       " 'boys': {'b1': 67,\n",
       "  'b2': {'english': 100, 'math': 100, 'bangla': 88},\n",
       "  'b3': 45}}"
      ]
     },
     "execution_count": 107,
     "metadata": {},
     "output_type": "execute_result"
    }
   ],
   "source": [
    "students"
   ]
  },
  {
   "cell_type": "code",
   "execution_count": 112,
   "id": "2caa3596",
   "metadata": {},
   "outputs": [],
   "source": [
    "students.update({'g2':50, 'b4':60})"
   ]
  },
  {
   "cell_type": "code",
   "execution_count": 109,
   "id": "87d89496",
   "metadata": {},
   "outputs": [
    {
     "data": {
      "text/plain": [
       "{'girls': {'g1': {'bangla': 67, 'english': 87, 'math': 100},\n",
       "  'g2': 65,\n",
       "  'g3': 70},\n",
       " 'boys': {'b1': 67,\n",
       "  'b2': {'english': 100, 'math': 100, 'bangla': 88},\n",
       "  'b3': 45},\n",
       " 'g2': 50,\n",
       " 'b4': 60}"
      ]
     },
     "execution_count": 109,
     "metadata": {},
     "output_type": "execute_result"
    }
   ],
   "source": [
    "students"
   ]
  },
  {
   "cell_type": "code",
   "execution_count": 113,
   "id": "4f6a809e",
   "metadata": {},
   "outputs": [],
   "source": [
    "del students['g2']"
   ]
  },
  {
   "cell_type": "code",
   "execution_count": 114,
   "id": "7950395d",
   "metadata": {},
   "outputs": [
    {
     "data": {
      "text/plain": [
       "{'girls': {'g1': {'bangla': 67, 'english': 87, 'math': 100},\n",
       "  'g2': 65,\n",
       "  'g3': 70},\n",
       " 'boys': {'b1': 67,\n",
       "  'b2': {'english': 100, 'math': 100, 'bangla': 88},\n",
       "  'b3': 45},\n",
       " 'b4': 60}"
      ]
     },
     "execution_count": 114,
     "metadata": {},
     "output_type": "execute_result"
    }
   ],
   "source": [
    "students"
   ]
  },
  {
   "cell_type": "code",
   "execution_count": 122,
   "id": "ab594b20",
   "metadata": {},
   "outputs": [
    {
     "data": {
      "text/plain": [
       "{'b1': 67, 'b2': {'english': 100, 'math': 100, 'bangla': 88}, 'b3': 45}"
      ]
     },
     "execution_count": 122,
     "metadata": {},
     "output_type": "execute_result"
    }
   ],
   "source": [
    "students.get('boys')"
   ]
  },
  {
   "cell_type": "code",
   "execution_count": 116,
   "id": "ecbf167c",
   "metadata": {},
   "outputs": [
    {
     "data": {
      "text/plain": [
       "{'girls': {'g1': {'bangla': 67, 'english': 87, 'math': 100},\n",
       "  'g2': 65,\n",
       "  'g3': 70},\n",
       " 'boys': {'b1': 67,\n",
       "  'b2': {'english': 100, 'math': 100, 'bangla': 88},\n",
       "  'b3': 45},\n",
       " 'b4': 60}"
      ]
     },
     "execution_count": 116,
     "metadata": {},
     "output_type": "execute_result"
    }
   ],
   "source": [
    "students"
   ]
  },
  {
   "cell_type": "code",
   "execution_count": 123,
   "id": "4dbc05b9",
   "metadata": {},
   "outputs": [
    {
     "data": {
      "text/plain": [
       "{'g1': {'bangla': 67, 'english': 87, 'math': 100}, 'g2': 65, 'g3': 70}"
      ]
     },
     "execution_count": 123,
     "metadata": {},
     "output_type": "execute_result"
    }
   ],
   "source": [
    "students.get('girls')"
   ]
  },
  {
   "cell_type": "code",
   "execution_count": 125,
   "id": "c3ac1bde",
   "metadata": {},
   "outputs": [],
   "source": [
    "students['girls']['g1']['compsci']=87"
   ]
  },
  {
   "cell_type": "code",
   "execution_count": 126,
   "id": "9d873dfe",
   "metadata": {},
   "outputs": [
    {
     "data": {
      "text/plain": [
       "{'g1': {'bangla': 67, 'english': 87, 'math': 100, 'compsci': 87},\n",
       " 'g2': 65,\n",
       " 'g3': 70}"
      ]
     },
     "execution_count": 126,
     "metadata": {},
     "output_type": "execute_result"
    }
   ],
   "source": [
    "students.get('girls')"
   ]
  },
  {
   "cell_type": "code",
   "execution_count": null,
   "id": "457a926d",
   "metadata": {},
   "outputs": [],
   "source": []
  }
 ],
 "metadata": {
  "kernelspec": {
   "display_name": "Python 3 (ipykernel)",
   "language": "python",
   "name": "python3"
  },
  "language_info": {
   "codemirror_mode": {
    "name": "ipython",
    "version": 3
   },
   "file_extension": ".py",
   "mimetype": "text/x-python",
   "name": "python",
   "nbconvert_exporter": "python",
   "pygments_lexer": "ipython3",
   "version": "3.11.5"
  }
 },
 "nbformat": 4,
 "nbformat_minor": 5
}
