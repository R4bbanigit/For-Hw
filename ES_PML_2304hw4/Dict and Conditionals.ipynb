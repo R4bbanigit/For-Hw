{
 "cells": [
  {
   "cell_type": "code",
   "execution_count": 1,
   "id": "ee1ecb28",
   "metadata": {},
   "outputs": [
    {
     "data": {
      "text/plain": [
       "dict"
      ]
     },
     "execution_count": 1,
     "metadata": {},
     "output_type": "execute_result"
    }
   ],
   "source": [
    "students_marks = {11:78,22:80,23:56,12:67,15:54,16:88,67:34,56:44}\n",
    "type(students_marks)"
   ]
  },
  {
   "cell_type": "code",
   "execution_count": 2,
   "id": "a6344c24",
   "metadata": {},
   "outputs": [
    {
     "data": {
      "text/plain": [
       "8"
      ]
     },
     "execution_count": 2,
     "metadata": {},
     "output_type": "execute_result"
    }
   ],
   "source": [
    "len(students_marks)"
   ]
  },
  {
   "cell_type": "code",
   "execution_count": 3,
   "id": "776abef4",
   "metadata": {},
   "outputs": [
    {
     "data": {
      "text/plain": [
       "dict_items([(11, 78), (22, 80), (23, 56), (12, 67), (15, 54), (16, 88), (67, 34), (56, 44)])"
      ]
     },
     "execution_count": 3,
     "metadata": {},
     "output_type": "execute_result"
    }
   ],
   "source": [
    "students_marks.items()"
   ]
  },
  {
   "cell_type": "code",
   "execution_count": 4,
   "id": "6bade904",
   "metadata": {},
   "outputs": [
    {
     "data": {
      "text/plain": [
       "dict_keys([11, 22, 23, 12, 15, 16, 67, 56])"
      ]
     },
     "execution_count": 4,
     "metadata": {},
     "output_type": "execute_result"
    }
   ],
   "source": [
    "students_marks.keys()"
   ]
  },
  {
   "cell_type": "code",
   "execution_count": 5,
   "id": "5a6dd7fe",
   "metadata": {},
   "outputs": [
    {
     "data": {
      "text/plain": [
       "dict_values([78, 80, 56, 67, 54, 88, 34, 44])"
      ]
     },
     "execution_count": 5,
     "metadata": {},
     "output_type": "execute_result"
    }
   ],
   "source": [
    "students_marks.values()"
   ]
  },
  {
   "cell_type": "code",
   "execution_count": 7,
   "id": "76143544",
   "metadata": {},
   "outputs": [],
   "source": [
    "students_marks [22]=90"
   ]
  },
  {
   "cell_type": "code",
   "execution_count": 8,
   "id": "cbd5b28d",
   "metadata": {},
   "outputs": [
    {
     "data": {
      "text/plain": [
       "{11: 78, 22: 90, 23: 56, 12: 67, 15: 54, 16: 88, 67: 34, 56: 44}"
      ]
     },
     "execution_count": 8,
     "metadata": {},
     "output_type": "execute_result"
    }
   ],
   "source": [
    "students_marks"
   ]
  },
  {
   "cell_type": "code",
   "execution_count": 11,
   "id": "754e431f",
   "metadata": {},
   "outputs": [],
   "source": [
    "del students_marks [15]"
   ]
  },
  {
   "cell_type": "code",
   "execution_count": 12,
   "id": "bea9ccfc",
   "metadata": {},
   "outputs": [
    {
     "data": {
      "text/plain": [
       "{11: 78, 22: 90, 23: 56, 12: 67, 16: 88, 67: 34, 56: 44}"
      ]
     },
     "execution_count": 12,
     "metadata": {},
     "output_type": "execute_result"
    }
   ],
   "source": [
    "students_marks"
   ]
  },
  {
   "cell_type": "code",
   "execution_count": 14,
   "id": "2da189b3",
   "metadata": {},
   "outputs": [
    {
     "data": {
      "text/plain": [
       "dict"
      ]
     },
     "execution_count": 14,
     "metadata": {},
     "output_type": "execute_result"
    }
   ],
   "source": [
    "students_num = {'girls':{'g1':{'bangla':67,'eng':87,'math':92},'g2':57,'g3':89},'boys':{'b1':98,'b2':{'bangla':87,'eng':78,'math':95},'b3':98}}\n",
    "type(students_num)"
   ]
  },
  {
   "cell_type": "code",
   "execution_count": 15,
   "id": "807ca375",
   "metadata": {},
   "outputs": [
    {
     "data": {
      "text/plain": [
       "{'b1': 98, 'b2': {'bangla': 87, 'eng': 78, 'math': 95}, 'b3': 98}"
      ]
     },
     "execution_count": 15,
     "metadata": {},
     "output_type": "execute_result"
    }
   ],
   "source": [
    "students_num.get(\"boys\")"
   ]
  },
  {
   "cell_type": "code",
   "execution_count": 16,
   "id": "f59de47c",
   "metadata": {},
   "outputs": [
    {
     "data": {
      "text/plain": [
       "{'g1': {'bangla': 67, 'eng': 87, 'math': 92}, 'g2': 57, 'g3': 89}"
      ]
     },
     "execution_count": 16,
     "metadata": {},
     "output_type": "execute_result"
    }
   ],
   "source": [
    "students_num.get('girls')"
   ]
  },
  {
   "cell_type": "code",
   "execution_count": 17,
   "id": "0c91f96a",
   "metadata": {},
   "outputs": [
    {
     "data": {
      "text/plain": [
       "2"
      ]
     },
     "execution_count": 17,
     "metadata": {},
     "output_type": "execute_result"
    }
   ],
   "source": [
    "len(students_num)"
   ]
  },
  {
   "cell_type": "code",
   "execution_count": 19,
   "id": "b89e8335",
   "metadata": {},
   "outputs": [],
   "source": [
    "students_num['boys']['b2']['eng']=80"
   ]
  },
  {
   "cell_type": "code",
   "execution_count": 20,
   "id": "8867c26f",
   "metadata": {},
   "outputs": [
    {
     "data": {
      "text/plain": [
       "{'girls': {'g1': {'bangla': 67, 'eng': 87, 'math': 92}, 'g2': 57, 'g3': 89},\n",
       " 'boys': {'b1': 98, 'b2': {'bangla': 87, 'eng': 80, 'math': 95}, 'b3': 98}}"
      ]
     },
     "execution_count": 20,
     "metadata": {},
     "output_type": "execute_result"
    }
   ],
   "source": [
    "students_num"
   ]
  },
  {
   "cell_type": "code",
   "execution_count": 24,
   "id": "a648e0a8",
   "metadata": {},
   "outputs": [],
   "source": [
    "students_num['girls']['g1']['compsci']=90"
   ]
  },
  {
   "cell_type": "code",
   "execution_count": 26,
   "id": "be3ba85b",
   "metadata": {},
   "outputs": [
    {
     "data": {
      "text/plain": [
       "{'g1': {'bangla': 67, 'eng': 87, 'math': 92, 'compsci': 90},\n",
       " 'g2': 57,\n",
       " 'g3': 89}"
      ]
     },
     "execution_count": 26,
     "metadata": {},
     "output_type": "execute_result"
    }
   ],
   "source": [
    "students_num.get('girls')"
   ]
  },
  {
   "cell_type": "code",
   "execution_count": 27,
   "id": "0daf2610",
   "metadata": {},
   "outputs": [],
   "source": [
    "del students_num ['girls']['g1']['math']"
   ]
  },
  {
   "cell_type": "code",
   "execution_count": 28,
   "id": "5a3c530b",
   "metadata": {},
   "outputs": [
    {
     "data": {
      "text/plain": [
       "{'g1': {'bangla': 67, 'eng': 87, 'compsci': 90}, 'g2': 57, 'g3': 89}"
      ]
     },
     "execution_count": 28,
     "metadata": {},
     "output_type": "execute_result"
    }
   ],
   "source": [
    "students_num.get('girls')"
   ]
  },
  {
   "cell_type": "code",
   "execution_count": 29,
   "id": "c59e5d3b",
   "metadata": {},
   "outputs": [],
   "source": [
    "a = {'a':1,'b':2,'c':3}\n",
    "b = {'d':4,'e':5,'f':6}\n",
    "a.update(b)"
   ]
  },
  {
   "cell_type": "code",
   "execution_count": 30,
   "id": "2d1abda1",
   "metadata": {},
   "outputs": [
    {
     "data": {
      "text/plain": [
       "{'a': 1, 'b': 2, 'c': 3, 'd': 4, 'e': 5, 'f': 6}"
      ]
     },
     "execution_count": 30,
     "metadata": {},
     "output_type": "execute_result"
    }
   ],
   "source": [
    "a"
   ]
  },
  {
   "cell_type": "code",
   "execution_count": 33,
   "id": "9934b221",
   "metadata": {},
   "outputs": [],
   "source": [
    "students_num ['girls']['g2']={'ban':25,'eng':45,'math':50}"
   ]
  },
  {
   "cell_type": "code",
   "execution_count": 34,
   "id": "7f5bc1ec",
   "metadata": {},
   "outputs": [
    {
     "data": {
      "text/plain": [
       "{'g1': {'ban': 25, 'eng': 45, 'math': 50},\n",
       " 'g2': {'ban': 25, 'eng': 45, 'math': 50},\n",
       " 'g3': 89}"
      ]
     },
     "execution_count": 34,
     "metadata": {},
     "output_type": "execute_result"
    }
   ],
   "source": [
    "students_num.get('girls')"
   ]
  },
  {
   "cell_type": "code",
   "execution_count": 35,
   "id": "e11081db",
   "metadata": {},
   "outputs": [
    {
     "data": {
      "text/plain": [
       "{'girls': {'g1': {'ban': 25, 'eng': 45, 'math': 50},\n",
       "  'g2': {'ban': 25, 'eng': 45, 'math': 50},\n",
       "  'g3': 89},\n",
       " 'boys': {'b1': 98, 'b2': {'bangla': 87, 'eng': 80, 'math': 95}, 'b3': 98}}"
      ]
     },
     "execution_count": 35,
     "metadata": {},
     "output_type": "execute_result"
    }
   ],
   "source": [
    "students_num"
   ]
  },
  {
   "cell_type": "code",
   "execution_count": 36,
   "id": "9fdf7009",
   "metadata": {},
   "outputs": [],
   "source": [
    "students_num['girls']['g1'] ={'bangla': 67, 'eng': 87, 'math': 92}"
   ]
  },
  {
   "cell_type": "code",
   "execution_count": 37,
   "id": "12ffc94c",
   "metadata": {},
   "outputs": [
    {
     "data": {
      "text/plain": [
       "{'g1': {'bangla': 67, 'eng': 87, 'math': 92},\n",
       " 'g2': {'ban': 25, 'eng': 45, 'math': 50},\n",
       " 'g3': 89}"
      ]
     },
     "execution_count": 37,
     "metadata": {},
     "output_type": "execute_result"
    }
   ],
   "source": [
    "students_num.get('girls')"
   ]
  },
  {
   "cell_type": "code",
   "execution_count": 38,
   "id": "f8827416",
   "metadata": {},
   "outputs": [
    {
     "data": {
      "text/plain": [
       "{'girls': {'g1': {'bangla': 67, 'eng': 87, 'math': 92},\n",
       "  'g2': {'ban': 25, 'eng': 45, 'math': 50},\n",
       "  'g3': 89},\n",
       " 'boys': {'b1': 98, 'b2': {'bangla': 87, 'eng': 80, 'math': 95}, 'b3': 98}}"
      ]
     },
     "execution_count": 38,
     "metadata": {},
     "output_type": "execute_result"
    }
   ],
   "source": [
    "students_num"
   ]
  },
  {
   "cell_type": "code",
   "execution_count": 39,
   "id": "e1e561b1",
   "metadata": {},
   "outputs": [
    {
     "name": "stdout",
     "output_type": "stream",
     "text": [
      "Both are equal\n"
     ]
    }
   ],
   "source": [
    "a = 10\n",
    "b = 10\n",
    "if a>b:\n",
    "    print(\"a is greater\")\n",
    "elif b>a:\n",
    "    print(\"b is greater\")\n",
    "else:\n",
    "    print(\"Both are equal\")"
   ]
  },
  {
   "cell_type": "code",
   "execution_count": 43,
   "id": "d03bd8f5",
   "metadata": {},
   "outputs": [
    {
     "name": "stdout",
     "output_type": "stream",
     "text": [
      "a is greater\n",
      "Both are equal\n"
     ]
    }
   ],
   "source": [
    "a = 15\n",
    "b = 10\n",
    "if a>b:\n",
    "    print(\"a is greater\")\n",
    "if b>a:\n",
    "    print(\"b is greater\")\n",
    "else:\n",
    "    print(\"Both are equal\")"
   ]
  },
  {
   "cell_type": "code",
   "execution_count": 44,
   "id": "a6d5fd47",
   "metadata": {},
   "outputs": [
    {
     "name": "stdout",
     "output_type": "stream",
     "text": [
      "a is greater\n",
      "b is greater\n",
      "Both are equal\n"
     ]
    }
   ],
   "source": [
    "a = 15\n",
    "b = 10\n",
    "if a>b:\n",
    "    print(\"a is greater\")\n",
    "if a>b:\n",
    "    print(\"b is greater\")\n",
    "if a>b:\n",
    "    print(\"Both are equal\")"
   ]
  },
  {
   "cell_type": "code",
   "execution_count": 45,
   "id": "fb42ab33",
   "metadata": {},
   "outputs": [
    {
     "name": "stdout",
     "output_type": "stream",
     "text": [
      "a is greater\n"
     ]
    }
   ],
   "source": [
    "a = 25\n",
    "b = 20\n",
    "if a>b:\n",
    "    print(\"a is greater\")\n",
    "elif a>b:\n",
    "    print(\"b is greater\")\n",
    "elif a>b:\n",
    "    print(\"Both are equal\")"
   ]
  },
  {
   "cell_type": "code",
   "execution_count": 47,
   "id": "f1888043",
   "metadata": {},
   "outputs": [
    {
     "name": "stdout",
     "output_type": "stream",
     "text": [
      "Both are equal\n"
     ]
    }
   ],
   "source": [
    "a = 10\n",
    "b = 10\n",
    "if a>b:\n",
    "    print(\"a is greater\")\n",
    "elif b>a:\n",
    "    print(\"b is greater\")\n",
    "elif a==b:\n",
    "    print(\"Both are equal\")"
   ]
  },
  {
   "cell_type": "code",
   "execution_count": 49,
   "id": "28ab9fe7",
   "metadata": {},
   "outputs": [
    {
     "name": "stdout",
     "output_type": "stream",
     "text": [
      "enter your marks: 89\n",
      "Very Good\n"
     ]
    }
   ],
   "source": [
    "student_marks = float(input(\"enter your marks: \"))\n",
    "if student_marks>90:\n",
    "    print(\"Exellent\")\n",
    "elif student_marks>=70 and student_marks<=90:\n",
    "    print(\"Very Good\")\n",
    "elif student_marks>=60 and student_marks<=69:\n",
    "    print(\"Good\")\n",
    "elif student_marks>=40 and student_marks<=59:\n",
    "    print(\"Average\")\n",
    "else:\n",
    "    print(\"Poor\")"
   ]
  },
  {
   "cell_type": "code",
   "execution_count": null,
   "id": "da295982",
   "metadata": {},
   "outputs": [],
   "source": []
  }
 ],
 "metadata": {
  "kernelspec": {
   "display_name": "Python 3 (ipykernel)",
   "language": "python",
   "name": "python3"
  },
  "language_info": {
   "codemirror_mode": {
    "name": "ipython",
    "version": 3
   },
   "file_extension": ".py",
   "mimetype": "text/x-python",
   "name": "python",
   "nbconvert_exporter": "python",
   "pygments_lexer": "ipython3",
   "version": "3.11.5"
  }
 },
 "nbformat": 4,
 "nbformat_minor": 5
}
