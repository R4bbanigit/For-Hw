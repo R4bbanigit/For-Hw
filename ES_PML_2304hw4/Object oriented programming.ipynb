{
 "cells": [
  {
   "cell_type": "code",
   "execution_count": 8,
   "id": "404af324",
   "metadata": {},
   "outputs": [
    {
     "name": "stdout",
     "output_type": "stream",
     "text": [
      "Enter input: Hello world\n",
      "Hello world\n"
     ]
    }
   ],
   "source": [
    "# 3. Create a class named ‘student’ and inside the class, create a function named ‘fun1’- this\n",
    "# method should accept the user defined input and return that value.\n",
    "# a. Create another method named- message() and that method should print the user\n",
    "# defined input that we have defined in ‘fun1’.\n",
    "\n",
    "\n",
    "\n",
    "\n",
    "class student:\n",
    "    def fun1(self,x):\n",
    "        self.x = x\n",
    "        return self.x\n",
    "    def message(self):\n",
    "        print(self.x)\n",
    "        \n",
    "obj = student()\n",
    "result = obj.fun1(input(\"Enter input: \"))\n",
    "obj.message()\n",
    "    \n",
    "        \n",
    "        \n",
    "    "
   ]
  },
  {
   "cell_type": "code",
   "execution_count": 12,
   "id": "e12750e1",
   "metadata": {},
   "outputs": [
    {
     "data": {
      "text/plain": [
       "15"
      ]
     },
     "execution_count": 12,
     "metadata": {},
     "output_type": "execute_result"
    }
   ],
   "source": [
    "class summ :\n",
    "    def summation(self,a,b):\n",
    "        return a*b\n",
    "obj = summ()\n",
    "obj.summation(3,5)"
   ]
  },
  {
   "cell_type": "code",
   "execution_count": 1,
   "id": "d78b487f",
   "metadata": {},
   "outputs": [
    {
     "name": "stdout",
     "output_type": "stream",
     "text": [
      "Royal Enfield\n",
      "Royal Enfield Black & Red\n",
      "Black & Red\n"
     ]
    }
   ],
   "source": [
    "class bike:\n",
    "    def features(self,bike_name):\n",
    "        \n",
    "        self.bike_name = bike_name\n",
    "#         bike_name = \"Suzuki\"\n",
    "        self.bike_color = \"Black & Red\"\n",
    "    \n",
    "        print(self.bike_name,self.bike_color)\n",
    "        \n",
    "    def display(self):\n",
    "        \n",
    "        print(self.bike_color)\n",
    "        \n",
    "obj = bike()\n",
    "obj.features(input(\"\"))\n",
    "obj.display()"
   ]
  },
  {
   "cell_type": "code",
   "execution_count": 11,
   "id": "0da86d60",
   "metadata": {},
   "outputs": [
    {
     "name": "stdout",
     "output_type": "stream",
     "text": [
      "KTM Black & Red\n",
      "KTM Black & Red\n"
     ]
    }
   ],
   "source": [
    "class bike:\n",
    "    def __init__(self,bike_name):\n",
    "        \n",
    "        self.bike_name = bike_name\n",
    "#         bike_name = \"Suzuki\"\n",
    "        self.bike_color = \"Black & Red\"\n",
    "    \n",
    "        print(self.bike_name,self.bike_color)\n",
    "        \n",
    "    def display(self):\n",
    "        \n",
    "        print(self.bike_name,self.bike_color)\n",
    "        \n",
    "obj = bike(\"KTM\")\n",
    "obj.display()"
   ]
  },
  {
   "cell_type": "code",
   "execution_count": 40,
   "id": "896ab824",
   "metadata": {},
   "outputs": [
    {
     "data": {
      "text/plain": [
       "36"
      ]
     },
     "execution_count": 40,
     "metadata": {},
     "output_type": "execute_result"
    }
   ],
   "source": [
    "class calculator:\n",
    "    def even (self,b):\n",
    "        if b % 2 == 0:\n",
    "            \n",
    "            result = self.square(b)\n",
    "        else:\n",
    "            result = self.double(b)\n",
    "            \n",
    "        return result\n",
    "    \n",
    "    def square(self,a):\n",
    "        return a**2\n",
    "    \n",
    "    def double (self,a):\n",
    "        return a*2\n",
    "    \n",
    "obj_cal = calculator()\n",
    "obj_cal.even(6)"
   ]
  },
  {
   "cell_type": "code",
   "execution_count": 1,
   "id": "695ae20d",
   "metadata": {},
   "outputs": [
    {
     "name": "stdout",
     "output_type": "stream",
     "text": [
      "Enter a number: 5\n"
     ]
    },
    {
     "data": {
      "text/plain": [
       "10"
      ]
     },
     "execution_count": 1,
     "metadata": {},
     "output_type": "execute_result"
    }
   ],
   "source": [
    "class calculator:\n",
    "    def even (self,b):\n",
    "        self.b = b\n",
    "        if b % 2 == 0:\n",
    "            \n",
    "            result = self.square()\n",
    "        else:\n",
    "            result = self.double()\n",
    "            \n",
    "        return result\n",
    "    \n",
    "    def square(self):\n",
    "        return self.b**2\n",
    "    \n",
    "    def double (self):\n",
    "        return self.b*2\n",
    "    \n",
    "obj_cal = calculator()\n",
    "obj_cal.even(int(input(\"Enter a number: \")))"
   ]
  },
  {
   "cell_type": "markdown",
   "id": "fddad17f",
   "metadata": {},
   "source": [
    "# Create a class named ‘Super’ and inside that class define a user-defined function named fun1.a. Inside the ‘fun1’ function, pass the message “This is function 1 in the Super class.”in the print statement.\n"
   ]
  },
  {
   "cell_type": "code",
   "execution_count": 2,
   "id": "0839ac28",
   "metadata": {},
   "outputs": [
    {
     "name": "stdout",
     "output_type": "stream",
     "text": [
      "This is function 1 in the Super class.\n"
     ]
    }
   ],
   "source": [
    "class Super:\n",
    "    \n",
    "    def fun1(self):\n",
    "        print(\"This is function 1 in the Super class.\")\n",
    "            \n",
    "            \n",
    "    \n",
    "super_instance = Super()\n",
    "super_instance.fun1()"
   ]
  },
  {
   "cell_type": "code",
   "execution_count": 4,
   "id": "b6e5d53a",
   "metadata": {},
   "outputs": [
    {
     "name": "stdout",
     "output_type": "stream",
     "text": [
      "john 23\n"
     ]
    }
   ],
   "source": [
    "class parent:\n",
    "    def __init__(self):\n",
    "        self.age = 23\n",
    "        \n",
    "class child(parent):\n",
    "    def __init__(self):\n",
    "        parent.__init__(self)\n",
    "        self.name = \"john\"\n",
    "        \n",
    "    def disp(self):\n",
    "        print(self.name, self.age)\n",
    "        \n",
    "obj = child()\n",
    "obj.disp()"
   ]
  },
  {
   "cell_type": "code",
   "execution_count": 5,
   "id": "b9e8bd1c",
   "metadata": {},
   "outputs": [
    {
     "name": "stdout",
     "output_type": "stream",
     "text": [
      "John 40 America\n",
      "John Banker London\n"
     ]
    }
   ],
   "source": [
    "# Hierarchical inheritance\n",
    "\n",
    "class parent:\n",
    "    def __init__(self):\n",
    "        self.name = \"John\"\n",
    "        self.age = 40\n",
    "        self.prof = \"Banker\"\n",
    "        \n",
    "class child1 (parent):\n",
    "    def __init__(self):\n",
    "        self.county = \"America\"\n",
    "        parent.__init__(self)\n",
    "        \n",
    "    def disp(self):\n",
    "        print(self.name,self.age,self.county)\n",
    "\n",
    "        \n",
    "class child2(parent):\n",
    "    \n",
    "    def __init__(self):\n",
    "        parent.__init__(self)\n",
    "        self.city = \"London\"\n",
    "        \n",
    "    def disp(self):\n",
    "        print(self.name,self.prof,self.city)\n",
    "        \n",
    "        \n",
    "obj = child1()\n",
    "obj.disp()\n",
    "\n",
    "obj2 = child2()\n",
    "obj2.disp()\n"
   ]
  },
  {
   "cell_type": "markdown",
   "id": "779f4e67",
   "metadata": {},
   "source": [
    "# Single inheritance"
   ]
  },
  {
   "cell_type": "code",
   "execution_count": 6,
   "id": "c4d2248b",
   "metadata": {},
   "outputs": [
    {
     "name": "stdout",
     "output_type": "stream",
     "text": [
      "Watanabe 30 Japan\n"
     ]
    }
   ],
   "source": [
    "class parent:\n",
    "    def __init__(self):\n",
    "        self.name = \"Watanabe\"\n",
    "        self.age = 30\n",
    "        self.county = \"Japan\"\n",
    "        \n",
    "    def disp(self):\n",
    "        parent.__init__(self)\n",
    "        print(self.name,self.age,self.county)\n",
    "\n",
    "obj = parent()\n",
    "obj.disp()\n",
    "    "
   ]
  },
  {
   "cell_type": "markdown",
   "id": "0cdbba75",
   "metadata": {},
   "source": [
    "# Multilevel Inheritance"
   ]
  },
  {
   "cell_type": "code",
   "execution_count": 8,
   "id": "4d3f123b",
   "metadata": {},
   "outputs": [
    {
     "name": "stdout",
     "output_type": "stream",
     "text": [
      "Louis Army U.S.A 35\n"
     ]
    }
   ],
   "source": [
    "class parent:\n",
    "    def __init__(self):\n",
    "        self.name =\"Louis\"\n",
    "        \n",
    "class child1(parent):\n",
    "    def __init__(self):\n",
    "        parent.__init__(self)\n",
    "        self.prof = \"Army\"\n",
    "        \n",
    "class child2(child1):\n",
    "    def __init__(self):\n",
    "        child1.__init__(self)\n",
    "        self.county = \"U.S.A\"\n",
    "        self.age = 35\n",
    "        \n",
    "    def disp(self):\n",
    "        print(self.name,self.prof,self.county,self.age)\n",
    "        \n",
    "obj = child2()\n",
    "obj.disp()\n",
    "        "
   ]
  },
  {
   "cell_type": "markdown",
   "id": "333d3ba2",
   "metadata": {},
   "source": [
    "# Multiple inheritance"
   ]
  },
  {
   "cell_type": "code",
   "execution_count": 9,
   "id": "b57bf56f",
   "metadata": {},
   "outputs": [
    {
     "name": "stdout",
     "output_type": "stream",
     "text": [
      "Fitzgerald London Air Force\n"
     ]
    }
   ],
   "source": [
    "class parent:\n",
    "    def __init__(self):\n",
    "        self.name =\"Fitzgerald\"\n",
    "        \n",
    "class child1:\n",
    "    def __init__(self):\n",
    "        self.city = \"London\"\n",
    "        \n",
    "class child(parent,child1):\n",
    "    def __init__(self):\n",
    "        \n",
    "        parent.__init__(self)\n",
    "        child1.__init__(self)\n",
    "        self.prof = \"Air Force\"\n",
    "        \n",
    "    def disp(self):\n",
    "        print(self.name,self.city,self.prof)\n",
    "        \n",
    "obj = child()\n",
    "obj.disp()\n",
    "\n"
   ]
  },
  {
   "cell_type": "markdown",
   "id": "6d9c5737",
   "metadata": {},
   "source": [
    "# Abstraction"
   ]
  },
  {
   "cell_type": "code",
   "execution_count": 15,
   "id": "29bf298f",
   "metadata": {},
   "outputs": [
    {
     "name": "stdout",
     "output_type": "stream",
     "text": [
      "Abstruct Method\n",
      "This is sample present of abstraction\n",
      "Child Class\n",
      "Hello\n"
     ]
    }
   ],
   "source": [
    "from abc import ABC,abstractmethod\n",
    "class sample(ABC):\n",
    "    @abstractmethod\n",
    "    def disp(self):\n",
    "        print(\"Abstruct Method\")\n",
    "    \n",
    "    @abstractmethod\n",
    "    def disp1(self):\n",
    "        print(\"Child Class\")\n",
    "        \n",
    "class child(sample):\n",
    "    def disp(self):\n",
    "        super().disp()\n",
    "        print(\"This is sample present of abstraction\")\n",
    "        \n",
    "    def disp1(self):\n",
    "        super().disp1()\n",
    "        print(\"Hello\")\n",
    "        \n",
    "obj = child()\n",
    "obj.disp()\n",
    "obj.disp1()\n",
    "    "
   ]
  },
  {
   "cell_type": "markdown",
   "id": "121dfd0b",
   "metadata": {},
   "source": [
    "# Encapsulation"
   ]
  },
  {
   "cell_type": "code",
   "execution_count": null,
   "id": "5f435a99",
   "metadata": {},
   "outputs": [],
   "source": []
  }
 ],
 "metadata": {
  "kernelspec": {
   "display_name": "Python 3 (ipykernel)",
   "language": "python",
   "name": "python3"
  },
  "language_info": {
   "codemirror_mode": {
    "name": "ipython",
    "version": 3
   },
   "file_extension": ".py",
   "mimetype": "text/x-python",
   "name": "python",
   "nbconvert_exporter": "python",
   "pygments_lexer": "ipython3",
   "version": "3.11.5"
  }
 },
 "nbformat": 4,
 "nbformat_minor": 5
}
