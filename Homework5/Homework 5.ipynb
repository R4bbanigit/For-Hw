{
 "cells": [
  {
   "cell_type": "code",
   "execution_count": 2,
   "id": "23e0ad30",
   "metadata": {},
   "outputs": [
    {
     "name": "stdout",
     "output_type": "stream",
     "text": [
      "enter your marks: 29\n",
      "Poor\n"
     ]
    }
   ],
   "source": [
    "student_marks = float(input(\"enter your marks: \"))\n",
    "if student_marks>90 and student_marks <=100:\n",
    "    print(\"Exellent\")\n",
    "elif student_marks>=70 and student_marks<=90:\n",
    "    print(\"Very Good\")\n",
    "elif student_marks>=60 and student_marks<=69:\n",
    "    print(\"Good\")\n",
    "elif student_marks>=40 and student_marks<=59:\n",
    "    print(\"Average\")\n",
    "elif student_marks<= 39:\n",
    "    print(\"Poor\")\n",
    "else:\n",
    "    print(\"please Enter your marks from the range 0-100\")"
   ]
  },
  {
   "cell_type": "code",
   "execution_count": 3,
   "id": "5ae556d1",
   "metadata": {},
   "outputs": [
    {
     "name": "stdout",
     "output_type": "stream",
     "text": [
      "Enter your age: 35\n",
      "2\n",
      "allowed in restraunt 1\n"
     ]
    }
   ],
   "source": [
    "age = int(input('Enter your age: '))\n",
    "vaccine = int(input())\n",
    "if age>21 and vaccine ==2:\n",
    "    print(\"allowed in restraunt 1\")\n",
    "elif age>21 and vaccine == 1:\n",
    "    print('allowed in restraunt 2')\n",
    "else:\n",
    "        print(\"not allowed\")"
   ]
  },
  {
   "cell_type": "code",
   "execution_count": 4,
   "id": "4a99d56a",
   "metadata": {},
   "outputs": [
    {
     "name": "stdout",
     "output_type": "stream",
     "text": [
      "red\n",
      "fruit\n",
      "watermelon\n"
     ]
    }
   ],
   "source": [
    "color = input()\n",
    "catagory = input ()\n",
    "if color == \"yellow\" and catagory =='fruit':\n",
    "    print(\"mango and banana\")\n",
    "elif color == 'yellow'and catagory =='vegetable':\n",
    "    print(\"capcicum\")\n",
    "elif color == 'red'and catagory =='vegetable':\n",
    "    print('beetroot')\n",
    "elif color == 'red' and catagory == 'fruit':\n",
    "    print('watermelon')\n",
    "elif color == \"red\" and catagory != \"fruit\":\n",
    "    print(\"Please enter the correct catagory\")\n",
    "elif color == 'yellow' and catagory != \"vegetable\":\n",
    "    print(\"Please enter the correct catagory\")\n",
    "elif color == \"blue\" and catagory== \"fruit\":\n",
    "    print(\"Berry\")\n",
    "elif color == 'blue' and catagory != 'fruit':\n",
    "    print(\"Please enter the correct catagory\")\n",
    "else:\n",
    "    print('please enter the correct color')"
   ]
  },
  {
   "cell_type": "markdown",
   "id": "9bdee52f",
   "metadata": {},
   "source": [
    "# How would you modify the program to print \"Positive\" if the number is greater than zero and \"Negative\" if it's less than zero?"
   ]
  },
  {
   "cell_type": "code",
   "execution_count": 10,
   "id": "f4e673d3",
   "metadata": {},
   "outputs": [
    {
     "name": "stdout",
     "output_type": "stream",
     "text": [
      "Enter a number: 10\n",
      "Positive\n"
     ]
    }
   ],
   "source": [
    "num= float(input(\"Enter a number: \"))\n",
    "if num>0:\n",
    "    print(\"Positive\")\n",
    "elif num<0:\n",
    "    print(\"Negative\")\n",
    "else:\n",
    "    print(\"Zero\")"
   ]
  },
  {
   "cell_type": "markdown",
   "id": "2ba05b54",
   "metadata": {},
   "source": [
    "# Write a program that prompts the user for their age and prints different messages based on whether they are a child, a teenager, or an adult."
   ]
  },
  {
   "cell_type": "code",
   "execution_count": 13,
   "id": "28c646df",
   "metadata": {},
   "outputs": [
    {
     "name": "stdout",
     "output_type": "stream",
     "text": [
      "Enter your age: 10\n",
      "Child\n"
     ]
    }
   ],
   "source": [
    "age = int(input(\"Enter your age: \"))\n",
    "if age<13 and age>0:\n",
    "    print(\"Child\")\n",
    "elif age<=19:\n",
    "    print(\"Teenager\")\n",
    "else:\n",
    "    print(\"Adult\")"
   ]
  },
  {
   "cell_type": "markdown",
   "id": "0d6dd5e9",
   "metadata": {},
   "source": [
    "# Can you modify the function to print a custom message if the number is divisible by 2 or 3, but not both?"
   ]
  },
  {
   "cell_type": "code",
   "execution_count": 17,
   "id": "465a7d5d",
   "metadata": {},
   "outputs": [
    {
     "name": "stdout",
     "output_type": "stream",
     "text": [
      "Enter a number: 97\n",
      "The number is not divisible by 2 and 3 Both\n"
     ]
    }
   ],
   "source": [
    "num = int(input(\"Enter a number: \"))\n",
    "if num % 2 == 0 and num % 3 == 0:\n",
    "    print(\"The Number is Divisible by 2 and 3\")\n",
    "elif num%2 == 0 or num%3 == 0:\n",
    "    print(\"The number is divisible by 2 or 3. But not both\")\n",
    "else:\n",
    "    print(\"The number is not divisible by 2 and 3 Both\")"
   ]
  },
  {
   "cell_type": "markdown",
   "id": "8756f429",
   "metadata": {},
   "source": [
    "# Write a Python script that takes a user's input and checks if it contains the word \"Python.\""
   ]
  },
  {
   "cell_type": "code",
   "execution_count": null,
   "id": "9ea4d5fb",
   "metadata": {},
   "outputs": [],
   "source": [
    "script = input(\"Enter a script: \")\n",
    "if \"Python\" in script:\n",
    "    print(\"The script contain Python Word\")\n",
    "if \"Python\" in script:\n",
    "    print(script.count(\"Python\"))\n",
    "else:\n",
    "    print(\"The script does not contain Python Word\")"
   ]
  },
  {
   "cell_type": "code",
   "execution_count": null,
   "id": "845e6e24",
   "metadata": {},
   "outputs": [],
   "source": []
  }
 ],
 "metadata": {
  "kernelspec": {
   "display_name": "Python 3 (ipykernel)",
   "language": "python",
   "name": "python3"
  },
  "language_info": {
   "codemirror_mode": {
    "name": "ipython",
    "version": 3
   },
   "file_extension": ".py",
   "mimetype": "text/x-python",
   "name": "python",
   "nbconvert_exporter": "python",
   "pygments_lexer": "ipython3",
   "version": "3.11.5"
  }
 },
 "nbformat": 4,
 "nbformat_minor": 5
}
