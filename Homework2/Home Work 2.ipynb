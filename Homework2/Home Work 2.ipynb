{
 "cells": [
  {
   "cell_type": "code",
   "execution_count": 1,
   "id": "83995855",
   "metadata": {},
   "outputs": [
    {
     "name": "stdout",
     "output_type": "stream",
     "text": [
      "10\n"
     ]
    }
   ],
   "source": [
    "# Variables actually means the container who contain values.\n",
    "\n",
    "#There are some rules to name a variables..\n",
    "#First char. Alphabet- capital or small (mandatory)\n",
    "# Digit or special char. ($ @ 1 2 < >) are not allowed as first char..\n",
    "#Special char. are not allowed in the name of variables exept(_).\n",
    "#var name can start using (_) as well.\n",
    "\n",
    "#Example.\n",
    "\n",
    "var = 10\n",
    "print (var)"
   ]
  },
  {
   "cell_type": "markdown",
   "id": "eff830a1",
   "metadata": {},
   "source": [
    "# Arithmatic Operator's"
   ]
  },
  {
   "cell_type": "markdown",
   "id": "7a2471d6",
   "metadata": {},
   "source": [
    "# Addition & Subtruction (+,-)"
   ]
  },
  {
   "cell_type": "code",
   "execution_count": 2,
   "id": "eb44d78c",
   "metadata": {},
   "outputs": [
    {
     "data": {
      "text/plain": [
       "4"
      ]
     },
     "execution_count": 2,
     "metadata": {},
     "output_type": "execute_result"
    }
   ],
   "source": [
    "2 + 2"
   ]
  },
  {
   "cell_type": "code",
   "execution_count": 3,
   "id": "2999dcfa",
   "metadata": {},
   "outputs": [
    {
     "data": {
      "text/plain": [
       "12"
      ]
     },
     "execution_count": 3,
     "metadata": {},
     "output_type": "execute_result"
    }
   ],
   "source": [
    "5+7"
   ]
  },
  {
   "cell_type": "code",
   "execution_count": 75,
   "id": "a9d38dcb",
   "metadata": {},
   "outputs": [
    {
     "name": "stdout",
     "output_type": "stream",
     "text": [
      "63\n"
     ]
    }
   ],
   "source": [
    "a = 33\n",
    "b = 30\n",
    "print(a+b)"
   ]
  },
  {
   "cell_type": "code",
   "execution_count": 5,
   "id": "3612806f",
   "metadata": {},
   "outputs": [
    {
     "data": {
      "text/plain": [
       "30"
      ]
     },
     "execution_count": 5,
     "metadata": {},
     "output_type": "execute_result"
    }
   ],
   "source": [
    "65-35"
   ]
  },
  {
   "cell_type": "code",
   "execution_count": 6,
   "id": "c2dac4f9",
   "metadata": {},
   "outputs": [
    {
     "name": "stdout",
     "output_type": "stream",
     "text": [
      "17\n"
     ]
    }
   ],
   "source": [
    "a = 45\n",
    "b = 28\n",
    "print (a-b)"
   ]
  },
  {
   "cell_type": "markdown",
   "id": "852b33f1",
   "metadata": {},
   "source": [
    "# Multiplication and Division (*,/)"
   ]
  },
  {
   "cell_type": "code",
   "execution_count": 7,
   "id": "5f7a33d8",
   "metadata": {},
   "outputs": [
    {
     "data": {
      "text/plain": [
       "15"
      ]
     },
     "execution_count": 7,
     "metadata": {},
     "output_type": "execute_result"
    }
   ],
   "source": [
    "5*3"
   ]
  },
  {
   "cell_type": "code",
   "execution_count": 8,
   "id": "333ee198",
   "metadata": {},
   "outputs": [
    {
     "name": "stdout",
     "output_type": "stream",
     "text": [
      "48\n"
     ]
    }
   ],
   "source": [
    "a = 12\n",
    "b = 4\n",
    "print (a*b)"
   ]
  },
  {
   "cell_type": "code",
   "execution_count": 9,
   "id": "ca8c07cb",
   "metadata": {},
   "outputs": [
    {
     "data": {
      "text/plain": [
       "5.0"
      ]
     },
     "execution_count": 9,
     "metadata": {},
     "output_type": "execute_result"
    }
   ],
   "source": [
    "15/3"
   ]
  },
  {
   "cell_type": "code",
   "execution_count": 10,
   "id": "63391d20",
   "metadata": {},
   "outputs": [
    {
     "data": {
      "text/plain": [
       "3.0"
      ]
     },
     "execution_count": 10,
     "metadata": {},
     "output_type": "execute_result"
    }
   ],
   "source": [
    "33/11"
   ]
  },
  {
   "cell_type": "code",
   "execution_count": 11,
   "id": "acac022c",
   "metadata": {},
   "outputs": [
    {
     "name": "stdout",
     "output_type": "stream",
     "text": [
      "4.2\n"
     ]
    }
   ],
   "source": [
    "a = 21\n",
    "b = 5\n",
    "print (a/b)"
   ]
  },
  {
   "cell_type": "markdown",
   "id": "67bade04",
   "metadata": {},
   "source": [
    "# Power & Floor Division (**, //)"
   ]
  },
  {
   "cell_type": "code",
   "execution_count": 12,
   "id": "f41aff04",
   "metadata": {},
   "outputs": [
    {
     "data": {
      "text/plain": [
       "8"
      ]
     },
     "execution_count": 12,
     "metadata": {},
     "output_type": "execute_result"
    }
   ],
   "source": [
    "2**3"
   ]
  },
  {
   "cell_type": "code",
   "execution_count": 13,
   "id": "26d96ee2",
   "metadata": {},
   "outputs": [
    {
     "data": {
      "text/plain": [
       "27"
      ]
     },
     "execution_count": 13,
     "metadata": {},
     "output_type": "execute_result"
    }
   ],
   "source": [
    "3**3"
   ]
  },
  {
   "cell_type": "code",
   "execution_count": 14,
   "id": "54f1b87b",
   "metadata": {},
   "outputs": [
    {
     "data": {
      "text/plain": [
       "100"
      ]
     },
     "execution_count": 14,
     "metadata": {},
     "output_type": "execute_result"
    }
   ],
   "source": [
    "10**2"
   ]
  },
  {
   "cell_type": "code",
   "execution_count": 15,
   "id": "011c837c",
   "metadata": {},
   "outputs": [
    {
     "name": "stdout",
     "output_type": "stream",
     "text": [
      "32\n"
     ]
    }
   ],
   "source": [
    "a = 2\n",
    "b = 5\n",
    "print (a**b)"
   ]
  },
  {
   "cell_type": "code",
   "execution_count": 16,
   "id": "a6696ead",
   "metadata": {},
   "outputs": [
    {
     "data": {
      "text/plain": [
       "5"
      ]
     },
     "execution_count": 16,
     "metadata": {},
     "output_type": "execute_result"
    }
   ],
   "source": [
    "10//2"
   ]
  },
  {
   "cell_type": "code",
   "execution_count": 17,
   "id": "901a25d8",
   "metadata": {},
   "outputs": [
    {
     "data": {
      "text/plain": [
       "4"
      ]
     },
     "execution_count": 17,
     "metadata": {},
     "output_type": "execute_result"
    }
   ],
   "source": [
    "21//5"
   ]
  },
  {
   "cell_type": "code",
   "execution_count": 18,
   "id": "604412f4",
   "metadata": {},
   "outputs": [
    {
     "name": "stdout",
     "output_type": "stream",
     "text": [
      "2\n"
     ]
    }
   ],
   "source": [
    "a = 41\n",
    "b = 20\n",
    "print (a//b)"
   ]
  },
  {
   "cell_type": "markdown",
   "id": "8961e008",
   "metadata": {},
   "source": [
    "# Remainder (%)"
   ]
  },
  {
   "cell_type": "code",
   "execution_count": 19,
   "id": "7d5b3f60",
   "metadata": {},
   "outputs": [
    {
     "data": {
      "text/plain": [
       "0"
      ]
     },
     "execution_count": 19,
     "metadata": {},
     "output_type": "execute_result"
    }
   ],
   "source": [
    "10%2"
   ]
  },
  {
   "cell_type": "code",
   "execution_count": 20,
   "id": "dd1df945",
   "metadata": {},
   "outputs": [
    {
     "data": {
      "text/plain": [
       "1"
      ]
     },
     "execution_count": 20,
     "metadata": {},
     "output_type": "execute_result"
    }
   ],
   "source": [
    "10%3"
   ]
  },
  {
   "cell_type": "code",
   "execution_count": 21,
   "id": "96e5f562",
   "metadata": {},
   "outputs": [
    {
     "name": "stdout",
     "output_type": "stream",
     "text": [
      "1\n"
     ]
    }
   ],
   "source": [
    "a = 23\n",
    "b = 11\n",
    "print (a%b)"
   ]
  },
  {
   "cell_type": "markdown",
   "id": "acfcf254",
   "metadata": {},
   "source": [
    "# Comparison Operator's (<,>,>=,<=,!=, ==)"
   ]
  },
  {
   "cell_type": "code",
   "execution_count": 22,
   "id": "11cb0ce5",
   "metadata": {},
   "outputs": [
    {
     "name": "stdout",
     "output_type": "stream",
     "text": [
      "True\n"
     ]
    }
   ],
   "source": [
    "a = 15\n",
    "b = 10\n",
    "print (a>b)"
   ]
  },
  {
   "cell_type": "code",
   "execution_count": 23,
   "id": "051c8d07",
   "metadata": {},
   "outputs": [
    {
     "name": "stdout",
     "output_type": "stream",
     "text": [
      "False\n"
     ]
    }
   ],
   "source": [
    "print (a<b)"
   ]
  },
  {
   "cell_type": "code",
   "execution_count": 24,
   "id": "29c40fd6",
   "metadata": {},
   "outputs": [
    {
     "name": "stdout",
     "output_type": "stream",
     "text": [
      "True\n"
     ]
    }
   ],
   "source": [
    "print (b<a)"
   ]
  },
  {
   "cell_type": "code",
   "execution_count": 25,
   "id": "0e5a9b5a",
   "metadata": {},
   "outputs": [
    {
     "name": "stdout",
     "output_type": "stream",
     "text": [
      "True\n"
     ]
    }
   ],
   "source": [
    "print (a>=b)"
   ]
  },
  {
   "cell_type": "code",
   "execution_count": 26,
   "id": "165dcc0f",
   "metadata": {},
   "outputs": [
    {
     "name": "stdout",
     "output_type": "stream",
     "text": [
      "False\n"
     ]
    }
   ],
   "source": [
    "print (a<=b)"
   ]
  },
  {
   "cell_type": "code",
   "execution_count": 27,
   "id": "ac13b249",
   "metadata": {},
   "outputs": [
    {
     "name": "stdout",
     "output_type": "stream",
     "text": [
      "True\n"
     ]
    }
   ],
   "source": [
    "print (a!=b)"
   ]
  },
  {
   "cell_type": "code",
   "execution_count": 28,
   "id": "674bb1cc",
   "metadata": {},
   "outputs": [
    {
     "name": "stdout",
     "output_type": "stream",
     "text": [
      "False\n"
     ]
    }
   ],
   "source": [
    "print (a==b)"
   ]
  },
  {
   "cell_type": "markdown",
   "id": "13cafc65",
   "metadata": {},
   "source": [
    "# Assignment Operator's(=, +=, -=, *=, /=,%=,//=,**=)"
   ]
  },
  {
   "cell_type": "code",
   "execution_count": 30,
   "id": "504827c0",
   "metadata": {},
   "outputs": [],
   "source": [
    "a = 5"
   ]
  },
  {
   "cell_type": "code",
   "execution_count": 31,
   "id": "9b40489a",
   "metadata": {},
   "outputs": [
    {
     "data": {
      "text/plain": [
       "5"
      ]
     },
     "execution_count": 31,
     "metadata": {},
     "output_type": "execute_result"
    }
   ],
   "source": [
    "a"
   ]
  },
  {
   "cell_type": "code",
   "execution_count": 32,
   "id": "84293460",
   "metadata": {},
   "outputs": [
    {
     "data": {
      "text/plain": [
       "int"
      ]
     },
     "execution_count": 32,
     "metadata": {},
     "output_type": "execute_result"
    }
   ],
   "source": [
    "type(a)"
   ]
  },
  {
   "cell_type": "code",
   "execution_count": 64,
   "id": "53043ae0",
   "metadata": {},
   "outputs": [
    {
     "name": "stdout",
     "output_type": "stream",
     "text": [
      "30\n"
     ]
    }
   ],
   "source": [
    "a = 20\n",
    "b = 10\n",
    "x= a +b\n",
    "print (x)"
   ]
  },
  {
   "cell_type": "code",
   "execution_count": 41,
   "id": "13a73b13",
   "metadata": {},
   "outputs": [
    {
     "data": {
      "text/plain": [
       "10"
      ]
     },
     "execution_count": 41,
     "metadata": {},
     "output_type": "execute_result"
    }
   ],
   "source": [
    "y = a - b\n",
    "y"
   ]
  },
  {
   "cell_type": "code",
   "execution_count": 46,
   "id": "b2051911",
   "metadata": {},
   "outputs": [],
   "source": [
    "z = a = b"
   ]
  },
  {
   "cell_type": "code",
   "execution_count": 44,
   "id": "b0a12d45",
   "metadata": {},
   "outputs": [
    {
     "data": {
      "text/plain": [
       "10"
      ]
     },
     "execution_count": 44,
     "metadata": {},
     "output_type": "execute_result"
    }
   ],
   "source": [
    "z"
   ]
  },
  {
   "cell_type": "code",
   "execution_count": 52,
   "id": "cfd97059",
   "metadata": {},
   "outputs": [
    {
     "name": "stdout",
     "output_type": "stream",
     "text": [
      "35\n"
     ]
    }
   ],
   "source": [
    "a +=15\n",
    "print (a)"
   ]
  },
  {
   "cell_type": "code",
   "execution_count": 53,
   "id": "630391f5",
   "metadata": {},
   "outputs": [
    {
     "name": "stdout",
     "output_type": "stream",
     "text": [
      "7\n"
     ]
    }
   ],
   "source": [
    "b-=3\n",
    "print (b)"
   ]
  },
  {
   "cell_type": "code",
   "execution_count": 55,
   "id": "0670237e",
   "metadata": {},
   "outputs": [
    {
     "name": "stdout",
     "output_type": "stream",
     "text": [
      "50\n"
     ]
    }
   ],
   "source": [
    "x= 10\n",
    "x *=5\n",
    "print (x)"
   ]
  },
  {
   "cell_type": "code",
   "execution_count": 59,
   "id": "55ab7e0f",
   "metadata": {},
   "outputs": [
    {
     "name": "stdout",
     "output_type": "stream",
     "text": [
      "25\n"
     ]
    }
   ],
   "source": [
    "y = 5\n",
    "y **=2\n",
    "print (y)"
   ]
  },
  {
   "cell_type": "code",
   "execution_count": 63,
   "id": "1c4c7b9d",
   "metadata": {},
   "outputs": [
    {
     "name": "stdout",
     "output_type": "stream",
     "text": [
      "1\n"
     ]
    }
   ],
   "source": [
    "z = 5\n",
    "z%=2\n",
    "print (z)"
   ]
  },
  {
   "cell_type": "code",
   "execution_count": 73,
   "id": "31534345",
   "metadata": {},
   "outputs": [
    {
     "name": "stdout",
     "output_type": "stream",
     "text": [
      "100\n"
     ]
    }
   ],
   "source": [
    "a = 10\n",
    "b = 2\n",
    "a**=b\n",
    "print (a)"
   ]
  },
  {
   "cell_type": "markdown",
   "id": "cb2ee198",
   "metadata": {},
   "source": [
    "# Logical Operator's (and, or, not)"
   ]
  },
  {
   "cell_type": "code",
   "execution_count": 78,
   "id": "afe68307",
   "metadata": {},
   "outputs": [
    {
     "data": {
      "text/plain": [
       "True"
      ]
     },
     "execution_count": 78,
     "metadata": {},
     "output_type": "execute_result"
    }
   ],
   "source": [
    "a = 15\n",
    "b = 11\n",
    "\n",
    "a>10 and b > 10"
   ]
  },
  {
   "cell_type": "code",
   "execution_count": 79,
   "id": "0a73a380",
   "metadata": {},
   "outputs": [
    {
     "data": {
      "text/plain": [
       "False"
      ]
     },
     "execution_count": 79,
     "metadata": {},
     "output_type": "execute_result"
    }
   ],
   "source": [
    "a >10 and b > 20"
   ]
  },
  {
   "cell_type": "code",
   "execution_count": 80,
   "id": "5a28532a",
   "metadata": {},
   "outputs": [
    {
     "data": {
      "text/plain": [
       "True"
      ]
     },
     "execution_count": 80,
     "metadata": {},
     "output_type": "execute_result"
    }
   ],
   "source": [
    "a>20 or b >10\n"
   ]
  },
  {
   "cell_type": "code",
   "execution_count": 81,
   "id": "225b8196",
   "metadata": {},
   "outputs": [
    {
     "data": {
      "text/plain": [
       "True"
      ]
     },
     "execution_count": 81,
     "metadata": {},
     "output_type": "execute_result"
    }
   ],
   "source": [
    "a<20 or b < 20"
   ]
  },
  {
   "cell_type": "code",
   "execution_count": 83,
   "id": "4bdb8275",
   "metadata": {},
   "outputs": [
    {
     "data": {
      "text/plain": [
       "False"
      ]
     },
     "execution_count": 83,
     "metadata": {},
     "output_type": "execute_result"
    }
   ],
   "source": [
    "a>20 or b>20"
   ]
  },
  {
   "cell_type": "code",
   "execution_count": 85,
   "id": "cc5562e8",
   "metadata": {},
   "outputs": [
    {
     "data": {
      "text/plain": [
       "False"
      ]
     },
     "execution_count": 85,
     "metadata": {},
     "output_type": "execute_result"
    }
   ],
   "source": [
    "not a < 20"
   ]
  },
  {
   "cell_type": "code",
   "execution_count": 87,
   "id": "ffb56ff4",
   "metadata": {},
   "outputs": [
    {
     "data": {
      "text/plain": [
       "True"
      ]
     },
     "execution_count": 87,
     "metadata": {},
     "output_type": "execute_result"
    }
   ],
   "source": [
    "not a > 20"
   ]
  },
  {
   "cell_type": "markdown",
   "id": "60c6567e",
   "metadata": {},
   "source": [
    "# Identity Operator's (is, is not)"
   ]
  },
  {
   "cell_type": "code",
   "execution_count": 95,
   "id": "8a9c2e31",
   "metadata": {},
   "outputs": [
    {
     "name": "stderr",
     "output_type": "stream",
     "text": [
      "<>:2: SyntaxWarning: \"is\" with a literal. Did you mean \"==\"?\n",
      "<>:2: SyntaxWarning: \"is\" with a literal. Did you mean \"==\"?\n",
      "C:\\Users\\DELL\\AppData\\Local\\Temp\\ipykernel_16176\\1025413810.py:2: SyntaxWarning: \"is\" with a literal. Did you mean \"==\"?\n",
      "  a is 5\n"
     ]
    },
    {
     "data": {
      "text/plain": [
       "True"
      ]
     },
     "execution_count": 95,
     "metadata": {},
     "output_type": "execute_result"
    }
   ],
   "source": [
    "a = 5\n",
    "a is 5"
   ]
  },
  {
   "cell_type": "code",
   "execution_count": 96,
   "id": "705f799b",
   "metadata": {},
   "outputs": [
    {
     "name": "stderr",
     "output_type": "stream",
     "text": [
      "<>:1: SyntaxWarning: \"is not\" with a literal. Did you mean \"!=\"?\n",
      "<>:1: SyntaxWarning: \"is not\" with a literal. Did you mean \"!=\"?\n",
      "C:\\Users\\DELL\\AppData\\Local\\Temp\\ipykernel_16176\\1977639868.py:1: SyntaxWarning: \"is not\" with a literal. Did you mean \"!=\"?\n",
      "  a is not 5\n"
     ]
    },
    {
     "data": {
      "text/plain": [
       "False"
      ]
     },
     "execution_count": 96,
     "metadata": {},
     "output_type": "execute_result"
    }
   ],
   "source": [
    "a is not 5"
   ]
  },
  {
   "cell_type": "markdown",
   "id": "7764adfa",
   "metadata": {},
   "source": [
    "# Membership Operator's (in, not in)"
   ]
  },
  {
   "cell_type": "code",
   "execution_count": 97,
   "id": "9555d9d5",
   "metadata": {},
   "outputs": [
    {
     "data": {
      "text/plain": [
       "True"
      ]
     },
     "execution_count": 97,
     "metadata": {},
     "output_type": "execute_result"
    }
   ],
   "source": [
    "10 in (2,4,10,20,15,30)"
   ]
  },
  {
   "cell_type": "code",
   "execution_count": 99,
   "id": "eb45f806",
   "metadata": {},
   "outputs": [
    {
     "data": {
      "text/plain": [
       "False"
      ]
     },
     "execution_count": 99,
     "metadata": {},
     "output_type": "execute_result"
    }
   ],
   "source": [
    "15 not in (2,4,10,20,15,30)"
   ]
  },
  {
   "cell_type": "markdown",
   "id": "351e2b8e",
   "metadata": {},
   "source": [
    "# Data Types"
   ]
  },
  {
   "cell_type": "code",
   "execution_count": null,
   "id": "1deb0ba7",
   "metadata": {},
   "outputs": [],
   "source": [
    "int 1,2,3,4,5,6,7,100,68,-10,-56\n",
    "float 2.4,3.6,8.5,-0.4,-56.9\n",
    "complex, c = 4 + 3j\n",
    "str \"Alphabet\", 'alphabet'\n",
    "bool True, Talse\n"
   ]
  },
  {
   "cell_type": "code",
   "execution_count": 2,
   "id": "5b2ae37a",
   "metadata": {},
   "outputs": [
    {
     "data": {
      "text/plain": [
       "int"
      ]
     },
     "execution_count": 2,
     "metadata": {},
     "output_type": "execute_result"
    }
   ],
   "source": [
    "var = 56\n",
    "type (var)"
   ]
  },
  {
   "cell_type": "code",
   "execution_count": 3,
   "id": "c1f6bf28",
   "metadata": {},
   "outputs": [
    {
     "data": {
      "text/plain": [
       "str"
      ]
     },
     "execution_count": 3,
     "metadata": {},
     "output_type": "execute_result"
    }
   ],
   "source": [
    "var = \"56\"\n",
    "type (var)"
   ]
  },
  {
   "cell_type": "code",
   "execution_count": 4,
   "id": "3e0e528c",
   "metadata": {},
   "outputs": [
    {
     "data": {
      "text/plain": [
       "56.0"
      ]
     },
     "execution_count": 4,
     "metadata": {},
     "output_type": "execute_result"
    }
   ],
   "source": [
    "float(var)"
   ]
  },
  {
   "cell_type": "code",
   "execution_count": 5,
   "id": "f329ecb1",
   "metadata": {},
   "outputs": [
    {
     "data": {
      "text/plain": [
       "56"
      ]
     },
     "execution_count": 5,
     "metadata": {},
     "output_type": "execute_result"
    }
   ],
   "source": [
    "int(var)"
   ]
  },
  {
   "cell_type": "code",
   "execution_count": null,
   "id": "95f006fb",
   "metadata": {},
   "outputs": [],
   "source": [
    "#implicit conversation"
   ]
  },
  {
   "cell_type": "code",
   "execution_count": 7,
   "id": "38210958",
   "metadata": {},
   "outputs": [
    {
     "data": {
      "text/plain": [
       "float"
      ]
     },
     "execution_count": 7,
     "metadata": {},
     "output_type": "execute_result"
    }
   ],
   "source": [
    "x = 4.5\n",
    "type (x)"
   ]
  },
  {
   "cell_type": "code",
   "execution_count": 8,
   "id": "5e78c423",
   "metadata": {},
   "outputs": [
    {
     "data": {
      "text/plain": [
       "4"
      ]
     },
     "execution_count": 8,
     "metadata": {},
     "output_type": "execute_result"
    }
   ],
   "source": [
    "int(x)"
   ]
  },
  {
   "cell_type": "code",
   "execution_count": 10,
   "id": "e389fd5e",
   "metadata": {},
   "outputs": [
    {
     "data": {
      "text/plain": [
       "'4.5'"
      ]
     },
     "execution_count": 10,
     "metadata": {},
     "output_type": "execute_result"
    }
   ],
   "source": [
    "str(x)"
   ]
  },
  {
   "cell_type": "code",
   "execution_count": 16,
   "id": "3f131536",
   "metadata": {},
   "outputs": [
    {
     "data": {
      "text/plain": [
       "str"
      ]
     },
     "execution_count": 16,
     "metadata": {},
     "output_type": "execute_result"
    }
   ],
   "source": [
    "a = \"Hello\"\n",
    "type (a)"
   ]
  },
  {
   "cell_type": "code",
   "execution_count": 22,
   "id": "06f30948",
   "metadata": {},
   "outputs": [
    {
     "data": {
      "text/plain": [
       "float"
      ]
     },
     "execution_count": 22,
     "metadata": {},
     "output_type": "execute_result"
    }
   ],
   "source": [
    "var = -5.1\n",
    "type (var)"
   ]
  },
  {
   "cell_type": "code",
   "execution_count": 23,
   "id": "22bb6b37",
   "metadata": {},
   "outputs": [
    {
     "data": {
      "text/plain": [
       "-5.1"
      ]
     },
     "execution_count": 23,
     "metadata": {},
     "output_type": "execute_result"
    }
   ],
   "source": [
    "float(var)"
   ]
  },
  {
   "cell_type": "code",
   "execution_count": 24,
   "id": "a4d6afcc",
   "metadata": {},
   "outputs": [
    {
     "data": {
      "text/plain": [
       "'-5.1'"
      ]
     },
     "execution_count": 24,
     "metadata": {},
     "output_type": "execute_result"
    }
   ],
   "source": [
    "str(var)"
   ]
  },
  {
   "cell_type": "code",
   "execution_count": 25,
   "id": "85ed7bac",
   "metadata": {},
   "outputs": [
    {
     "data": {
      "text/plain": [
       "-5"
      ]
     },
     "execution_count": 25,
     "metadata": {},
     "output_type": "execute_result"
    }
   ],
   "source": [
    "int(var)"
   ]
  },
  {
   "cell_type": "code",
   "execution_count": 27,
   "id": "29e59d44",
   "metadata": {},
   "outputs": [
    {
     "data": {
      "text/plain": [
       "-2"
      ]
     },
     "execution_count": 27,
     "metadata": {},
     "output_type": "execute_result"
    }
   ],
   "source": [
    "var = \"-2.8\"\n",
    "int(float(var))"
   ]
  },
  {
   "cell_type": "code",
   "execution_count": 1,
   "id": "42af47d1",
   "metadata": {},
   "outputs": [
    {
     "data": {
      "text/plain": [
       "'-6.11'"
      ]
     },
     "execution_count": 1,
     "metadata": {},
     "output_type": "execute_result"
    }
   ],
   "source": [
    "v = -6.11\n",
    "str(v)"
   ]
  },
  {
   "cell_type": "code",
   "execution_count": 2,
   "id": "88839e5b",
   "metadata": {},
   "outputs": [
    {
     "data": {
      "text/plain": [
       "-6"
      ]
     },
     "execution_count": 2,
     "metadata": {},
     "output_type": "execute_result"
    }
   ],
   "source": [
    "int(v)"
   ]
  },
  {
   "cell_type": "code",
   "execution_count": 3,
   "id": "3ae2b6ac",
   "metadata": {},
   "outputs": [
    {
     "data": {
      "text/plain": [
       "-6.11"
      ]
     },
     "execution_count": 3,
     "metadata": {},
     "output_type": "execute_result"
    }
   ],
   "source": [
    "float(v)"
   ]
  },
  {
   "cell_type": "code",
   "execution_count": 6,
   "id": "77bf9c3e",
   "metadata": {},
   "outputs": [
    {
     "data": {
      "text/plain": [
       "bool"
      ]
     },
     "execution_count": 6,
     "metadata": {},
     "output_type": "execute_result"
    }
   ],
   "source": [
    "a = True\n",
    "b = False\n",
    "type (a)"
   ]
  },
  {
   "cell_type": "code",
   "execution_count": 7,
   "id": "5e8f703a",
   "metadata": {},
   "outputs": [
    {
     "data": {
      "text/plain": [
       "bool"
      ]
     },
     "execution_count": 7,
     "metadata": {},
     "output_type": "execute_result"
    }
   ],
   "source": [
    "type (b)"
   ]
  },
  {
   "cell_type": "code",
   "execution_count": 8,
   "id": "0fde83b9",
   "metadata": {},
   "outputs": [
    {
     "data": {
      "text/plain": [
       "1.0"
      ]
     },
     "execution_count": 8,
     "metadata": {},
     "output_type": "execute_result"
    }
   ],
   "source": [
    "float(a)"
   ]
  },
  {
   "cell_type": "code",
   "execution_count": 9,
   "id": "8c118c4f",
   "metadata": {},
   "outputs": [
    {
     "data": {
      "text/plain": [
       "0.0"
      ]
     },
     "execution_count": 9,
     "metadata": {},
     "output_type": "execute_result"
    }
   ],
   "source": [
    "float(b)"
   ]
  },
  {
   "cell_type": "code",
   "execution_count": 10,
   "id": "56666986",
   "metadata": {},
   "outputs": [
    {
     "data": {
      "text/plain": [
       "1"
      ]
     },
     "execution_count": 10,
     "metadata": {},
     "output_type": "execute_result"
    }
   ],
   "source": [
    "int(a)"
   ]
  },
  {
   "cell_type": "code",
   "execution_count": 11,
   "id": "95bc8545",
   "metadata": {},
   "outputs": [
    {
     "data": {
      "text/plain": [
       "0"
      ]
     },
     "execution_count": 11,
     "metadata": {},
     "output_type": "execute_result"
    }
   ],
   "source": [
    "int(b)"
   ]
  },
  {
   "cell_type": "code",
   "execution_count": 12,
   "id": "d1a5da64",
   "metadata": {},
   "outputs": [
    {
     "data": {
      "text/plain": [
       "'True'"
      ]
     },
     "execution_count": 12,
     "metadata": {},
     "output_type": "execute_result"
    }
   ],
   "source": [
    "str(a)"
   ]
  },
  {
   "cell_type": "code",
   "execution_count": 13,
   "id": "6dfd2c33",
   "metadata": {},
   "outputs": [
    {
     "data": {
      "text/plain": [
       "'False'"
      ]
     },
     "execution_count": 13,
     "metadata": {},
     "output_type": "execute_result"
    }
   ],
   "source": [
    "str(b)"
   ]
  },
  {
   "cell_type": "code",
   "execution_count": 14,
   "id": "03ea3d3e",
   "metadata": {},
   "outputs": [
    {
     "data": {
      "text/plain": [
       "\"I'am a student\""
      ]
     },
     "execution_count": 14,
     "metadata": {},
     "output_type": "execute_result"
    }
   ],
   "source": [
    "str = \"I'am a student\"\n",
    "str"
   ]
  },
  {
   "cell_type": "code",
   "execution_count": 15,
   "id": "bfa1347a",
   "metadata": {},
   "outputs": [
    {
     "data": {
      "text/plain": [
       "str"
      ]
     },
     "execution_count": 15,
     "metadata": {},
     "output_type": "execute_result"
    }
   ],
   "source": [
    "type(str)"
   ]
  },
  {
   "cell_type": "markdown",
   "id": "c7394034",
   "metadata": {},
   "source": [
    "# Data Structure"
   ]
  },
  {
   "cell_type": "code",
   "execution_count": null,
   "id": "59ab624e",
   "metadata": {},
   "outputs": [],
   "source": [
    "list\n",
    "set\n",
    "tuple\n",
    "dictionary"
   ]
  },
  {
   "cell_type": "markdown",
   "id": "6af69653",
   "metadata": {},
   "source": [
    "# List"
   ]
  },
  {
   "cell_type": "code",
   "execution_count": 16,
   "id": "8e18b9f4",
   "metadata": {},
   "outputs": [
    {
     "data": {
      "text/plain": [
       "list"
      ]
     },
     "execution_count": 16,
     "metadata": {},
     "output_type": "execute_result"
    }
   ],
   "source": [
    "marks = [1,2,3,4,5,6,7,8,9,10]\n",
    "type(marks)"
   ]
  },
  {
   "cell_type": "code",
   "execution_count": 17,
   "id": "dbb33395",
   "metadata": {},
   "outputs": [
    {
     "data": {
      "text/plain": [
       "[5, 7, 9]"
      ]
     },
     "execution_count": 17,
     "metadata": {},
     "output_type": "execute_result"
    }
   ],
   "source": [
    "marks[4::2]"
   ]
  },
  {
   "cell_type": "code",
   "execution_count": 22,
   "id": "a64264d9",
   "metadata": {},
   "outputs": [
    {
     "data": {
      "text/plain": [
       "[2, 3, 4, 5, 6, 7]"
      ]
     },
     "execution_count": 22,
     "metadata": {},
     "output_type": "execute_result"
    }
   ],
   "source": [
    "# start:End+1:interval+1\n",
    "marks[1:7]"
   ]
  },
  {
   "cell_type": "code",
   "execution_count": 23,
   "id": "e3a94c5a",
   "metadata": {},
   "outputs": [
    {
     "data": {
      "text/plain": [
       "[2, 4, 6, 8]"
      ]
     },
     "execution_count": 23,
     "metadata": {},
     "output_type": "execute_result"
    }
   ],
   "source": [
    "marks[1:8:2]"
   ]
  },
  {
   "cell_type": "code",
   "execution_count": 24,
   "id": "d2ff3bb9",
   "metadata": {},
   "outputs": [
    {
     "data": {
      "text/plain": [
       "10"
      ]
     },
     "execution_count": 24,
     "metadata": {},
     "output_type": "execute_result"
    }
   ],
   "source": [
    "len(marks)"
   ]
  },
  {
   "cell_type": "code",
   "execution_count": 47,
   "id": "cc39ac7a",
   "metadata": {},
   "outputs": [
    {
     "data": {
      "text/plain": [
       "[1, 2, 3, 4, 5, 6, 7, 8, 9]"
      ]
     },
     "execution_count": 47,
     "metadata": {},
     "output_type": "execute_result"
    }
   ],
   "source": [
    "      # 0, 1,2,3,4,5,6,7,8,9\n",
    "marks = [1,2,3,4,5,6,7,8,9,10]\n",
    "      #-10-9-8-7-6-5-4-3-2-1\n",
    "marks[:-1]"
   ]
  },
  {
   "cell_type": "code",
   "execution_count": 44,
   "id": "607c317e",
   "metadata": {},
   "outputs": [
    {
     "data": {
      "text/plain": [
       "[10, 8, 6, 4, 2]"
      ]
     },
     "execution_count": 44,
     "metadata": {},
     "output_type": "execute_result"
    }
   ],
   "source": [
    "marks[::-2]"
   ]
  },
  {
   "cell_type": "code",
   "execution_count": 43,
   "id": "a9129f47",
   "metadata": {},
   "outputs": [
    {
     "data": {
      "text/plain": [
       "[10, 9, 8, 7, 6, 5, 4, 3, 2, 1]"
      ]
     },
     "execution_count": 43,
     "metadata": {},
     "output_type": "execute_result"
    }
   ],
   "source": [
    "marks[::-1]"
   ]
  },
  {
   "cell_type": "code",
   "execution_count": 28,
   "id": "0eb45317",
   "metadata": {},
   "outputs": [
    {
     "data": {
      "text/plain": [
       "[3, 4, 5, 6]"
      ]
     },
     "execution_count": 28,
     "metadata": {},
     "output_type": "execute_result"
    }
   ],
   "source": [
    "marks[-8:-4]"
   ]
  },
  {
   "cell_type": "code",
   "execution_count": 29,
   "id": "53786447",
   "metadata": {},
   "outputs": [
    {
     "data": {
      "text/plain": [
       "[2, 4, 6, 8]"
      ]
     },
     "execution_count": 29,
     "metadata": {},
     "output_type": "execute_result"
    }
   ],
   "source": [
    "marks[-9:-2:2]"
   ]
  },
  {
   "cell_type": "code",
   "execution_count": 30,
   "id": "3e545c16",
   "metadata": {},
   "outputs": [
    {
     "data": {
      "text/plain": [
       "8"
      ]
     },
     "execution_count": 30,
     "metadata": {},
     "output_type": "execute_result"
    }
   ],
   "source": [
    "marks[7]"
   ]
  },
  {
   "cell_type": "code",
   "execution_count": 31,
   "id": "67905e56",
   "metadata": {},
   "outputs": [
    {
     "data": {
      "text/plain": [
       "5"
      ]
     },
     "execution_count": 31,
     "metadata": {},
     "output_type": "execute_result"
    }
   ],
   "source": [
    "marks[-6]"
   ]
  },
  {
   "cell_type": "code",
   "execution_count": null,
   "id": "22063ce7",
   "metadata": {},
   "outputs": [],
   "source": [
    "     #  0, 1,2,3,4,5,6,7,8,9\n",
    "marks = [1,2,3,4,5,6,7,8,9,10]\n",
    "      #-10-9-8-7-6-5-4-3-2-1"
   ]
  },
  {
   "cell_type": "code",
   "execution_count": 34,
   "id": "dfe2aeef",
   "metadata": {},
   "outputs": [
    {
     "data": {
      "text/plain": [
       "10"
      ]
     },
     "execution_count": 34,
     "metadata": {},
     "output_type": "execute_result"
    }
   ],
   "source": [
    "len(marks)"
   ]
  },
  {
   "cell_type": "code",
   "execution_count": 36,
   "id": "21c2780e",
   "metadata": {},
   "outputs": [
    {
     "data": {
      "text/plain": [
       "9"
      ]
     },
     "execution_count": 36,
     "metadata": {},
     "output_type": "execute_result"
    }
   ],
   "source": [
    "marks[8]"
   ]
  },
  {
   "cell_type": "code",
   "execution_count": 38,
   "id": "94e3252b",
   "metadata": {},
   "outputs": [
    {
     "data": {
      "text/plain": [
       "8"
      ]
     },
     "execution_count": 38,
     "metadata": {},
     "output_type": "execute_result"
    }
   ],
   "source": [
    "marks.index(9)"
   ]
  },
  {
   "cell_type": "code",
   "execution_count": 40,
   "id": "25da219f",
   "metadata": {},
   "outputs": [
    {
     "data": {
      "text/plain": [
       "[2, 5, 8]"
      ]
     },
     "execution_count": 40,
     "metadata": {},
     "output_type": "execute_result"
    }
   ],
   "source": [
    "marks[1:8:3]\n",
    "# start:End+1:interval+1"
   ]
  },
  {
   "cell_type": "code",
   "execution_count": null,
   "id": "291644c1",
   "metadata": {},
   "outputs": [],
   "source": []
  }
 ],
 "metadata": {
  "kernelspec": {
   "display_name": "Python 3 (ipykernel)",
   "language": "python",
   "name": "python3"
  },
  "language_info": {
   "codemirror_mode": {
    "name": "ipython",
    "version": 3
   },
   "file_extension": ".py",
   "mimetype": "text/x-python",
   "name": "python",
   "nbconvert_exporter": "python",
   "pygments_lexer": "ipython3",
   "version": "3.11.5"
  }
 },
 "nbformat": 4,
 "nbformat_minor": 5
}
