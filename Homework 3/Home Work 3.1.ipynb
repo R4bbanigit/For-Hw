{
 "cells": [
  {
   "cell_type": "markdown",
   "id": "fb179163",
   "metadata": {},
   "source": [
    "# Arithmatic oeprator's"
   ]
  },
  {
   "cell_type": "code",
   "execution_count": 1,
   "id": "8a9fb832",
   "metadata": {},
   "outputs": [
    {
     "data": {
      "text/plain": [
       "20"
      ]
     },
     "execution_count": 1,
     "metadata": {},
     "output_type": "execute_result"
    }
   ],
   "source": [
    "a = 10\n",
    "b = 10\n",
    "a+b"
   ]
  },
  {
   "cell_type": "code",
   "execution_count": 2,
   "id": "4095366c",
   "metadata": {},
   "outputs": [
    {
     "data": {
      "text/plain": [
       "0"
      ]
     },
     "execution_count": 2,
     "metadata": {},
     "output_type": "execute_result"
    }
   ],
   "source": [
    "a-b"
   ]
  },
  {
   "cell_type": "code",
   "execution_count": 3,
   "id": "515731a0",
   "metadata": {},
   "outputs": [
    {
     "data": {
      "text/plain": [
       "100"
      ]
     },
     "execution_count": 3,
     "metadata": {},
     "output_type": "execute_result"
    }
   ],
   "source": [
    "a*b"
   ]
  },
  {
   "cell_type": "code",
   "execution_count": 4,
   "id": "b88a5b51",
   "metadata": {},
   "outputs": [
    {
     "data": {
      "text/plain": [
       "10000000000"
      ]
     },
     "execution_count": 4,
     "metadata": {},
     "output_type": "execute_result"
    }
   ],
   "source": [
    "a**b"
   ]
  },
  {
   "cell_type": "code",
   "execution_count": 5,
   "id": "8e711209",
   "metadata": {},
   "outputs": [
    {
     "data": {
      "text/plain": [
       "1.0"
      ]
     },
     "execution_count": 5,
     "metadata": {},
     "output_type": "execute_result"
    }
   ],
   "source": [
    "a/b"
   ]
  },
  {
   "cell_type": "code",
   "execution_count": 6,
   "id": "68d5c73b",
   "metadata": {},
   "outputs": [
    {
     "data": {
      "text/plain": [
       "1"
      ]
     },
     "execution_count": 6,
     "metadata": {},
     "output_type": "execute_result"
    }
   ],
   "source": [
    "a//b"
   ]
  },
  {
   "cell_type": "code",
   "execution_count": 7,
   "id": "d0629d8a",
   "metadata": {},
   "outputs": [
    {
     "data": {
      "text/plain": [
       "0"
      ]
     },
     "execution_count": 7,
     "metadata": {},
     "output_type": "execute_result"
    }
   ],
   "source": [
    "a%b"
   ]
  },
  {
   "cell_type": "markdown",
   "id": "8671d8e0",
   "metadata": {},
   "source": [
    "# Comparison operator's"
   ]
  },
  {
   "cell_type": "code",
   "execution_count": 8,
   "id": "142cd6cc",
   "metadata": {},
   "outputs": [
    {
     "data": {
      "text/plain": [
       "True"
      ]
     },
     "execution_count": 8,
     "metadata": {},
     "output_type": "execute_result"
    }
   ],
   "source": [
    "a = 15\n",
    "b = 5\n",
    "a>=b"
   ]
  },
  {
   "cell_type": "code",
   "execution_count": 10,
   "id": "c3ce7d2f",
   "metadata": {},
   "outputs": [
    {
     "data": {
      "text/plain": [
       "False"
      ]
     },
     "execution_count": 10,
     "metadata": {},
     "output_type": "execute_result"
    }
   ],
   "source": [
    "b>=a"
   ]
  },
  {
   "cell_type": "code",
   "execution_count": 11,
   "id": "94ad5a52",
   "metadata": {},
   "outputs": [
    {
     "data": {
      "text/plain": [
       "True"
      ]
     },
     "execution_count": 11,
     "metadata": {},
     "output_type": "execute_result"
    }
   ],
   "source": [
    "a!=b"
   ]
  },
  {
   "cell_type": "code",
   "execution_count": 12,
   "id": "acb26a21",
   "metadata": {},
   "outputs": [
    {
     "data": {
      "text/plain": [
       "False"
      ]
     },
     "execution_count": 12,
     "metadata": {},
     "output_type": "execute_result"
    }
   ],
   "source": [
    "a == b"
   ]
  },
  {
   "cell_type": "markdown",
   "id": "6ed22f3a",
   "metadata": {},
   "source": [
    "# logical operator's"
   ]
  },
  {
   "cell_type": "code",
   "execution_count": 13,
   "id": "ec064216",
   "metadata": {},
   "outputs": [
    {
     "data": {
      "text/plain": [
       "True"
      ]
     },
     "execution_count": 13,
     "metadata": {},
     "output_type": "execute_result"
    }
   ],
   "source": [
    "a>b and b<a"
   ]
  },
  {
   "cell_type": "code",
   "execution_count": 15,
   "id": "de217fe2",
   "metadata": {},
   "outputs": [
    {
     "data": {
      "text/plain": [
       "False"
      ]
     },
     "execution_count": 15,
     "metadata": {},
     "output_type": "execute_result"
    }
   ],
   "source": [
    "a<b and b<a"
   ]
  },
  {
   "cell_type": "code",
   "execution_count": 16,
   "id": "49bd3853",
   "metadata": {},
   "outputs": [
    {
     "data": {
      "text/plain": [
       "True"
      ]
     },
     "execution_count": 16,
     "metadata": {},
     "output_type": "execute_result"
    }
   ],
   "source": [
    "a<b or b<a"
   ]
  },
  {
   "cell_type": "code",
   "execution_count": 18,
   "id": "358e0ff2",
   "metadata": {},
   "outputs": [
    {
     "data": {
      "text/plain": [
       "True"
      ]
     },
     "execution_count": 18,
     "metadata": {},
     "output_type": "execute_result"
    }
   ],
   "source": [
    "not a<b"
   ]
  },
  {
   "cell_type": "code",
   "execution_count": 19,
   "id": "5149e2a5",
   "metadata": {},
   "outputs": [
    {
     "data": {
      "text/plain": [
       "False"
      ]
     },
     "execution_count": 19,
     "metadata": {},
     "output_type": "execute_result"
    }
   ],
   "source": [
    "not a>b"
   ]
  },
  {
   "cell_type": "markdown",
   "id": "d95ca265",
   "metadata": {},
   "source": [
    "# Assignment Operator's"
   ]
  },
  {
   "cell_type": "code",
   "execution_count": 20,
   "id": "bf2d2e83",
   "metadata": {},
   "outputs": [
    {
     "data": {
      "text/plain": [
       "55"
      ]
     },
     "execution_count": 20,
     "metadata": {},
     "output_type": "execute_result"
    }
   ],
   "source": [
    "a = 35\n",
    "b = 20\n",
    "c = a+b\n",
    "c"
   ]
  },
  {
   "cell_type": "code",
   "execution_count": 21,
   "id": "4478cc4f",
   "metadata": {},
   "outputs": [
    {
     "data": {
      "text/plain": [
       "15"
      ]
     },
     "execution_count": 21,
     "metadata": {},
     "output_type": "execute_result"
    }
   ],
   "source": [
    "d = a - b\n",
    "d"
   ]
  },
  {
   "cell_type": "code",
   "execution_count": 22,
   "id": "2f2a05b2",
   "metadata": {},
   "outputs": [],
   "source": [
    "a +=15"
   ]
  },
  {
   "cell_type": "code",
   "execution_count": 23,
   "id": "48570848",
   "metadata": {},
   "outputs": [
    {
     "data": {
      "text/plain": [
       "50"
      ]
     },
     "execution_count": 23,
     "metadata": {},
     "output_type": "execute_result"
    }
   ],
   "source": [
    "a"
   ]
  },
  {
   "cell_type": "code",
   "execution_count": 24,
   "id": "ff34c019",
   "metadata": {},
   "outputs": [],
   "source": [
    "b -=10"
   ]
  },
  {
   "cell_type": "code",
   "execution_count": 25,
   "id": "846f706e",
   "metadata": {},
   "outputs": [
    {
     "data": {
      "text/plain": [
       "10"
      ]
     },
     "execution_count": 25,
     "metadata": {},
     "output_type": "execute_result"
    }
   ],
   "source": [
    "b"
   ]
  },
  {
   "cell_type": "code",
   "execution_count": 26,
   "id": "f5ef9722",
   "metadata": {},
   "outputs": [],
   "source": [
    "e = 2\n",
    "e **=3"
   ]
  },
  {
   "cell_type": "code",
   "execution_count": 27,
   "id": "65d03a50",
   "metadata": {},
   "outputs": [
    {
     "data": {
      "text/plain": [
       "8"
      ]
     },
     "execution_count": 27,
     "metadata": {},
     "output_type": "execute_result"
    }
   ],
   "source": [
    "e"
   ]
  },
  {
   "cell_type": "code",
   "execution_count": 38,
   "id": "d40891d4",
   "metadata": {},
   "outputs": [],
   "source": [
    "b %=2"
   ]
  },
  {
   "cell_type": "code",
   "execution_count": 39,
   "id": "2093d8b9",
   "metadata": {},
   "outputs": [
    {
     "data": {
      "text/plain": [
       "0"
      ]
     },
     "execution_count": 39,
     "metadata": {},
     "output_type": "execute_result"
    }
   ],
   "source": [
    "b"
   ]
  },
  {
   "cell_type": "code",
   "execution_count": 40,
   "id": "85593d36",
   "metadata": {},
   "outputs": [],
   "source": [
    "b /=2"
   ]
  },
  {
   "cell_type": "code",
   "execution_count": 41,
   "id": "97519bbb",
   "metadata": {},
   "outputs": [
    {
     "data": {
      "text/plain": [
       "0.0"
      ]
     },
     "execution_count": 41,
     "metadata": {},
     "output_type": "execute_result"
    }
   ],
   "source": [
    "b"
   ]
  },
  {
   "cell_type": "markdown",
   "id": "9ebefc22",
   "metadata": {},
   "source": [
    "# identity operator's and membersip oeprator's"
   ]
  },
  {
   "cell_type": "code",
   "execution_count": null,
   "id": "26974f24",
   "metadata": {},
   "outputs": [],
   "source": [
    "# identity oeprator's\n",
    "# is, is not"
   ]
  },
  {
   "cell_type": "code",
   "execution_count": 46,
   "id": "0411c20c",
   "metadata": {},
   "outputs": [
    {
     "name": "stderr",
     "output_type": "stream",
     "text": [
      "<>:2: SyntaxWarning: \"is\" with a literal. Did you mean \"==\"?\n",
      "<>:2: SyntaxWarning: \"is\" with a literal. Did you mean \"==\"?\n",
      "C:\\Users\\DELL\\AppData\\Local\\Temp\\ipykernel_9548\\2731288679.py:2: SyntaxWarning: \"is\" with a literal. Did you mean \"==\"?\n",
      "  o is 5\n"
     ]
    },
    {
     "data": {
      "text/plain": [
       "True"
      ]
     },
     "execution_count": 46,
     "metadata": {},
     "output_type": "execute_result"
    }
   ],
   "source": [
    "o = 5\n",
    "o is 5"
   ]
  },
  {
   "cell_type": "code",
   "execution_count": 47,
   "id": "aafb5e8a",
   "metadata": {},
   "outputs": [
    {
     "name": "stderr",
     "output_type": "stream",
     "text": [
      "<>:2: SyntaxWarning: \"is not\" with a literal. Did you mean \"!=\"?\n",
      "<>:2: SyntaxWarning: \"is not\" with a literal. Did you mean \"!=\"?\n",
      "C:\\Users\\DELL\\AppData\\Local\\Temp\\ipykernel_9548\\3574957288.py:2: SyntaxWarning: \"is not\" with a literal. Did you mean \"!=\"?\n",
      "  o is not 10\n"
     ]
    },
    {
     "data": {
      "text/plain": [
       "False"
      ]
     },
     "execution_count": 47,
     "metadata": {},
     "output_type": "execute_result"
    }
   ],
   "source": [
    "o = 10\n",
    "o is not 10"
   ]
  },
  {
   "cell_type": "code",
   "execution_count": null,
   "id": "c23d92e0",
   "metadata": {},
   "outputs": [],
   "source": [
    "# Membership operato's\n",
    "# in not in"
   ]
  },
  {
   "cell_type": "code",
   "execution_count": 49,
   "id": "0b86cfc1",
   "metadata": {},
   "outputs": [
    {
     "data": {
      "text/plain": [
       "True"
      ]
     },
     "execution_count": 49,
     "metadata": {},
     "output_type": "execute_result"
    }
   ],
   "source": [
    "a = (1,2,3,4,5)\n",
    "4 in a"
   ]
  },
  {
   "cell_type": "code",
   "execution_count": 51,
   "id": "9cde2d95",
   "metadata": {},
   "outputs": [
    {
     "data": {
      "text/plain": [
       "True"
      ]
     },
     "execution_count": 51,
     "metadata": {},
     "output_type": "execute_result"
    }
   ],
   "source": [
    "6 not in a"
   ]
  },
  {
   "cell_type": "code",
   "execution_count": null,
   "id": "5b817f36",
   "metadata": {},
   "outputs": [],
   "source": [
    "# Data types\n",
    "int 1,2,3,4,5,6,7,100,68,-10,-56\n",
    "float 2.4,3.6,8.5,-0.4,-56.9\n",
    "complex, c = 4 + 3j\n",
    "str \"Alphabet\", 'alphabet'\n",
    "bool True, False"
   ]
  },
  {
   "cell_type": "code",
   "execution_count": 52,
   "id": "7d9e0ebb",
   "metadata": {},
   "outputs": [
    {
     "data": {
      "text/plain": [
       "int"
      ]
     },
     "execution_count": 52,
     "metadata": {},
     "output_type": "execute_result"
    }
   ],
   "source": [
    "var = 10\n",
    "type (var)"
   ]
  },
  {
   "cell_type": "code",
   "execution_count": 53,
   "id": "760c10c1",
   "metadata": {},
   "outputs": [
    {
     "data": {
      "text/plain": [
       "10.0"
      ]
     },
     "execution_count": 53,
     "metadata": {},
     "output_type": "execute_result"
    }
   ],
   "source": [
    "float(var)"
   ]
  },
  {
   "cell_type": "code",
   "execution_count": 54,
   "id": "df35ff08",
   "metadata": {},
   "outputs": [
    {
     "data": {
      "text/plain": [
       "'10'"
      ]
     },
     "execution_count": 54,
     "metadata": {},
     "output_type": "execute_result"
    }
   ],
   "source": [
    "str(var)"
   ]
  },
  {
   "cell_type": "code",
   "execution_count": 55,
   "id": "1c9a5737",
   "metadata": {},
   "outputs": [
    {
     "data": {
      "text/plain": [
       "float"
      ]
     },
     "execution_count": 55,
     "metadata": {},
     "output_type": "execute_result"
    }
   ],
   "source": [
    "a = -8.65\n",
    "type(a)"
   ]
  },
  {
   "cell_type": "code",
   "execution_count": 56,
   "id": "dd3cd3de",
   "metadata": {},
   "outputs": [
    {
     "data": {
      "text/plain": [
       "'-8.65'"
      ]
     },
     "execution_count": 56,
     "metadata": {},
     "output_type": "execute_result"
    }
   ],
   "source": [
    "str(a)"
   ]
  },
  {
   "cell_type": "code",
   "execution_count": 57,
   "id": "f04d23c5",
   "metadata": {},
   "outputs": [
    {
     "data": {
      "text/plain": [
       "-8"
      ]
     },
     "execution_count": 57,
     "metadata": {},
     "output_type": "execute_result"
    }
   ],
   "source": [
    "int(a)"
   ]
  },
  {
   "cell_type": "code",
   "execution_count": 58,
   "id": "c0005f63",
   "metadata": {},
   "outputs": [
    {
     "data": {
      "text/plain": [
       "1"
      ]
     },
     "execution_count": 58,
     "metadata": {},
     "output_type": "execute_result"
    }
   ],
   "source": [
    "a = True\n",
    "b = False\n",
    "int(a)"
   ]
  },
  {
   "cell_type": "code",
   "execution_count": 59,
   "id": "17eaf75b",
   "metadata": {},
   "outputs": [
    {
     "data": {
      "text/plain": [
       "'True'"
      ]
     },
     "execution_count": 59,
     "metadata": {},
     "output_type": "execute_result"
    }
   ],
   "source": [
    "str(a)"
   ]
  },
  {
   "cell_type": "code",
   "execution_count": 60,
   "id": "52b1ce7e",
   "metadata": {},
   "outputs": [
    {
     "data": {
      "text/plain": [
       "1.0"
      ]
     },
     "execution_count": 60,
     "metadata": {},
     "output_type": "execute_result"
    }
   ],
   "source": [
    "float(a)"
   ]
  },
  {
   "cell_type": "code",
   "execution_count": 61,
   "id": "1d23e920",
   "metadata": {},
   "outputs": [
    {
     "data": {
      "text/plain": [
       "bool"
      ]
     },
     "execution_count": 61,
     "metadata": {},
     "output_type": "execute_result"
    }
   ],
   "source": [
    "type(a)"
   ]
  },
  {
   "cell_type": "markdown",
   "id": "1fb7088c",
   "metadata": {},
   "source": [
    "# Data Structure"
   ]
  },
  {
   "cell_type": "code",
   "execution_count": null,
   "id": "3ad14d5f",
   "metadata": {},
   "outputs": [],
   "source": [
    "# list\n",
    "# set \n",
    "# tuple\n",
    "# dictionary"
   ]
  },
  {
   "cell_type": "markdown",
   "id": "4b9e13b5",
   "metadata": {},
   "source": [
    "# List"
   ]
  },
  {
   "cell_type": "code",
   "execution_count": 66,
   "id": "fdc14797",
   "metadata": {},
   "outputs": [
    {
     "data": {
      "text/plain": [
       "2"
      ]
     },
     "execution_count": 66,
     "metadata": {},
     "output_type": "execute_result"
    }
   ],
   "source": [
    "bills= [12,54,32,64,75,23,54,65,25,56]\n",
    "bills.count(54)"
   ]
  },
  {
   "cell_type": "code",
   "execution_count": 67,
   "id": "007d45b5",
   "metadata": {},
   "outputs": [
    {
     "data": {
      "text/plain": [
       "10"
      ]
     },
     "execution_count": 67,
     "metadata": {},
     "output_type": "execute_result"
    }
   ],
   "source": [
    "len(bills)"
   ]
  },
  {
   "cell_type": "code",
   "execution_count": 68,
   "id": "8624262b",
   "metadata": {},
   "outputs": [
    {
     "data": {
      "text/plain": [
       "460"
      ]
     },
     "execution_count": 68,
     "metadata": {},
     "output_type": "execute_result"
    }
   ],
   "source": [
    "sum(bills)"
   ]
  },
  {
   "cell_type": "code",
   "execution_count": 69,
   "id": "a02fe355",
   "metadata": {},
   "outputs": [
    {
     "data": {
      "text/plain": [
       "46.0"
      ]
     },
     "execution_count": 69,
     "metadata": {},
     "output_type": "execute_result"
    }
   ],
   "source": [
    "sum(bills)/10"
   ]
  },
  {
   "cell_type": "code",
   "execution_count": 70,
   "id": "b19ea194",
   "metadata": {},
   "outputs": [
    {
     "data": {
      "text/plain": [
       "75"
      ]
     },
     "execution_count": 70,
     "metadata": {},
     "output_type": "execute_result"
    }
   ],
   "source": [
    "max(bills)"
   ]
  },
  {
   "cell_type": "code",
   "execution_count": 71,
   "id": "2860719a",
   "metadata": {},
   "outputs": [
    {
     "data": {
      "text/plain": [
       "12"
      ]
     },
     "execution_count": 71,
     "metadata": {},
     "output_type": "execute_result"
    }
   ],
   "source": [
    "min(bills)"
   ]
  },
  {
   "cell_type": "code",
   "execution_count": 73,
   "id": "50e22f07",
   "metadata": {},
   "outputs": [
    {
     "data": {
      "text/plain": [
       "[32, 75, 54]"
      ]
     },
     "execution_count": 73,
     "metadata": {},
     "output_type": "execute_result"
    }
   ],
   "source": [
    "# indexing and slicing\n",
    "bills [2:7:2]"
   ]
  },
  {
   "cell_type": "code",
   "execution_count": 80,
   "id": "739c7829",
   "metadata": {},
   "outputs": [
    {
     "data": {
      "text/plain": [
       "list"
      ]
     },
     "execution_count": 80,
     "metadata": {},
     "output_type": "execute_result"
    }
   ],
   "source": [
    "bills = [12,54,32,64,75,23,54,65,25,56]\n",
    "type(bills)"
   ]
  },
  {
   "cell_type": "code",
   "execution_count": 83,
   "id": "2c756a1a",
   "metadata": {},
   "outputs": [
    {
     "data": {
      "text/plain": [
       "10"
      ]
     },
     "execution_count": 83,
     "metadata": {},
     "output_type": "execute_result"
    }
   ],
   "source": [
    "len(bills)"
   ]
  },
  {
   "cell_type": "code",
   "execution_count": 89,
   "id": "024db4c9",
   "metadata": {},
   "outputs": [
    {
     "data": {
      "text/plain": [
       "7"
      ]
     },
     "execution_count": 89,
     "metadata": {},
     "output_type": "execute_result"
    }
   ],
   "source": [
    "bills = [12,54,32,64,75,23,54,65,25,56]\n",
    "bills.index(65)"
   ]
  },
  {
   "cell_type": "code",
   "execution_count": 90,
   "id": "852b8a6b",
   "metadata": {},
   "outputs": [
    {
     "data": {
      "text/plain": [
       "56"
      ]
     },
     "execution_count": 90,
     "metadata": {},
     "output_type": "execute_result"
    }
   ],
   "source": [
    "bills [9]"
   ]
  },
  {
   "cell_type": "code",
   "execution_count": 92,
   "id": "67a11901",
   "metadata": {},
   "outputs": [
    {
     "data": {
      "text/plain": [
       "[56, 65, 23, 64, 54]"
      ]
     },
     "execution_count": 92,
     "metadata": {},
     "output_type": "execute_result"
    }
   ],
   "source": [
    "bills[::-2]"
   ]
  },
  {
   "cell_type": "code",
   "execution_count": 96,
   "id": "87b8d1dc",
   "metadata": {},
   "outputs": [],
   "source": [
    "# mutable - modify(add,remove)\n",
    "# add - append,insert\n",
    "bills.append(100)"
   ]
  },
  {
   "cell_type": "code",
   "execution_count": 110,
   "id": "17e4a98e",
   "metadata": {},
   "outputs": [
    {
     "data": {
      "text/plain": [
       "[12, 32, 64, 200, 200, 75, 23, 54, 65, 25, 56, 100]"
      ]
     },
     "execution_count": 110,
     "metadata": {},
     "output_type": "execute_result"
    }
   ],
   "source": [
    "bills"
   ]
  },
  {
   "cell_type": "code",
   "execution_count": 111,
   "id": "9469d8ca",
   "metadata": {},
   "outputs": [],
   "source": [
    "bills.insert(4,200)"
   ]
  },
  {
   "cell_type": "code",
   "execution_count": 112,
   "id": "fed28711",
   "metadata": {},
   "outputs": [
    {
     "data": {
      "text/plain": [
       "[12, 32, 64, 200, 200, 200, 75, 23, 54, 65, 25, 56, 100]"
      ]
     },
     "execution_count": 112,
     "metadata": {},
     "output_type": "execute_result"
    }
   ],
   "source": [
    "bills"
   ]
  },
  {
   "cell_type": "code",
   "execution_count": 106,
   "id": "76fd46a0",
   "metadata": {},
   "outputs": [
    {
     "data": {
      "text/plain": [
       "13"
      ]
     },
     "execution_count": 106,
     "metadata": {},
     "output_type": "execute_result"
    }
   ],
   "source": [
    "len(bills)"
   ]
  },
  {
   "cell_type": "code",
   "execution_count": 107,
   "id": "a0b21eb5",
   "metadata": {},
   "outputs": [
    {
     "data": {
      "text/plain": [
       "200"
      ]
     },
     "execution_count": 107,
     "metadata": {},
     "output_type": "execute_result"
    }
   ],
   "source": [
    "max(bills)"
   ]
  },
  {
   "cell_type": "code",
   "execution_count": 114,
   "id": "d70f857b",
   "metadata": {},
   "outputs": [],
   "source": [
    "# remove(remove,pop,del)\n",
    "bills.remove(54)"
   ]
  },
  {
   "cell_type": "code",
   "execution_count": 115,
   "id": "8f514920",
   "metadata": {},
   "outputs": [
    {
     "data": {
      "text/plain": [
       "[12, 32, 64, 200, 200, 200, 75, 23, 65, 25, 56, 100]"
      ]
     },
     "execution_count": 115,
     "metadata": {},
     "output_type": "execute_result"
    }
   ],
   "source": [
    "bills"
   ]
  },
  {
   "cell_type": "code",
   "execution_count": 120,
   "id": "407b0b98",
   "metadata": {},
   "outputs": [
    {
     "data": {
      "text/plain": [
       "200"
      ]
     },
     "execution_count": 120,
     "metadata": {},
     "output_type": "execute_result"
    }
   ],
   "source": [
    "bills.pop(4)"
   ]
  },
  {
   "cell_type": "code",
   "execution_count": 121,
   "id": "595b9ca6",
   "metadata": {},
   "outputs": [
    {
     "data": {
      "text/plain": [
       "[12, 32, 64, 200, 75, 23, 65, 25, 56]"
      ]
     },
     "execution_count": 121,
     "metadata": {},
     "output_type": "execute_result"
    }
   ],
   "source": [
    "bills"
   ]
  },
  {
   "cell_type": "code",
   "execution_count": 122,
   "id": "dc561c55",
   "metadata": {},
   "outputs": [
    {
     "data": {
      "text/plain": [
       "65"
      ]
     },
     "execution_count": 122,
     "metadata": {},
     "output_type": "execute_result"
    }
   ],
   "source": [
    "bills.pop(-3)"
   ]
  },
  {
   "cell_type": "code",
   "execution_count": 123,
   "id": "3b4b5ddc",
   "metadata": {},
   "outputs": [
    {
     "data": {
      "text/plain": [
       "[12, 32, 64, 200, 75, 23, 25, 56]"
      ]
     },
     "execution_count": 123,
     "metadata": {},
     "output_type": "execute_result"
    }
   ],
   "source": [
    "bills"
   ]
  },
  {
   "cell_type": "code",
   "execution_count": 124,
   "id": "2fc279bb",
   "metadata": {},
   "outputs": [],
   "source": [
    "bills.insert(2,100)"
   ]
  },
  {
   "cell_type": "code",
   "execution_count": 125,
   "id": "e8da27a1",
   "metadata": {},
   "outputs": [
    {
     "data": {
      "text/plain": [
       "[12, 32, 100, 64, 200, 75, 23, 25, 56]"
      ]
     },
     "execution_count": 125,
     "metadata": {},
     "output_type": "execute_result"
    }
   ],
   "source": [
    "bills"
   ]
  },
  {
   "cell_type": "code",
   "execution_count": 126,
   "id": "b56d8825",
   "metadata": {},
   "outputs": [],
   "source": [
    "bills.append(50)"
   ]
  },
  {
   "cell_type": "code",
   "execution_count": 127,
   "id": "e93bae72",
   "metadata": {},
   "outputs": [
    {
     "data": {
      "text/plain": [
       "[12, 32, 100, 64, 200, 75, 23, 25, 56, 50]"
      ]
     },
     "execution_count": 127,
     "metadata": {},
     "output_type": "execute_result"
    }
   ],
   "source": [
    "bills"
   ]
  },
  {
   "cell_type": "code",
   "execution_count": 128,
   "id": "db515c25",
   "metadata": {},
   "outputs": [],
   "source": [
    "# del\n",
    "del bills[2:4]"
   ]
  },
  {
   "cell_type": "code",
   "execution_count": 129,
   "id": "b8bb4686",
   "metadata": {},
   "outputs": [
    {
     "data": {
      "text/plain": [
       "[12, 32, 200, 75, 23, 25, 56, 50]"
      ]
     },
     "execution_count": 129,
     "metadata": {},
     "output_type": "execute_result"
    }
   ],
   "source": [
    "bills"
   ]
  },
  {
   "cell_type": "code",
   "execution_count": 130,
   "id": "1f993cc8",
   "metadata": {},
   "outputs": [],
   "source": [
    "#del bills[:]"
   ]
  },
  {
   "cell_type": "code",
   "execution_count": 133,
   "id": "3ea72062",
   "metadata": {},
   "outputs": [
    {
     "data": {
      "text/plain": [
       "[]"
      ]
     },
     "execution_count": 133,
     "metadata": {},
     "output_type": "execute_result"
    }
   ],
   "source": [
    "bills"
   ]
  },
  {
   "cell_type": "code",
   "execution_count": 135,
   "id": "07e7ef93",
   "metadata": {},
   "outputs": [
    {
     "data": {
      "text/plain": [
       "[12, 32, 200, 75, 23, 25, 56, 50, 12, 54, 34]"
      ]
     },
     "execution_count": 135,
     "metadata": {},
     "output_type": "execute_result"
    }
   ],
   "source": [
    "Bill = [12, 32, 200, 75, 23, 25, 56, 50]\n",
    "bill1  = [12,54,34]\n",
    "Bill + bill1"
   ]
  },
  {
   "cell_type": "code",
   "execution_count": 136,
   "id": "428b8d3a",
   "metadata": {},
   "outputs": [
    {
     "data": {
      "text/plain": [
       "[12, 32, 200, 75, 23, 25, 56, 50]"
      ]
     },
     "execution_count": 136,
     "metadata": {},
     "output_type": "execute_result"
    }
   ],
   "source": [
    "Bill"
   ]
  },
  {
   "cell_type": "code",
   "execution_count": 140,
   "id": "e1a970d7",
   "metadata": {},
   "outputs": [],
   "source": [
    "bill1.extend(Bill)"
   ]
  },
  {
   "cell_type": "code",
   "execution_count": 141,
   "id": "58a950d1",
   "metadata": {},
   "outputs": [
    {
     "data": {
      "text/plain": [
       "[12, 32, 200, 75, 23, 25, 56, 50, 12, 54, 34]"
      ]
     },
     "execution_count": 141,
     "metadata": {},
     "output_type": "execute_result"
    }
   ],
   "source": [
    "Bill"
   ]
  },
  {
   "cell_type": "code",
   "execution_count": 142,
   "id": "c7d7b233",
   "metadata": {},
   "outputs": [
    {
     "data": {
      "text/plain": [
       "[12, 54, 34, 12, 32, 200, 75, 23, 25, 56, 50, 12, 54, 34]"
      ]
     },
     "execution_count": 142,
     "metadata": {},
     "output_type": "execute_result"
    }
   ],
   "source": [
    "bill1"
   ]
  },
  {
   "cell_type": "code",
   "execution_count": 147,
   "id": "1323ed71",
   "metadata": {},
   "outputs": [],
   "source": [
    "bill1.clear()"
   ]
  },
  {
   "cell_type": "code",
   "execution_count": 148,
   "id": "cbeb9c90",
   "metadata": {},
   "outputs": [
    {
     "data": {
      "text/plain": [
       "[]"
      ]
     },
     "execution_count": 148,
     "metadata": {},
     "output_type": "execute_result"
    }
   ],
   "source": [
    "bill1"
   ]
  },
  {
   "cell_type": "code",
   "execution_count": 149,
   "id": "121eab45",
   "metadata": {},
   "outputs": [
    {
     "data": {
      "text/plain": [
       "[12, 32, 200, 75, 23, 25, 56, 50, 12, 54, 34]"
      ]
     },
     "execution_count": 149,
     "metadata": {},
     "output_type": "execute_result"
    }
   ],
   "source": [
    "Bill"
   ]
  },
  {
   "cell_type": "code",
   "execution_count": 150,
   "id": "d11e6603",
   "metadata": {},
   "outputs": [
    {
     "data": {
      "text/plain": [
       "11"
      ]
     },
     "execution_count": 150,
     "metadata": {},
     "output_type": "execute_result"
    }
   ],
   "source": [
    "len(Bill)"
   ]
  },
  {
   "cell_type": "code",
   "execution_count": 153,
   "id": "60fe0974",
   "metadata": {},
   "outputs": [],
   "source": [
    "del Bill[8:11]"
   ]
  },
  {
   "cell_type": "code",
   "execution_count": 154,
   "id": "99ce8538",
   "metadata": {},
   "outputs": [
    {
     "data": {
      "text/plain": [
       "[12, 32, 200, 75, 23, 25, 56, 50]"
      ]
     },
     "execution_count": 154,
     "metadata": {},
     "output_type": "execute_result"
    }
   ],
   "source": [
    "Bill"
   ]
  },
  {
   "cell_type": "code",
   "execution_count": null,
   "id": "58bd315b",
   "metadata": {},
   "outputs": [],
   "source": [
    "# add in list\n",
    "# append, insert, extend,+\n",
    "# remove in list\n",
    "# remove, pop, del"
   ]
  },
  {
   "cell_type": "code",
   "execution_count": 155,
   "id": "834f0c1d",
   "metadata": {},
   "outputs": [],
   "source": [
    "a = [1,2,3]\n",
    "b = [4,5,6]\n",
    "a.extend(b)"
   ]
  },
  {
   "cell_type": "code",
   "execution_count": 156,
   "id": "a2eb3532",
   "metadata": {},
   "outputs": [
    {
     "data": {
      "text/plain": [
       "[1, 2, 3, 4, 5, 6]"
      ]
     },
     "execution_count": 156,
     "metadata": {},
     "output_type": "execute_result"
    }
   ],
   "source": [
    "a"
   ]
  },
  {
   "cell_type": "code",
   "execution_count": 157,
   "id": "8d6211e5",
   "metadata": {},
   "outputs": [
    {
     "data": {
      "text/plain": [
       "[4, 5, 6]"
      ]
     },
     "execution_count": 157,
     "metadata": {},
     "output_type": "execute_result"
    }
   ],
   "source": [
    "b"
   ]
  },
  {
   "cell_type": "code",
   "execution_count": 158,
   "id": "815668cc",
   "metadata": {},
   "outputs": [],
   "source": [
    "b.extend(a)"
   ]
  },
  {
   "cell_type": "code",
   "execution_count": 184,
   "id": "4061226d",
   "metadata": {},
   "outputs": [
    {
     "data": {
      "text/plain": [
       "[6, 7, 8, 3, 4, 5]"
      ]
     },
     "execution_count": 184,
     "metadata": {},
     "output_type": "execute_result"
    }
   ],
   "source": [
    "a = [3,4,5]\n",
    "b = [6,7,8]\n",
    "b.extend(a)\n",
    "b"
   ]
  },
  {
   "cell_type": "code",
   "execution_count": 164,
   "id": "5d959d05",
   "metadata": {},
   "outputs": [
    {
     "data": {
      "text/plain": [
       "'Building'"
      ]
     },
     "execution_count": 164,
     "metadata": {},
     "output_type": "execute_result"
    }
   ],
   "source": [
    "# concatination\n",
    "\n",
    "a = \"Bui\"\n",
    "b = \"lding\"\n",
    "c = a + b\n",
    "c"
   ]
  },
  {
   "cell_type": "code",
   "execution_count": 165,
   "id": "edd1416e",
   "metadata": {},
   "outputs": [
    {
     "data": {
      "text/plain": [
       "[1, 2, 3, 3, 4, 5]"
      ]
     },
     "execution_count": 165,
     "metadata": {},
     "output_type": "execute_result"
    }
   ],
   "source": [
    "# list\n",
    "a = [1,2,3]\n",
    "b = [3,4,5]\n",
    "c = a+b\n",
    "c"
   ]
  },
  {
   "cell_type": "code",
   "execution_count": 166,
   "id": "272c117c",
   "metadata": {},
   "outputs": [
    {
     "data": {
      "text/plain": [
       "(1, 2, 3, 3, 4, 5)"
      ]
     },
     "execution_count": 166,
     "metadata": {},
     "output_type": "execute_result"
    }
   ],
   "source": [
    "#tuple\n",
    "a = (1,2,3)\n",
    "b = (3,4,5)\n",
    "c = a + b\n",
    "c"
   ]
  },
  {
   "cell_type": "code",
   "execution_count": 169,
   "id": "c466ff76",
   "metadata": {},
   "outputs": [
    {
     "data": {
      "text/plain": [
       "{3}"
      ]
     },
     "execution_count": 169,
     "metadata": {},
     "output_type": "execute_result"
    }
   ],
   "source": [
    "# set\n",
    "a = {1,2,3}\n",
    "b = {3,4,5}\n",
    "c = a.intersection(b)\n",
    "c"
   ]
  },
  {
   "cell_type": "code",
   "execution_count": 170,
   "id": "4e39f4ff",
   "metadata": {},
   "outputs": [
    {
     "data": {
      "text/plain": [
       "11"
      ]
     },
     "execution_count": 170,
     "metadata": {},
     "output_type": "execute_result"
    }
   ],
   "source": [
    "a = 5\n",
    "b = 6\n",
    "c = a + b\n",
    "c"
   ]
  },
  {
   "cell_type": "code",
   "execution_count": 185,
   "id": "12c342e0",
   "metadata": {},
   "outputs": [
    {
     "data": {
      "text/plain": [
       "[1, 2, 3]"
      ]
     },
     "execution_count": 185,
     "metadata": {},
     "output_type": "execute_result"
    }
   ],
   "source": [
    "# list and tuple are almost same exept 1 tuple immutable\n",
    "var = [[1,2,3],2,3,4,\"a\"]\n",
    "var[0]\n"
   ]
  },
  {
   "cell_type": "code",
   "execution_count": 186,
   "id": "96c8410d",
   "metadata": {},
   "outputs": [
    {
     "data": {
      "text/plain": [
       "list"
      ]
     },
     "execution_count": 186,
     "metadata": {},
     "output_type": "execute_result"
    }
   ],
   "source": [
    "type(var)"
   ]
  },
  {
   "cell_type": "code",
   "execution_count": 195,
   "id": "1c44d21d",
   "metadata": {},
   "outputs": [
    {
     "data": {
      "text/plain": [
       "[100, 2, 3, 4, 'a']"
      ]
     },
     "execution_count": 195,
     "metadata": {},
     "output_type": "execute_result"
    }
   ],
   "source": [
    "var"
   ]
  },
  {
   "cell_type": "code",
   "execution_count": 207,
   "id": "2dbf247d",
   "metadata": {},
   "outputs": [],
   "source": [
    "var= [[1,2,3],4,5,6]\n",
    "var[0][2]=100"
   ]
  },
  {
   "cell_type": "code",
   "execution_count": 208,
   "id": "dd3c2ed1",
   "metadata": {},
   "outputs": [
    {
     "data": {
      "text/plain": [
       "[[1, 2, 100], 4, 5, 6]"
      ]
     },
     "execution_count": 208,
     "metadata": {},
     "output_type": "execute_result"
    }
   ],
   "source": [
    "var"
   ]
  },
  {
   "cell_type": "raw",
   "id": "fbf77a69",
   "metadata": {},
   "source": []
  },
  {
   "cell_type": "code",
   "execution_count": 212,
   "id": "47674f18",
   "metadata": {},
   "outputs": [],
   "source": [
    "var = ([11,12],1,2,3)\n",
    "var[0][1]=100"
   ]
  },
  {
   "cell_type": "code",
   "execution_count": 213,
   "id": "6c50eac4",
   "metadata": {},
   "outputs": [
    {
     "data": {
      "text/plain": [
       "([11, 100], 1, 2, 3)"
      ]
     },
     "execution_count": 213,
     "metadata": {},
     "output_type": "execute_result"
    }
   ],
   "source": [
    "var"
   ]
  },
  {
   "cell_type": "raw",
   "id": "469b967a",
   "metadata": {},
   "source": [
    "list(var)"
   ]
  },
  {
   "cell_type": "code",
   "execution_count": 214,
   "id": "3f210276",
   "metadata": {},
   "outputs": [
    {
     "data": {
      "text/plain": [
       "([11, 100], 1, 2, 3)"
      ]
     },
     "execution_count": 214,
     "metadata": {},
     "output_type": "execute_result"
    }
   ],
   "source": [
    "var"
   ]
  },
  {
   "cell_type": "code",
   "execution_count": 215,
   "id": "d40fdaea",
   "metadata": {},
   "outputs": [
    {
     "data": {
      "text/plain": [
       "tuple"
      ]
     },
     "execution_count": 215,
     "metadata": {},
     "output_type": "execute_result"
    }
   ],
   "source": [
    "type(var)"
   ]
  },
  {
   "cell_type": "code",
   "execution_count": 218,
   "id": "eb1d7913",
   "metadata": {},
   "outputs": [],
   "source": [
    "var[0][0]=200"
   ]
  },
  {
   "cell_type": "code",
   "execution_count": 219,
   "id": "8863201a",
   "metadata": {},
   "outputs": [
    {
     "data": {
      "text/plain": [
       "([200, 100], 1, 2, 3)"
      ]
     },
     "execution_count": 219,
     "metadata": {},
     "output_type": "execute_result"
    }
   ],
   "source": [
    "var"
   ]
  },
  {
   "cell_type": "code",
   "execution_count": 222,
   "id": "860da438",
   "metadata": {},
   "outputs": [
    {
     "data": {
      "text/plain": [
       "1"
      ]
     },
     "execution_count": 222,
     "metadata": {},
     "output_type": "execute_result"
    }
   ],
   "source": [
    "var[1]"
   ]
  },
  {
   "cell_type": "code",
   "execution_count": 228,
   "id": "11e9d110",
   "metadata": {},
   "outputs": [
    {
     "data": {
      "text/plain": [
       "[[200, 100], 1, 2, 3]"
      ]
     },
     "execution_count": 228,
     "metadata": {},
     "output_type": "execute_result"
    }
   ],
   "source": [
    "list(var)"
   ]
  },
  {
   "cell_type": "code",
   "execution_count": 225,
   "id": "a9149859",
   "metadata": {},
   "outputs": [
    {
     "data": {
      "text/plain": [
       "([200, 100], 1, 2, 3)"
      ]
     },
     "execution_count": 225,
     "metadata": {},
     "output_type": "execute_result"
    }
   ],
   "source": [
    "var"
   ]
  },
  {
   "cell_type": "code",
   "execution_count": 233,
   "id": "b77b654b",
   "metadata": {},
   "outputs": [
    {
     "data": {
      "text/plain": [
       "list"
      ]
     },
     "execution_count": 233,
     "metadata": {},
     "output_type": "execute_result"
    }
   ],
   "source": [
    "bar = [[200, 100], 1, 2, 3]\n",
    "type(bar)"
   ]
  },
  {
   "cell_type": "code",
   "execution_count": 236,
   "id": "ea636e70",
   "metadata": {},
   "outputs": [
    {
     "data": {
      "text/plain": [
       "([200, 100], 1, 2, 3)"
      ]
     },
     "execution_count": 236,
     "metadata": {},
     "output_type": "execute_result"
    }
   ],
   "source": [
    "tuple(bar)"
   ]
  },
  {
   "cell_type": "code",
   "execution_count": 243,
   "id": "7813832a",
   "metadata": {},
   "outputs": [
    {
     "data": {
      "text/plain": [
       "28"
      ]
     },
     "execution_count": 243,
     "metadata": {},
     "output_type": "execute_result"
    }
   ],
   "source": [
    "a = (1,2,3,4,5,6,7)\n",
    "b = (8,9,10,11,12,13)\n",
    "c = a + b\n",
    "sum(a)"
   ]
  },
  {
   "cell_type": "code",
   "execution_count": 244,
   "id": "d0221a8e",
   "metadata": {},
   "outputs": [
    {
     "data": {
      "text/plain": [
       "7"
      ]
     },
     "execution_count": 244,
     "metadata": {},
     "output_type": "execute_result"
    }
   ],
   "source": [
    "len(a)"
   ]
  },
  {
   "cell_type": "code",
   "execution_count": 245,
   "id": "e5739723",
   "metadata": {},
   "outputs": [
    {
     "data": {
      "text/plain": [
       "7"
      ]
     },
     "execution_count": 245,
     "metadata": {},
     "output_type": "execute_result"
    }
   ],
   "source": [
    "max(a)"
   ]
  },
  {
   "cell_type": "code",
   "execution_count": 246,
   "id": "e1d2602e",
   "metadata": {},
   "outputs": [
    {
     "data": {
      "text/plain": [
       "1"
      ]
     },
     "execution_count": 246,
     "metadata": {},
     "output_type": "execute_result"
    }
   ],
   "source": [
    "min(a)"
   ]
  },
  {
   "cell_type": "code",
   "execution_count": 247,
   "id": "031fd3aa",
   "metadata": {},
   "outputs": [
    {
     "data": {
      "text/plain": [
       "4.0"
      ]
     },
     "execution_count": 247,
     "metadata": {},
     "output_type": "execute_result"
    }
   ],
   "source": [
    "sum(a)/7"
   ]
  },
  {
   "cell_type": "code",
   "execution_count": 248,
   "id": "bad46f72",
   "metadata": {},
   "outputs": [
    {
     "data": {
      "text/plain": [
       "(1, 2, 3, 4, 5, 6, 7, 8, 9, 10, 11, 12, 13)"
      ]
     },
     "execution_count": 248,
     "metadata": {},
     "output_type": "execute_result"
    }
   ],
   "source": [
    "a + b"
   ]
  },
  {
   "cell_type": "code",
   "execution_count": null,
   "id": "b7898258",
   "metadata": {},
   "outputs": [],
   "source": [
    "# list \n",
    "ordered\n",
    "duplicate support\n",
    "sicing\n",
    "indexing\n",
    "mutable\n",
    "set\n",
    "unodered\n",
    "unique\n",
    "no slicing\n",
    "no indexing\n",
    "mutable"
   ]
  },
  {
   "cell_type": "markdown",
   "id": "36879ffa",
   "metadata": {},
   "source": [
    "# set"
   ]
  },
  {
   "cell_type": "code",
   "execution_count": 249,
   "id": "107a6899",
   "metadata": {},
   "outputs": [],
   "source": [
    "set1 = {1,2,3,4,5}\n",
    "set1.add(6)"
   ]
  },
  {
   "cell_type": "code",
   "execution_count": 254,
   "id": "76c063d4",
   "metadata": {},
   "outputs": [
    {
     "data": {
      "text/plain": [
       "{1, 2, 3, 4, 5, 6}"
      ]
     },
     "execution_count": 254,
     "metadata": {},
     "output_type": "execute_result"
    }
   ],
   "source": [
    "set1"
   ]
  },
  {
   "cell_type": "code",
   "execution_count": 255,
   "id": "5701fcbf",
   "metadata": {},
   "outputs": [
    {
     "data": {
      "text/plain": [
       "6"
      ]
     },
     "execution_count": 255,
     "metadata": {},
     "output_type": "execute_result"
    }
   ],
   "source": [
    "len(set1)"
   ]
  },
  {
   "cell_type": "code",
   "execution_count": 257,
   "id": "0b4213ae",
   "metadata": {},
   "outputs": [
    {
     "data": {
      "text/plain": [
       "1"
      ]
     },
     "execution_count": 257,
     "metadata": {},
     "output_type": "execute_result"
    }
   ],
   "source": [
    "min(set1)"
   ]
  },
  {
   "cell_type": "code",
   "execution_count": 261,
   "id": "8999a6aa",
   "metadata": {},
   "outputs": [
    {
     "data": {
      "text/plain": [
       "{1, 2, 3, 4, 5, 6, 7}"
      ]
     },
     "execution_count": 261,
     "metadata": {},
     "output_type": "execute_result"
    }
   ],
   "source": [
    "bar = [1, 2, 3,3,4,5,6,6,7]\n",
    "set(bar)"
   ]
  },
  {
   "cell_type": "code",
   "execution_count": 262,
   "id": "23cfbbc5",
   "metadata": {},
   "outputs": [
    {
     "data": {
      "text/plain": [
       "[1, 2, 3, 3, 4, 5, 6, 6, 7]"
      ]
     },
     "execution_count": 262,
     "metadata": {},
     "output_type": "execute_result"
    }
   ],
   "source": [
    "bar"
   ]
  },
  {
   "cell_type": "code",
   "execution_count": 268,
   "id": "20508d1b",
   "metadata": {},
   "outputs": [],
   "source": [
    "set ={1,2,3,4,5}\n",
    "set2 = {5,6,7,8}\n",
    "set.add(7)"
   ]
  },
  {
   "cell_type": "code",
   "execution_count": 269,
   "id": "512d3f1f",
   "metadata": {},
   "outputs": [
    {
     "data": {
      "text/plain": [
       "{1, 2, 3, 4, 5, 7}"
      ]
     },
     "execution_count": 269,
     "metadata": {},
     "output_type": "execute_result"
    }
   ],
   "source": [
    "set"
   ]
  },
  {
   "cell_type": "code",
   "execution_count": 270,
   "id": "d13bd44b",
   "metadata": {},
   "outputs": [],
   "source": [
    "set.remove(7)"
   ]
  },
  {
   "cell_type": "code",
   "execution_count": 271,
   "id": "cf542e63",
   "metadata": {},
   "outputs": [
    {
     "data": {
      "text/plain": [
       "{1, 2, 3, 4, 5}"
      ]
     },
     "execution_count": 271,
     "metadata": {},
     "output_type": "execute_result"
    }
   ],
   "source": [
    "set"
   ]
  },
  {
   "cell_type": "code",
   "execution_count": 277,
   "id": "c4b9aaf2",
   "metadata": {},
   "outputs": [],
   "source": [
    "set2.update(set)"
   ]
  },
  {
   "cell_type": "code",
   "execution_count": 278,
   "id": "8e76acba",
   "metadata": {},
   "outputs": [
    {
     "data": {
      "text/plain": [
       "{1, 2, 3, 4, 5, 6, 7, 8}"
      ]
     },
     "execution_count": 278,
     "metadata": {},
     "output_type": "execute_result"
    }
   ],
   "source": [
    "set"
   ]
  },
  {
   "cell_type": "code",
   "execution_count": 283,
   "id": "36093933",
   "metadata": {},
   "outputs": [
    {
     "data": {
      "text/plain": [
       "{1, 2, 3, 4, 5, 6, 7, 8}"
      ]
     },
     "execution_count": 283,
     "metadata": {},
     "output_type": "execute_result"
    }
   ],
   "source": [
    "set2"
   ]
  },
  {
   "cell_type": "code",
   "execution_count": 295,
   "id": "2e328850",
   "metadata": {},
   "outputs": [
    {
     "data": {
      "text/plain": [
       "{3}"
      ]
     },
     "execution_count": 295,
     "metadata": {},
     "output_type": "execute_result"
    }
   ],
   "source": [
    "# update,add, remove, intersection, union, -, difference\n",
    "\n",
    "s1= {1,2,3}\n",
    "s2 = {3,4,5}\n",
    "s2.intersection(s1)"
   ]
  },
  {
   "cell_type": "code",
   "execution_count": 296,
   "id": "3938091e",
   "metadata": {},
   "outputs": [
    {
     "data": {
      "text/plain": [
       "{1, 2}"
      ]
     },
     "execution_count": 296,
     "metadata": {},
     "output_type": "execute_result"
    }
   ],
   "source": [
    " s1 - s2"
   ]
  },
  {
   "cell_type": "code",
   "execution_count": 297,
   "id": "2667ac72",
   "metadata": {},
   "outputs": [
    {
     "data": {
      "text/plain": [
       "{4, 5}"
      ]
     },
     "execution_count": 297,
     "metadata": {},
     "output_type": "execute_result"
    }
   ],
   "source": [
    "s2- s1"
   ]
  },
  {
   "cell_type": "code",
   "execution_count": 298,
   "id": "7734e596",
   "metadata": {},
   "outputs": [
    {
     "data": {
      "text/plain": [
       "{1, 2}"
      ]
     },
     "execution_count": 298,
     "metadata": {},
     "output_type": "execute_result"
    }
   ],
   "source": [
    "s1.difference(s2)"
   ]
  },
  {
   "cell_type": "code",
   "execution_count": 302,
   "id": "0c35bff3",
   "metadata": {},
   "outputs": [
    {
     "data": {
      "text/plain": [
       "list"
      ]
     },
     "execution_count": 302,
     "metadata": {},
     "output_type": "execute_result"
    }
   ],
   "source": [
    "list1 = [1,2,3,4,5,6,5]\n",
    "type(list1)"
   ]
  },
  {
   "cell_type": "code",
   "execution_count": 306,
   "id": "9a1bb565",
   "metadata": {},
   "outputs": [
    {
     "data": {
      "text/plain": [
       "(1, 2, 3, 4, 5, 6, 5)"
      ]
     },
     "execution_count": 306,
     "metadata": {},
     "output_type": "execute_result"
    }
   ],
   "source": [
    "tuple(list1)"
   ]
  },
  {
   "cell_type": "code",
   "execution_count": 307,
   "id": "6240d652",
   "metadata": {},
   "outputs": [],
   "source": [
    "s1.add(7)"
   ]
  },
  {
   "cell_type": "code",
   "execution_count": 308,
   "id": "4c8011be",
   "metadata": {},
   "outputs": [
    {
     "data": {
      "text/plain": [
       "{1, 2, 3, 7}"
      ]
     },
     "execution_count": 308,
     "metadata": {},
     "output_type": "execute_result"
    }
   ],
   "source": [
    "s1"
   ]
  },
  {
   "cell_type": "code",
   "execution_count": 309,
   "id": "af98e7fd",
   "metadata": {},
   "outputs": [
    {
     "data": {
      "text/plain": [
       "{3, 4, 5}"
      ]
     },
     "execution_count": 309,
     "metadata": {},
     "output_type": "execute_result"
    }
   ],
   "source": [
    "s2"
   ]
  },
  {
   "cell_type": "code",
   "execution_count": null,
   "id": "00401e53",
   "metadata": {},
   "outputs": [],
   "source": []
  }
 ],
 "metadata": {
  "kernelspec": {
   "display_name": "Python 3 (ipykernel)",
   "language": "python",
   "name": "python3"
  },
  "language_info": {
   "codemirror_mode": {
    "name": "ipython",
    "version": 3
   },
   "file_extension": ".py",
   "mimetype": "text/x-python",
   "name": "python",
   "nbconvert_exporter": "python",
   "pygments_lexer": "ipython3",
   "version": "3.11.5"
  }
 },
 "nbformat": 4,
 "nbformat_minor": 5
}
